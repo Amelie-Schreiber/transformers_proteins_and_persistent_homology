{
 "cells": [
  {
   "attachments": {},
   "cell_type": "markdown",
   "metadata": {},
   "source": [
    "# Visualizing Context Vectors of ESM2 for Motif Identification"
   ]
  },
  {
   "attachments": {},
   "cell_type": "markdown",
   "metadata": {},
   "source": [
    "In this notebook, we give a few examples of a visualization tool which allows us to visualize the $1$-skeleton (graph) of the filtered simplicial complex given by computing persistent homology of the context vectors. This allows us to look for simplices (edges, triangles, tetrahedra, etc.) with low distance threshold birth times. Finding such simplices can indicate which subsequences of the protein sequence might be motifs. Similar to how we analyze the persistent homology of keyphrases and collocations in multiple contexts in text, we can analyze the persistent homology of molecular motifs across different proteins or functional groups across different molecules. When we find a simplex with low distance threshold birth time, we can examine how the model treats this motif or functional group in another context, that is, in a different protein sequence. If the persistent homology is stable across different contexts for models that are known to perform better at protein sequence related tasks like protein folding, we can deduce that invariance of persistent homology across contexts is likely an important property to have. Then, we might include a topological term in the loss while training or use this for knowledge distillation, where the student model mimics the persistent homology representations of the teacher model. \n",
    "\n",
    "In the example visualizations below, try setting the distance threshold to a low value and look for triangles or tetrahedra that form at low distances. This will indicate you have found a likely motif or functional group in the protein sequence. You can also modify the `layer` and `head`, and substitute in your own protein sequence. "
   ]
  },
  {
   "cell_type": "code",
   "execution_count": null,
   "metadata": {},
   "outputs": [],
   "source": [
    "pip install umap-learn -q"
   ]
  },
  {
   "attachments": {},
   "cell_type": "markdown",
   "metadata": {},
   "source": [
    "## Using t-SNE"
   ]
  },
  {
   "cell_type": "code",
   "execution_count": null,
   "metadata": {},
   "outputs": [],
   "source": [
    "import torch\n",
    "import gudhi as gd\n",
    "import numpy as np\n",
    "import matplotlib.pyplot as plt\n",
    "import ipywidgets as widgets\n",
    "from scipy.spatial import distance_matrix\n",
    "from mpl_toolkits.mplot3d import Axes3D\n",
    "from transformers import AutoTokenizer, EsmModel\n",
    "from sklearn.decomposition import PCA\n",
    "from sklearn.manifold import TSNE\n",
    "\n",
    "\n",
    "tokenizer = AutoTokenizer.from_pretrained(\"facebook/esm2_t6_8M_UR50D\")\n",
    "\n",
    "def compute_output(sentence, layer, head):\n",
    "    # Load pre-trained model\n",
    "    global tokenizer\n",
    "    model = EsmModel.from_pretrained(\"facebook/esm2_t6_8M_UR50D\")\n",
    "\n",
    "    # Set the output_attentions attribute of the configuration to True\n",
    "    model.config.output_attentions = True\n",
    "\n",
    "    # Tokenize input and convert to tensor\n",
    "    inputs = tokenizer(sentence, return_tensors=\"pt\")\n",
    "\n",
    "    # Forward pass\n",
    "    outputs = model(**inputs, output_hidden_states=True)\n",
    "\n",
    "    # Obtain the attention weights\n",
    "    attentions = outputs.attentions\n",
    "\n",
    "    # Obtain the attention weights for the specific layer and head\n",
    "    S = attentions[layer][0, head]\n",
    "\n",
    "    # Obtain the value vectors\n",
    "    model.eval()\n",
    "    with torch.no_grad():\n",
    "        hidden_states = outputs.hidden_states[layer]\n",
    "        all_W_v = model.encoder.layer[layer].attention.self.value.weight\n",
    "        num_heads = model.config.num_attention_heads\n",
    "        head_dim = model.config.hidden_size // num_heads\n",
    "        W_v_heads = all_W_v.view(num_heads, head_dim, model.config.hidden_size)\n",
    "        W_v = W_v_heads[head]\n",
    "        V = torch.matmul(hidden_states, W_v.t())\n",
    "\n",
    "    # Compute the output O\n",
    "    O = torch.matmul(S, V)\n",
    "\n",
    "    return O, inputs\n",
    "\n",
    "# Compute the output\n",
    "output, inputs = compute_output(\"MGWGRKRR\", 0, 0)\n",
    "\n",
    "# Convert the output tensor to numpy array\n",
    "output_np = output.detach().numpy()[0]\n",
    "\n",
    "# Compute the pairwise Euclidean distance matrix\n",
    "distances = distance_matrix(output_np, output_np)\n",
    "\n",
    "# Compute the number of tokens\n",
    "num_tokens = len(inputs[\"input_ids\"][0])\n",
    "\n",
    "# Decompose output to 3D for visualization\n",
    "# pca = PCA(n_components=3)\n",
    "# output_3d = pca.fit_transform(output_np)\n",
    "\n",
    "# Decompose output to 3D for visualization using t-SNE\n",
    "tsne = TSNE(n_components=3, perplexity=num_tokens-1)  # Set perplexity to the number of tokens\n",
    "output_3d = tsne.fit_transform(output_np)\n",
    "\n",
    "# Define the function to update the plot\n",
    "def update_plot(eps):\n",
    "    fig = plt.figure()\n",
    "    ax = fig.add_subplot(111, projection='3d')\n",
    "    ax.scatter(output_3d[:, 0], output_3d[:, 1], output_3d[:, 2])\n",
    "    \n",
    "    # Add labels\n",
    "    for i, token_id in enumerate(inputs['input_ids'][0]):\n",
    "        ax.text(output_3d[i, 0], output_3d[i, 1], output_3d[i, 2], tokenizer.decode([token_id]))\n",
    "    \n",
    "    # Add edges\n",
    "    for i in range(distances.shape[0]):\n",
    "        for j in range(i+1, distances.shape[1]):\n",
    "            if distances[i, j] <= eps:\n",
    "                ax.plot([output_3d[i, 0], output_3d[j, 0]], \n",
    "                        [output_3d[i, 1], output_3d[j, 1]], \n",
    "                        [output_3d[i, 2], output_3d[j, 2]], 'b-')\n",
    "\n",
    "    plt.show()\n",
    "\n",
    "# Create the interactive widget for the threshold distance parameter\n",
    "eps_slider = widgets.FloatSlider(min=0, max=np.max(distances), step=0.01, value=0)\n",
    "widgets.interactive(update_plot, eps=eps_slider)\n"
   ]
  },
  {
   "attachments": {},
   "cell_type": "markdown",
   "metadata": {},
   "source": [
    "## Using UMAP"
   ]
  },
  {
   "cell_type": "code",
   "execution_count": null,
   "metadata": {},
   "outputs": [],
   "source": [
    "import torch\n",
    "import gudhi as gd\n",
    "import numpy as np\n",
    "import matplotlib.pyplot as plt\n",
    "import ipywidgets as widgets\n",
    "from scipy.spatial import distance_matrix\n",
    "from mpl_toolkits.mplot3d import Axes3D\n",
    "from transformers import AutoTokenizer, EsmModel\n",
    "from sklearn.decomposition import PCA\n",
    "from umap.umap_ import UMAP\n",
    "\n",
    "\n",
    "tokenizer = AutoTokenizer.from_pretrained(\"facebook/esm2_t6_8M_UR50D\")\n",
    "\n",
    "def compute_output(sentence, layer, head):\n",
    "    # Load pre-trained model\n",
    "    global tokenizer\n",
    "    model = EsmModel.from_pretrained(\"facebook/esm2_t6_8M_UR50D\")\n",
    "\n",
    "    # Set the output_attentions attribute of the configuration to True\n",
    "    model.config.output_attentions = True\n",
    "\n",
    "    # Tokenize input and convert to tensor\n",
    "    inputs = tokenizer(sentence, return_tensors=\"pt\")\n",
    "\n",
    "    # Forward pass\n",
    "    outputs = model(**inputs, output_hidden_states=True)\n",
    "\n",
    "    # Obtain the attention weights\n",
    "    attentions = outputs.attentions\n",
    "\n",
    "    # Obtain the attention weights for the specific layer and head\n",
    "    S = attentions[layer][0, head]\n",
    "\n",
    "    # Obtain the value vectors\n",
    "    model.eval()\n",
    "    with torch.no_grad():\n",
    "        hidden_states = outputs.hidden_states[layer]\n",
    "        all_W_v = model.encoder.layer[layer].attention.self.value.weight\n",
    "        num_heads = model.config.num_attention_heads\n",
    "        head_dim = model.config.hidden_size // num_heads\n",
    "        W_v_heads = all_W_v.view(num_heads, head_dim, model.config.hidden_size)\n",
    "        W_v = W_v_heads[head]\n",
    "        V = torch.matmul(hidden_states, W_v.t())\n",
    "\n",
    "    # Compute the output O\n",
    "    O = torch.matmul(S, V)\n",
    "\n",
    "    return O, inputs\n",
    "\n",
    "# Compute the output\n",
    "output, inputs = compute_output(\"MGWGRKRR\", 0, 0)\n",
    "\n",
    "# Convert the output tensor to numpy array\n",
    "output_np = output.detach().numpy()[0]\n",
    "\n",
    "# Compute the pairwise Euclidean distance matrix\n",
    "distances = distance_matrix(output_np, output_np)\n",
    "\n",
    "# Compute the number of tokens\n",
    "num_tokens = len(inputs[\"input_ids\"][0])\n",
    "\n",
    "# Decompose output to 3D for visualization using UMAP\n",
    "umap = UMAP(n_components=3)  # Set n_components to 3\n",
    "output_3d = umap.fit_transform(output_np)\n",
    "\n",
    "# Define the function to update the plot\n",
    "def update_plot(eps):\n",
    "    fig = plt.figure()\n",
    "    ax = fig.add_subplot(111, projection='3d')\n",
    "    ax.scatter(output_3d[:, 0], output_3d[:, 1], output_3d[:, 2])\n",
    "    \n",
    "    # Add labels\n",
    "    for i, token_id in enumerate(inputs['input_ids'][0]):\n",
    "        ax.text(output_3d[i, 0], output_3d[i, 1], output_3d[i, 2], tokenizer.decode([token_id]))\n",
    "    \n",
    "    # Add edges\n",
    "    for i in range(distances.shape[0]):\n",
    "        for j in range(i+1, distances.shape[1]):\n",
    "            if distances[i, j] <= eps:\n",
    "                ax.plot([output_3d[i, 0], output_3d[j, 0]], \n",
    "                        [output_3d[i, 1], output_3d[j, 1]], \n",
    "                        [output_3d[i, 2], output_3d[j, 2]], 'b-')\n",
    "\n",
    "    plt.show()\n",
    "\n",
    "# Create the interactive widget for the threshold distance parameter\n",
    "eps_slider = widgets.FloatSlider(min=0, max=np.max(distances), step=0.01, value=0)\n",
    "widgets.interactive(update_plot, eps=eps_slider)\n"
   ]
  },
  {
   "attachments": {},
   "cell_type": "markdown",
   "metadata": {},
   "source": [
    "## Interactive Plot with UMAP"
   ]
  },
  {
   "cell_type": "code",
   "execution_count": 25,
   "metadata": {},
   "outputs": [
    {
     "name": "stderr",
     "output_type": "stream",
     "text": [
      "Some weights of the model checkpoint at facebook/esm2_t6_8M_UR50D were not used when initializing EsmModel: ['lm_head.bias', 'lm_head.dense.bias', 'lm_head.layer_norm.bias', 'lm_head.dense.weight', 'lm_head.layer_norm.weight']\n",
      "- This IS expected if you are initializing EsmModel from the checkpoint of a model trained on another task or with another architecture (e.g. initializing a BertForSequenceClassification model from a BertForPreTraining model).\n",
      "- This IS NOT expected if you are initializing EsmModel from the checkpoint of a model that you expect to be exactly identical (initializing a BertForSequenceClassification model from a BertForSequenceClassification model).\n",
      "Some weights of EsmModel were not initialized from the model checkpoint at facebook/esm2_t6_8M_UR50D and are newly initialized: ['esm.pooler.dense.weight', 'esm.pooler.dense.bias']\n",
      "You should probably TRAIN this model on a down-stream task to be able to use it for predictions and inference.\n"
     ]
    },
    {
     "data": {
      "application/vnd.plotly.v1+json": {
       "config": {
        "plotlyServerURL": "https://plot.ly"
       },
       "data": [
        {
         "hovertemplate": "%{text}<br>x: %{x}<br>y: %{y}<br>z: %{z}<extra></extra>",
         "marker": {
          "color": "rgb(100, 150, 200)",
          "colorscale": [
           [
            0,
            "#440154"
           ],
           [
            0.1111111111111111,
            "#482878"
           ],
           [
            0.2222222222222222,
            "#3e4989"
           ],
           [
            0.3333333333333333,
            "#31688e"
           ],
           [
            0.4444444444444444,
            "#26828e"
           ],
           [
            0.5555555555555556,
            "#1f9e89"
           ],
           [
            0.6666666666666666,
            "#35b779"
           ],
           [
            0.7777777777777778,
            "#6ece58"
           ],
           [
            0.8888888888888888,
            "#b5de2b"
           ],
           [
            1,
            "#fde725"
           ]
          ],
          "opacity": 0.8,
          "size": 6
         },
         "mode": "markers+text",
         "text": [
          "<cls>",
          "M",
          "A",
          "V",
          "E",
          "S",
          "R",
          "V",
          "T",
          "Q",
          "E",
          "E",
          "I",
          "K",
          "K",
          "E",
          "P",
          "E",
          "K",
          "P",
          "I",
          "D",
          "R",
          "E",
          "K",
          "T",
          "C",
          "P",
          "L",
          "L",
          "L",
          "R",
          "V",
          "F",
          "T",
          "T",
          "N",
          "N",
          "G",
          "R",
          "H",
          "H",
          "R",
          "M",
          "D",
          "E",
          "F",
          "S",
          "R",
          "G",
          "N",
          "V",
          "P",
          "S",
          "S",
          "E",
          "L",
          "Q",
          "I",
          "Y",
          "T",
          "W",
          "M",
          "D",
          "A",
          "T",
          "L",
          "K",
          "E",
          "L",
          "T",
          "S",
          "L",
          "V",
          "K",
          "E",
          "V",
          "Y",
          "P",
          "E",
          "A",
          "R",
          "K",
          "K",
          "G",
          "T",
          "H",
          "F",
          "N",
          "F",
          "A",
          "I",
          "V",
          "F",
          "T",
          "D",
          "V",
          "K",
          "R",
          "P",
          "G",
          "Y",
          "R",
          "V",
          "K",
          "E",
          "I",
          "G",
          "S",
          "T",
          "M",
          "S",
          "G",
          "R",
          "K",
          "G",
          "T",
          "D",
          "D",
          "S",
          "M",
          "T",
          "L",
          "Q",
          "S",
          "Q",
          "K",
          "F",
          "Q",
          "I",
          "G",
          "D",
          "Y",
          "L",
          "D",
          "I",
          "A",
          "I",
          "T",
          "P",
          "P",
          "N",
          "R",
          "A",
          "P",
          "P",
          "P",
          "S",
          "G",
          "R",
          "M",
          "R",
          "P",
          "Y",
          "<eos>"
         ],
         "textposition": "top center",
         "type": "scatter3d",
         "x": [
          5.440034866333008,
          5.550946235656738,
          5.600833892822266,
          5.687580108642578,
          5.792695045471191,
          5.9100341796875,
          5.9259538650512695,
          6.013434886932373,
          6.068075180053711,
          5.941795349121094,
          5.940016269683838,
          5.798224925994873,
          5.927105903625488,
          5.918923377990723,
          5.994767189025879,
          5.931004047393799,
          5.92656946182251,
          5.934810638427734,
          6.051384449005127,
          6.03824520111084,
          6.514524459838867,
          6.86892032623291,
          6.322822570800781,
          7.4470133781433105,
          6.733548641204834,
          7.191549777984619,
          7.472703456878662,
          7.71330451965332,
          8.539530754089355,
          8.514833450317383,
          8.914133071899414,
          8.309041023254395,
          10.317582130432129,
          8.838356018066406,
          7.77720308303833,
          7.273307800292969,
          7.660222053527832,
          7.732123851776123,
          10.67870044708252,
          9.882062911987305,
          10.129796028137207,
          10.897443771362305,
          10.794622421264648,
          9.555150032043457,
          9.464798927307129,
          11.236014366149902,
          8.649991035461426,
          9.419663429260254,
          8.805862426757812,
          10.46035099029541,
          9.023709297180176,
          9.804802894592285,
          12.925372123718262,
          7.758894443511963,
          8.167769432067871,
          11.878106117248535,
          11.65613842010498,
          10.698982238769531,
          15.271295547485352,
          11.454596519470215,
          10.96478271484375,
          10.66858959197998,
          10.497889518737793,
          11.586481094360352,
          9.93466854095459,
          13.276580810546875,
          10.299899101257324,
          11.417839050292969,
          12.244625091552734,
          12.235204696655273,
          12.52109432220459,
          15.364391326904297,
          12.256657600402832,
          15.608692169189453,
          15.252022743225098,
          11.908965110778809,
          15.22057819366455,
          11.980177879333496,
          13.206829071044922,
          12.647309303283691,
          12.119755744934082,
          12.858945846557617,
          13.02720832824707,
          13.081304550170898,
          12.965544700622559,
          13.228958129882812,
          15.320223808288574,
          13.442903518676758,
          14.797289848327637,
          15.322381019592285,
          14.581377029418945,
          15.574522972106934,
          14.198953628540039,
          13.199010848999023,
          13.336295127868652,
          14.472602844238281,
          14.248699188232422,
          13.128347396850586,
          14.348258972167969,
          13.104582786560059,
          14.503774642944336,
          15.536429405212402,
          14.41412353515625,
          15.002433776855469,
          13.876813888549805,
          14.50102710723877,
          15.544059753417969,
          15.164289474487305,
          14.718727111816406,
          14.10125732421875,
          13.393315315246582,
          13.50236701965332,
          14.48627758026123,
          14.614561080932617,
          13.270245552062988,
          13.931869506835938,
          13.805120468139648,
          14.128095626831055,
          15.06070327758789,
          14.689905166625977,
          14.079423904418945,
          14.253925323486328,
          14.30183219909668,
          14.085707664489746,
          13.063844680786133,
          13.176690101623535,
          14.374279022216797,
          13.090689659118652,
          14.423262596130371,
          14.465278625488281,
          14.232211112976074,
          13.218966484069824,
          14.408116340637207,
          14.574573516845703,
          14.946307182312012,
          14.286212921142578,
          14.55982780456543,
          14.460580825805664,
          13.451776504516602,
          13.118192672729492,
          13.21929931640625,
          6.813630104064941,
          6.412538528442383,
          5.881959915161133,
          5.977846622467041,
          6.086932182312012,
          6.262648105621338,
          6.0413947105407715,
          6.379757881164551,
          5.804406642913818,
          5.916012287139893,
          5.69629430770874,
          5.877118110656738,
          5.959786415100098,
          5.815404415130615
         ],
         "y": [
          1.5888667106628418,
          1.505271553993225,
          1.503652572631836,
          1.3179274797439575,
          1.2605234384536743,
          1.272657036781311,
          1.1708966493606567,
          1.4669030904769897,
          2.8029558658599854,
          1.3962312936782837,
          2.3200995922088623,
          1.5571050643920898,
          2.7805306911468506,
          1.9612195491790771,
          2.042935609817505,
          1.7893346548080444,
          1.691584825515747,
          2.553593635559082,
          2.2374424934387207,
          2.703390121459961,
          2.80635142326355,
          2.997518539428711,
          2.7985363006591797,
          2.9753332138061523,
          2.907956123352051,
          3.0671069622039795,
          2.7370145320892334,
          3.053062915802002,
          3.4391772747039795,
          3.447136402130127,
          3.603379011154175,
          3.290530204772949,
          4.3098249435424805,
          3.5656867027282715,
          2.996807098388672,
          2.8653547763824463,
          2.916161060333252,
          2.8809776306152344,
          4.667295932769775,
          4.163285255432129,
          4.1916937828063965,
          4.80471658706665,
          4.649641513824463,
          3.9964213371276855,
          3.915955066680908,
          4.837743282318115,
          3.4497995376586914,
          3.854875326156616,
          3.7128851413726807,
          4.431928634643555,
          3.7047817707061768,
          4.13063383102417,
          5.315738677978516,
          3.129709005355835,
          3.231123447418213,
          4.871500015258789,
          4.974093437194824,
          4.565373420715332,
          4.868503093719482,
          4.725664138793945,
          4.927659511566162,
          4.4446868896484375,
          4.463225364685059,
          4.846137046813965,
          4.291391372680664,
          5.068120956420898,
          4.370820045471191,
          4.744600772857666,
          4.832189559936523,
          4.842031478881836,
          4.882665157318115,
          4.972446441650391,
          4.935022830963135,
          5.029504299163818,
          5.109946250915527,
          4.743377208709717,
          5.106131076812744,
          4.859872341156006,
          5.091015338897705,
          4.97011137008667,
          4.852913856506348,
          5.05095911026001,
          5.138247966766357,
          5.25001859664917,
          5.299342155456543,
          5.262282848358154,
          5.570711612701416,
          5.0717973709106445,
          5.346036911010742,
          5.500246524810791,
          5.503787994384766,
          5.330792427062988,
          5.364306926727295,
          5.147265911102295,
          5.148709297180176,
          5.479323387145996,
          5.231569290161133,
          5.329537391662598,
          5.330315589904785,
          5.47371768951416,
          5.4167046546936035,
          5.059346675872803,
          5.324613571166992,
          5.471523761749268,
          5.2274274826049805,
          5.236787796020508,
          5.189298152923584,
          5.484031677246094,
          5.306670188903809,
          5.296875953674316,
          5.236281394958496,
          5.29613733291626,
          5.480808258056641,
          5.646197319030762,
          5.571256160736084,
          5.307231426239014,
          5.7861857414245605,
          5.860373497009277,
          5.347118377685547,
          5.678397178649902,
          5.778031349182129,
          5.605990886688232,
          5.64902400970459,
          5.325026035308838,
          5.83198356628418,
          5.7228288650512695,
          5.814063549041748,
          5.667230606079102,
          5.489338397979736,
          5.556678295135498,
          5.323927402496338,
          5.870584011077881,
          5.4096479415893555,
          5.911067485809326,
          5.434118747711182,
          5.731226444244385,
          5.863997459411621,
          5.883911609649658,
          5.737105369567871,
          5.829837322235107,
          5.7939324378967285,
          4.167640209197998,
          4.093366622924805,
          3.8668601512908936,
          3.658291816711426,
          3.8953733444213867,
          4.045644283294678,
          3.4126603603363037,
          3.9920055866241455,
          3.797766923904419,
          3.8389341831207275,
          3.5815505981445312,
          3.572404384613037,
          3.4967195987701416,
          2.1007378101348877
         ],
         "z": [
          5.512953758239746,
          5.420519828796387,
          5.367691993713379,
          5.461273670196533,
          5.417349815368652,
          5.301873207092285,
          5.272533416748047,
          5.212448596954346,
          4.261819362640381,
          5.207418441772461,
          4.590205669403076,
          5.068375110626221,
          4.459556579589844,
          4.779692649841309,
          4.739850997924805,
          4.9274516105651855,
          4.96382474899292,
          4.457265377044678,
          4.637392520904541,
          4.37597131729126,
          4.277531623840332,
          3.919947385787964,
          4.154487133026123,
          3.2160661220550537,
          3.9737133979797363,
          3.7242002487182617,
          3.1020333766937256,
          3.195343255996704,
          3.300386905670166,
          3.0160269737243652,
          3.056241989135742,
          3.085707426071167,
          3.2293238639831543,
          3.0595407485961914,
          3.1215271949768066,
          3.3210296630859375,
          3.0431809425354004,
          3.0243752002716064,
          3.5313637256622314,
          3.180471658706665,
          2.9851572513580322,
          3.477036237716675,
          3.63771915435791,
          3.1427993774414062,
          3.1090946197509766,
          3.338787794113159,
          3.148625135421753,
          3.0328609943389893,
          3.160871982574463,
          3.2052664756774902,
          3.1983630657196045,
          3.249068021774292,
          7.068403244018555,
          3.269670248031616,
          3.0793681144714355,
          3.616685390472412,
          3.3334293365478516,
          3.6828157901763916,
          3.7770543098449707,
          3.5355021953582764,
          3.6565494537353516,
          3.0112760066986084,
          3.135063409805298,
          3.4618799686431885,
          3.3649168014526367,
          4.988593101501465,
          3.2903194427490234,
          3.395406484603882,
          3.5974783897399902,
          3.622347593307495,
          3.745882987976074,
          3.8819029331207275,
          4.178295135498047,
          3.747311592102051,
          3.837515354156494,
          3.829025983810425,
          3.8522629737854004,
          3.72664213180542,
          4.910709857940674,
          4.133751392364502,
          3.9627513885498047,
          4.54173469543457,
          4.646186828613281,
          6.572450160980225,
          6.752652168273926,
          5.957331657409668,
          4.1322550773620605,
          5.389090538024902,
          3.9477720260620117,
          3.8758342266082764,
          4.621070384979248,
          3.938823699951172,
          4.782627105712891,
          5.8069748878479,
          5.2932610511779785,
          4.4502997398376465,
          4.393341541290283,
          6.29201602935791,
          4.58239221572876,
          6.786991119384766,
          4.324424743652344,
          3.7492949962615967,
          4.151298522949219,
          3.8656651973724365,
          5.169485092163086,
          4.187642574310303,
          3.822646141052246,
          4.041193962097168,
          3.9569075107574463,
          5.1899333000183105,
          5.654494285583496,
          5.8639326095581055,
          5.089698314666748,
          5.701282024383545,
          6.98246955871582,
          5.535853862762451,
          6.864570617675781,
          6.702638149261475,
          4.122018814086914,
          5.256304740905762,
          6.643671035766602,
          6.025228977203369,
          6.317183494567871,
          5.769924640655518,
          6.640515327453613,
          6.768093585968018,
          6.5247368812561035,
          6.399303436279297,
          6.020181655883789,
          5.179378509521484,
          5.686000347137451,
          6.438164710998535,
          5.700171947479248,
          6.349356174468994,
          4.232901573181152,
          5.434592247009277,
          6.321300029754639,
          5.796019554138184,
          7.262929439544678,
          7.326915740966797,
          7.189309120178223,
          4.374837398529053,
          4.546173572540283,
          4.7627854347229,
          4.395008563995361,
          4.66257381439209,
          4.63703727722168,
          4.498355865478516,
          4.53618860244751,
          4.69351863861084,
          4.710720539093018,
          4.629276752471924,
          4.688149929046631,
          4.616144180297852,
          5.187498092651367
         ]
        }
       ],
       "layout": {
        "margin": {
         "b": 10,
         "l": 10,
         "r": 20,
         "t": 10
        },
        "scene": {
         "xaxis": {
          "title": {
           "text": "X AXIS"
          }
         },
         "yaxis": {
          "title": {
           "text": "Y AXIS"
          }
         },
         "zaxis": {
          "title": {
           "text": "Z AXIS"
          }
         }
        },
        "template": {
         "data": {
          "bar": [
           {
            "error_x": {
             "color": "#2a3f5f"
            },
            "error_y": {
             "color": "#2a3f5f"
            },
            "marker": {
             "line": {
              "color": "#E5ECF6",
              "width": 0.5
             },
             "pattern": {
              "fillmode": "overlay",
              "size": 10,
              "solidity": 0.2
             }
            },
            "type": "bar"
           }
          ],
          "barpolar": [
           {
            "marker": {
             "line": {
              "color": "#E5ECF6",
              "width": 0.5
             },
             "pattern": {
              "fillmode": "overlay",
              "size": 10,
              "solidity": 0.2
             }
            },
            "type": "barpolar"
           }
          ],
          "carpet": [
           {
            "aaxis": {
             "endlinecolor": "#2a3f5f",
             "gridcolor": "white",
             "linecolor": "white",
             "minorgridcolor": "white",
             "startlinecolor": "#2a3f5f"
            },
            "baxis": {
             "endlinecolor": "#2a3f5f",
             "gridcolor": "white",
             "linecolor": "white",
             "minorgridcolor": "white",
             "startlinecolor": "#2a3f5f"
            },
            "type": "carpet"
           }
          ],
          "choropleth": [
           {
            "colorbar": {
             "outlinewidth": 0,
             "ticks": ""
            },
            "type": "choropleth"
           }
          ],
          "contour": [
           {
            "colorbar": {
             "outlinewidth": 0,
             "ticks": ""
            },
            "colorscale": [
             [
              0,
              "#0d0887"
             ],
             [
              0.1111111111111111,
              "#46039f"
             ],
             [
              0.2222222222222222,
              "#7201a8"
             ],
             [
              0.3333333333333333,
              "#9c179e"
             ],
             [
              0.4444444444444444,
              "#bd3786"
             ],
             [
              0.5555555555555556,
              "#d8576b"
             ],
             [
              0.6666666666666666,
              "#ed7953"
             ],
             [
              0.7777777777777778,
              "#fb9f3a"
             ],
             [
              0.8888888888888888,
              "#fdca26"
             ],
             [
              1,
              "#f0f921"
             ]
            ],
            "type": "contour"
           }
          ],
          "contourcarpet": [
           {
            "colorbar": {
             "outlinewidth": 0,
             "ticks": ""
            },
            "type": "contourcarpet"
           }
          ],
          "heatmap": [
           {
            "colorbar": {
             "outlinewidth": 0,
             "ticks": ""
            },
            "colorscale": [
             [
              0,
              "#0d0887"
             ],
             [
              0.1111111111111111,
              "#46039f"
             ],
             [
              0.2222222222222222,
              "#7201a8"
             ],
             [
              0.3333333333333333,
              "#9c179e"
             ],
             [
              0.4444444444444444,
              "#bd3786"
             ],
             [
              0.5555555555555556,
              "#d8576b"
             ],
             [
              0.6666666666666666,
              "#ed7953"
             ],
             [
              0.7777777777777778,
              "#fb9f3a"
             ],
             [
              0.8888888888888888,
              "#fdca26"
             ],
             [
              1,
              "#f0f921"
             ]
            ],
            "type": "heatmap"
           }
          ],
          "heatmapgl": [
           {
            "colorbar": {
             "outlinewidth": 0,
             "ticks": ""
            },
            "colorscale": [
             [
              0,
              "#0d0887"
             ],
             [
              0.1111111111111111,
              "#46039f"
             ],
             [
              0.2222222222222222,
              "#7201a8"
             ],
             [
              0.3333333333333333,
              "#9c179e"
             ],
             [
              0.4444444444444444,
              "#bd3786"
             ],
             [
              0.5555555555555556,
              "#d8576b"
             ],
             [
              0.6666666666666666,
              "#ed7953"
             ],
             [
              0.7777777777777778,
              "#fb9f3a"
             ],
             [
              0.8888888888888888,
              "#fdca26"
             ],
             [
              1,
              "#f0f921"
             ]
            ],
            "type": "heatmapgl"
           }
          ],
          "histogram": [
           {
            "marker": {
             "pattern": {
              "fillmode": "overlay",
              "size": 10,
              "solidity": 0.2
             }
            },
            "type": "histogram"
           }
          ],
          "histogram2d": [
           {
            "colorbar": {
             "outlinewidth": 0,
             "ticks": ""
            },
            "colorscale": [
             [
              0,
              "#0d0887"
             ],
             [
              0.1111111111111111,
              "#46039f"
             ],
             [
              0.2222222222222222,
              "#7201a8"
             ],
             [
              0.3333333333333333,
              "#9c179e"
             ],
             [
              0.4444444444444444,
              "#bd3786"
             ],
             [
              0.5555555555555556,
              "#d8576b"
             ],
             [
              0.6666666666666666,
              "#ed7953"
             ],
             [
              0.7777777777777778,
              "#fb9f3a"
             ],
             [
              0.8888888888888888,
              "#fdca26"
             ],
             [
              1,
              "#f0f921"
             ]
            ],
            "type": "histogram2d"
           }
          ],
          "histogram2dcontour": [
           {
            "colorbar": {
             "outlinewidth": 0,
             "ticks": ""
            },
            "colorscale": [
             [
              0,
              "#0d0887"
             ],
             [
              0.1111111111111111,
              "#46039f"
             ],
             [
              0.2222222222222222,
              "#7201a8"
             ],
             [
              0.3333333333333333,
              "#9c179e"
             ],
             [
              0.4444444444444444,
              "#bd3786"
             ],
             [
              0.5555555555555556,
              "#d8576b"
             ],
             [
              0.6666666666666666,
              "#ed7953"
             ],
             [
              0.7777777777777778,
              "#fb9f3a"
             ],
             [
              0.8888888888888888,
              "#fdca26"
             ],
             [
              1,
              "#f0f921"
             ]
            ],
            "type": "histogram2dcontour"
           }
          ],
          "mesh3d": [
           {
            "colorbar": {
             "outlinewidth": 0,
             "ticks": ""
            },
            "type": "mesh3d"
           }
          ],
          "parcoords": [
           {
            "line": {
             "colorbar": {
              "outlinewidth": 0,
              "ticks": ""
             }
            },
            "type": "parcoords"
           }
          ],
          "pie": [
           {
            "automargin": true,
            "type": "pie"
           }
          ],
          "scatter": [
           {
            "fillpattern": {
             "fillmode": "overlay",
             "size": 10,
             "solidity": 0.2
            },
            "type": "scatter"
           }
          ],
          "scatter3d": [
           {
            "line": {
             "colorbar": {
              "outlinewidth": 0,
              "ticks": ""
             }
            },
            "marker": {
             "colorbar": {
              "outlinewidth": 0,
              "ticks": ""
             }
            },
            "type": "scatter3d"
           }
          ],
          "scattercarpet": [
           {
            "marker": {
             "colorbar": {
              "outlinewidth": 0,
              "ticks": ""
             }
            },
            "type": "scattercarpet"
           }
          ],
          "scattergeo": [
           {
            "marker": {
             "colorbar": {
              "outlinewidth": 0,
              "ticks": ""
             }
            },
            "type": "scattergeo"
           }
          ],
          "scattergl": [
           {
            "marker": {
             "colorbar": {
              "outlinewidth": 0,
              "ticks": ""
             }
            },
            "type": "scattergl"
           }
          ],
          "scattermapbox": [
           {
            "marker": {
             "colorbar": {
              "outlinewidth": 0,
              "ticks": ""
             }
            },
            "type": "scattermapbox"
           }
          ],
          "scatterpolar": [
           {
            "marker": {
             "colorbar": {
              "outlinewidth": 0,
              "ticks": ""
             }
            },
            "type": "scatterpolar"
           }
          ],
          "scatterpolargl": [
           {
            "marker": {
             "colorbar": {
              "outlinewidth": 0,
              "ticks": ""
             }
            },
            "type": "scatterpolargl"
           }
          ],
          "scatterternary": [
           {
            "marker": {
             "colorbar": {
              "outlinewidth": 0,
              "ticks": ""
             }
            },
            "type": "scatterternary"
           }
          ],
          "surface": [
           {
            "colorbar": {
             "outlinewidth": 0,
             "ticks": ""
            },
            "colorscale": [
             [
              0,
              "#0d0887"
             ],
             [
              0.1111111111111111,
              "#46039f"
             ],
             [
              0.2222222222222222,
              "#7201a8"
             ],
             [
              0.3333333333333333,
              "#9c179e"
             ],
             [
              0.4444444444444444,
              "#bd3786"
             ],
             [
              0.5555555555555556,
              "#d8576b"
             ],
             [
              0.6666666666666666,
              "#ed7953"
             ],
             [
              0.7777777777777778,
              "#fb9f3a"
             ],
             [
              0.8888888888888888,
              "#fdca26"
             ],
             [
              1,
              "#f0f921"
             ]
            ],
            "type": "surface"
           }
          ],
          "table": [
           {
            "cells": {
             "fill": {
              "color": "#EBF0F8"
             },
             "line": {
              "color": "white"
             }
            },
            "header": {
             "fill": {
              "color": "#C8D4E3"
             },
             "line": {
              "color": "white"
             }
            },
            "type": "table"
           }
          ]
         },
         "layout": {
          "annotationdefaults": {
           "arrowcolor": "#2a3f5f",
           "arrowhead": 0,
           "arrowwidth": 1
          },
          "autotypenumbers": "strict",
          "coloraxis": {
           "colorbar": {
            "outlinewidth": 0,
            "ticks": ""
           }
          },
          "colorscale": {
           "diverging": [
            [
             0,
             "#8e0152"
            ],
            [
             0.1,
             "#c51b7d"
            ],
            [
             0.2,
             "#de77ae"
            ],
            [
             0.3,
             "#f1b6da"
            ],
            [
             0.4,
             "#fde0ef"
            ],
            [
             0.5,
             "#f7f7f7"
            ],
            [
             0.6,
             "#e6f5d0"
            ],
            [
             0.7,
             "#b8e186"
            ],
            [
             0.8,
             "#7fbc41"
            ],
            [
             0.9,
             "#4d9221"
            ],
            [
             1,
             "#276419"
            ]
           ],
           "sequential": [
            [
             0,
             "#0d0887"
            ],
            [
             0.1111111111111111,
             "#46039f"
            ],
            [
             0.2222222222222222,
             "#7201a8"
            ],
            [
             0.3333333333333333,
             "#9c179e"
            ],
            [
             0.4444444444444444,
             "#bd3786"
            ],
            [
             0.5555555555555556,
             "#d8576b"
            ],
            [
             0.6666666666666666,
             "#ed7953"
            ],
            [
             0.7777777777777778,
             "#fb9f3a"
            ],
            [
             0.8888888888888888,
             "#fdca26"
            ],
            [
             1,
             "#f0f921"
            ]
           ],
           "sequentialminus": [
            [
             0,
             "#0d0887"
            ],
            [
             0.1111111111111111,
             "#46039f"
            ],
            [
             0.2222222222222222,
             "#7201a8"
            ],
            [
             0.3333333333333333,
             "#9c179e"
            ],
            [
             0.4444444444444444,
             "#bd3786"
            ],
            [
             0.5555555555555556,
             "#d8576b"
            ],
            [
             0.6666666666666666,
             "#ed7953"
            ],
            [
             0.7777777777777778,
             "#fb9f3a"
            ],
            [
             0.8888888888888888,
             "#fdca26"
            ],
            [
             1,
             "#f0f921"
            ]
           ]
          },
          "colorway": [
           "#636efa",
           "#EF553B",
           "#00cc96",
           "#ab63fa",
           "#FFA15A",
           "#19d3f3",
           "#FF6692",
           "#B6E880",
           "#FF97FF",
           "#FECB52"
          ],
          "font": {
           "color": "#2a3f5f"
          },
          "geo": {
           "bgcolor": "white",
           "lakecolor": "white",
           "landcolor": "#E5ECF6",
           "showlakes": true,
           "showland": true,
           "subunitcolor": "white"
          },
          "hoverlabel": {
           "align": "left"
          },
          "hovermode": "closest",
          "mapbox": {
           "style": "light"
          },
          "paper_bgcolor": "white",
          "plot_bgcolor": "#E5ECF6",
          "polar": {
           "angularaxis": {
            "gridcolor": "white",
            "linecolor": "white",
            "ticks": ""
           },
           "bgcolor": "#E5ECF6",
           "radialaxis": {
            "gridcolor": "white",
            "linecolor": "white",
            "ticks": ""
           }
          },
          "scene": {
           "xaxis": {
            "backgroundcolor": "#E5ECF6",
            "gridcolor": "white",
            "gridwidth": 2,
            "linecolor": "white",
            "showbackground": true,
            "ticks": "",
            "zerolinecolor": "white"
           },
           "yaxis": {
            "backgroundcolor": "#E5ECF6",
            "gridcolor": "white",
            "gridwidth": 2,
            "linecolor": "white",
            "showbackground": true,
            "ticks": "",
            "zerolinecolor": "white"
           },
           "zaxis": {
            "backgroundcolor": "#E5ECF6",
            "gridcolor": "white",
            "gridwidth": 2,
            "linecolor": "white",
            "showbackground": true,
            "ticks": "",
            "zerolinecolor": "white"
           }
          },
          "shapedefaults": {
           "line": {
            "color": "#2a3f5f"
           }
          },
          "ternary": {
           "aaxis": {
            "gridcolor": "white",
            "linecolor": "white",
            "ticks": ""
           },
           "baxis": {
            "gridcolor": "white",
            "linecolor": "white",
            "ticks": ""
           },
           "bgcolor": "#E5ECF6",
           "caxis": {
            "gridcolor": "white",
            "linecolor": "white",
            "ticks": ""
           }
          },
          "title": {
           "x": 0.05
          },
          "xaxis": {
           "automargin": true,
           "gridcolor": "white",
           "linecolor": "white",
           "ticks": "",
           "title": {
            "standoff": 15
           },
           "zerolinecolor": "white",
           "zerolinewidth": 2
          },
          "yaxis": {
           "automargin": true,
           "gridcolor": "white",
           "linecolor": "white",
           "ticks": "",
           "title": {
            "standoff": 15
           },
           "zerolinecolor": "white",
           "zerolinewidth": 2
          }
         }
        },
        "width": 700
       }
      }
     },
     "metadata": {},
     "output_type": "display_data"
    },
    {
     "data": {
      "application/vnd.jupyter.widget-view+json": {
       "model_id": "3f51e40e22144bbb8c987b74c2ba305c",
       "version_major": 2,
       "version_minor": 0
      },
      "text/plain": [
       "interactive(children=(FloatSlider(value=0.0, description='eps:', max=1.6711198494853368, step=0.01), Output())…"
      ]
     },
     "metadata": {},
     "output_type": "display_data"
    },
    {
     "data": {
      "text/plain": [
       "<function __main__.update_plot(eps)>"
      ]
     },
     "execution_count": 25,
     "metadata": {},
     "output_type": "execute_result"
    }
   ],
   "source": [
    "import torch\n",
    "import numpy as np\n",
    "from scipy.spatial import distance_matrix\n",
    "from transformers import AutoTokenizer, EsmModel\n",
    "from umap.umap_ import UMAP\n",
    "import plotly.graph_objects as go\n",
    "from ipywidgets import interact, FloatSlider\n",
    "\n",
    "tokenizer = AutoTokenizer.from_pretrained(\"facebook/esm2_t6_8M_UR50D\")\n",
    "\n",
    "def compute_output(sentence, layer, head):\n",
    "    # Load pre-trained model\n",
    "    global tokenizer\n",
    "    model = EsmModel.from_pretrained(\"facebook/esm2_t6_8M_UR50D\")\n",
    "\n",
    "    # Set the output_attentions attribute of the configuration to True\n",
    "    model.config.output_attentions = True\n",
    "\n",
    "    # Tokenize input and convert to tensor\n",
    "    inputs = tokenizer(sentence, return_tensors=\"pt\")\n",
    "\n",
    "    # Forward pass\n",
    "    outputs = model(**inputs, output_hidden_states=True)\n",
    "\n",
    "    # Obtain the attention weights\n",
    "    attentions = outputs.attentions\n",
    "\n",
    "    # Obtain the attention weights for the specific layer and head\n",
    "    S = attentions[layer][0, head]\n",
    "\n",
    "    # Obtain the value vectors\n",
    "    model.eval()\n",
    "    with torch.no_grad():\n",
    "        hidden_states = outputs.hidden_states[layer]\n",
    "        all_W_v = model.encoder.layer[layer].attention.self.value.weight\n",
    "        num_heads = model.config.num_attention_heads\n",
    "        head_dim = model.config.hidden_size // num_heads\n",
    "        W_v_heads = all_W_v.view(num_heads, head_dim, model.config.hidden_size)\n",
    "        W_v = W_v_heads[head]\n",
    "        V = torch.matmul(hidden_states, W_v.t())\n",
    "\n",
    "    # Compute the output O\n",
    "    O = torch.matmul(S, V)\n",
    "\n",
    "    return O, inputs\n",
    "\n",
    "# Compute the output\n",
    "output, inputs = compute_output(\"MAVESRVTQEEIKKEPEKPIDREKTCPLLLRVFTTNNGRHHRMDEFSRGNVPSSELQIYTWMDATLKELTSLVKEVYPEARKKGTHFNFAIVFTDVKRPGYRVKEIGSTMSGRKGTDDSMTLQSQKFQIGDYLDIAITPPNRAPPPSGRMRPY\", 3, 2)\n",
    "\n",
    "# Convert the output tensor to numpy array\n",
    "output_np = output.detach().numpy()[0]\n",
    "\n",
    "# Compute the pairwise Euclidean distance matrix\n",
    "distances = distance_matrix(output_np, output_np)\n",
    "\n",
    "# Compute the number of tokens\n",
    "num_tokens = len(inputs[\"input_ids\"][0])\n",
    "\n",
    "# Decompose output to 3D for visualization using UMAP\n",
    "umap = UMAP(n_components=3)  # Set n_components to 3\n",
    "output_3d = umap.fit_transform(output_np)\n",
    "\n",
    "# Define the function to update the plot\n",
    "def update_plot(eps):\n",
    "    # Create a plotly graph object\n",
    "    fig = go.Figure()\n",
    "\n",
    "    # Get token labels\n",
    "    token_labels = [tokenizer.decode([token_id]) for token_id in inputs['input_ids'][0]]\n",
    "    \n",
    "    # Add 3D scatter plot points\n",
    "    fig.add_trace(go.Scatter3d(x=output_3d[:, 0], y=output_3d[:, 1], z=output_3d[:, 2],\n",
    "                    mode='markers+text',   # Added 'text' to 'mode' to show the token labels\n",
    "                    text=token_labels,     # Specify the text(labels) to be displayed\n",
    "                    textposition='top center',   # Position the text to be top center wrt the marker\n",
    "                    marker=dict(\n",
    "                        size=6,\n",
    "                        color='rgb(100, 150, 200)', \n",
    "                        colorscale='Viridis',   \n",
    "                        opacity=0.8\n",
    "                    ),\n",
    "                    hovertemplate = \"%{text}<br>x: %{x}<br>y: %{y}<br>z: %{z}<extra></extra>\",\n",
    "    ))\n",
    "\n",
    "    # Add edges\n",
    "    for i in range(distances.shape[0]):\n",
    "        for j in range(i+1, distances.shape[1]):\n",
    "            if distances[i, j] <= eps:\n",
    "                fig.add_trace(go.Scatter3d(x=[output_3d[i, 0], output_3d[j, 0]],\n",
    "                                        y=[output_3d[i, 1], output_3d[j, 1]], \n",
    "                                        z=[output_3d[i, 2], output_3d[j, 2]],\n",
    "                                        mode='lines',\n",
    "                                        line=dict(\n",
    "                                            color='darkblue',\n",
    "                                            width=2\n",
    "                                        )))\n",
    "\n",
    "    fig.update_layout(scene = dict(\n",
    "                    xaxis_title='X AXIS',\n",
    "                    yaxis_title='Y AXIS',\n",
    "                    zaxis_title='Z AXIS'),\n",
    "                    width=700,\n",
    "                    margin=dict(r=20, l=10, b=10, t=10))\n",
    "    fig.show()\n",
    "\n",
    "# Create the interactive widget for the threshold distance parameter\n",
    "eps_slider = FloatSlider(min=0, max=np.max(distances), step=0.01, value=0, description='eps:')\n",
    "interact(update_plot, eps=eps_slider)\n"
   ]
  },
  {
   "attachments": {},
   "cell_type": "markdown",
   "metadata": {},
   "source": [
    "## With Hidden States Instead of Context Vectors"
   ]
  },
  {
   "cell_type": "code",
   "execution_count": 2,
   "metadata": {},
   "outputs": [
    {
     "name": "stderr",
     "output_type": "stream",
     "text": [
      "Some weights of the model checkpoint at facebook/esm2_t6_8M_UR50D were not used when initializing EsmModel: ['lm_head.dense.weight', 'lm_head.layer_norm.bias', 'lm_head.bias', 'lm_head.layer_norm.weight', 'lm_head.dense.bias']\n",
      "- This IS expected if you are initializing EsmModel from the checkpoint of a model trained on another task or with another architecture (e.g. initializing a BertForSequenceClassification model from a BertForPreTraining model).\n",
      "- This IS NOT expected if you are initializing EsmModel from the checkpoint of a model that you expect to be exactly identical (initializing a BertForSequenceClassification model from a BertForSequenceClassification model).\n",
      "Some weights of EsmModel were not initialized from the model checkpoint at facebook/esm2_t6_8M_UR50D and are newly initialized: ['esm.pooler.dense.weight', 'esm.pooler.dense.bias']\n",
      "You should probably TRAIN this model on a down-stream task to be able to use it for predictions and inference.\n"
     ]
    },
    {
     "data": {
      "application/vnd.plotly.v1+json": {
       "config": {
        "plotlyServerURL": "https://plot.ly"
       },
       "data": [
        {
         "hovertemplate": "%{text}<br>x: %{x}<br>y: %{y}<br>z: %{z}<extra></extra>",
         "marker": {
          "color": "rgb(100, 150, 200)",
          "colorscale": [
           [
            0,
            "#440154"
           ],
           [
            0.1111111111111111,
            "#482878"
           ],
           [
            0.2222222222222222,
            "#3e4989"
           ],
           [
            0.3333333333333333,
            "#31688e"
           ],
           [
            0.4444444444444444,
            "#26828e"
           ],
           [
            0.5555555555555556,
            "#1f9e89"
           ],
           [
            0.6666666666666666,
            "#35b779"
           ],
           [
            0.7777777777777778,
            "#6ece58"
           ],
           [
            0.8888888888888888,
            "#b5de2b"
           ],
           [
            1,
            "#fde725"
           ]
          ],
          "opacity": 0.8,
          "size": 6
         },
         "mode": "markers+text",
         "text": [
          "<cls>",
          "M",
          "A",
          "V",
          "E",
          "S",
          "R",
          "V",
          "T",
          "Q",
          "E",
          "E",
          "I",
          "K",
          "K",
          "E",
          "P",
          "E",
          "K",
          "P",
          "I",
          "D",
          "R",
          "E",
          "K",
          "T",
          "C",
          "P",
          "L",
          "L",
          "L",
          "R",
          "V",
          "F",
          "T",
          "T",
          "N",
          "N",
          "G",
          "R",
          "H",
          "H",
          "R",
          "M",
          "D",
          "E",
          "F",
          "S",
          "R",
          "G",
          "N",
          "V",
          "P",
          "S",
          "S",
          "E",
          "L",
          "Q",
          "I",
          "Y",
          "T",
          "W",
          "M",
          "D",
          "A",
          "T",
          "L",
          "K",
          "E",
          "L",
          "T",
          "S",
          "L",
          "V",
          "K",
          "E",
          "V",
          "Y",
          "P",
          "E",
          "A",
          "R",
          "K",
          "K",
          "G",
          "T",
          "H",
          "F",
          "N",
          "F",
          "A",
          "I",
          "V",
          "F",
          "T",
          "D",
          "V",
          "K",
          "R",
          "P",
          "G",
          "Y",
          "R",
          "V",
          "K",
          "E",
          "I",
          "G",
          "S",
          "T",
          "M",
          "S",
          "G",
          "R",
          "K",
          "G",
          "T",
          "D",
          "D",
          "S",
          "M",
          "T",
          "L",
          "Q",
          "S",
          "Q",
          "K",
          "F",
          "Q",
          "I",
          "G",
          "D",
          "Y",
          "L",
          "D",
          "I",
          "A",
          "I",
          "T",
          "P",
          "P",
          "N",
          "R",
          "A",
          "P",
          "P",
          "P",
          "S",
          "G",
          "R",
          "M",
          "R",
          "P",
          "Y",
          "<eos>"
         ],
         "textposition": "top center",
         "type": "scatter3d",
         "x": [
          1.4655747413635254,
          1.6481561660766602,
          1.8126591444015503,
          2.001458168029785,
          1.9976128339767456,
          3.51702880859375,
          1.592313528060913,
          2.254302501678467,
          3.3266537189483643,
          1.7896908521652222,
          2.144888401031494,
          2.26343035697937,
          2.481553792953491,
          1.6001766920089722,
          1.5508040189743042,
          2.0979247093200684,
          2.822540521621704,
          2.0341639518737793,
          1.3226408958435059,
          3.221900701522827,
          2.3674094676971436,
          3.224432945251465,
          1.2945678234100342,
          1.8163764476776123,
          0.7145765423774719,
          3.1262125968933105,
          2.258402109146118,
          3.456451177597046,
          1.3512314558029175,
          1.2516900300979614,
          1.3056180477142334,
          1.4899810552597046,
          1.4184757471084595,
          2.2056684494018555,
          3.326508045196533,
          3.377143621444702,
          2.663421869277954,
          2.721787452697754,
          2.0542542934417725,
          1.241273045539856,
          2.909003257751465,
          2.898236036300659,
          1.3946583271026611,
          0.91035395860672,
          3.066197633743286,
          1.494776725769043,
          2.0933146476745605,
          3.6009488105773926,
          1.3098881244659424,
          2.116706132888794,
          2.6529080867767334,
          1.9891859292984009,
          3.0343449115753174,
          3.240194797515869,
          3.2109646797180176,
          1.643099069595337,
          1.3259230852127075,
          1.6345523595809937,
          0.9060967564582825,
          2.652681827545166,
          3.312657117843628,
          2.5590102672576904,
          0.9827433824539185,
          3.2696926593780518,
          1.9723751544952393,
          3.060981035232544,
          1.3746498823165894,
          0.5459855198860168,
          1.6777325868606567,
          1.1057103872299194,
          3.384566307067871,
          3.4217886924743652,
          1.2109830379486084,
          1.322243094444275,
          0.5349121689796448,
          1.7032243013381958,
          1.1996877193450928,
          2.413175344467163,
          3.536811351776123,
          1.675443172454834,
          1.6082321405410767,
          1.0432707071304321,
          0.683469295501709,
          0.9399324059486389,
          2.115565299987793,
          3.1048195362091064,
          2.7513513565063477,
          2.2009339332580566,
          2.850430965423584,
          1.8715623617172241,
          2.0486509799957275,
          1.752691626548767,
          1.7694429159164429,
          2.1004042625427246,
          3.2817909717559814,
          3.2218446731567383,
          1.7296133041381836,
          0.750590443611145,
          1.0989340543746948,
          3.5216403007507324,
          2.04580020904541,
          2.5816049575805664,
          1.391404628753662,
          1.2406237125396729,
          0.6706434488296509,
          1.5520480871200562,
          0.83653724193573,
          1.8972294330596924,
          3.560526132583618,
          3.1412196159362793,
          1.1484562158584595,
          3.284990072250366,
          2.1815454959869385,
          1.1328643560409546,
          0.7441622614860535,
          2.1163339614868164,
          3.098602056503296,
          2.9608514308929443,
          2.869910478591919,
          3.2785825729370117,
          1.1575459241867065,
          3.308570623397827,
          1.3448426723480225,
          1.580517053604126,
          3.4412527084350586,
          1.4037528038024902,
          0.752468466758728,
          2.2610743045806885,
          1.600401520729065,
          0.8652403950691223,
          1.9646844863891602,
          3.127955198287964,
          2.5745773315429688,
          1.4861594438552856,
          3.1576480865478516,
          1.4604769945144653,
          1.9980069398880005,
          1.536219835281372,
          3.4595048427581787,
          3.330174446105957,
          3.2385873794555664,
          2.644700527191162,
          1.5069490671157837,
          2.499858856201172,
          2.891826629638672,
          2.914724349975586,
          3.1037936210632324,
          3.2071328163146973,
          2.3348073959350586,
          1.6260331869125366,
          2.4288740158081055,
          1.7750102281570435,
          2.9615280628204346,
          2.7715466022491455,
          2.5776238441467285
         ],
         "y": [
          11.562596321105957,
          11.400313377380371,
          11.390946388244629,
          11.39500904083252,
          11.548957824707031,
          12.799661636352539,
          11.883695602416992,
          11.321020126342773,
          14.154236793518066,
          11.511285781860352,
          11.43910026550293,
          11.455368995666504,
          11.441610336303711,
          11.226141929626465,
          11.25621223449707,
          11.276453018188477,
          11.624335289001465,
          11.261094093322754,
          11.39797306060791,
          11.91938304901123,
          11.581854820251465,
          14.226537704467773,
          12.323396682739258,
          11.95398998260498,
          11.722041130065918,
          14.223786354064941,
          15.102739334106445,
          12.423563957214355,
          15.622884750366211,
          15.545772552490234,
          15.538707733154297,
          13.445331573486328,
          15.030271530151367,
          15.283365249633789,
          14.415467262268066,
          14.388851165771484,
          13.605289459228516,
          13.701281547546387,
          14.07590389251709,
          12.687296867370605,
          15.091668128967285,
          15.133216857910156,
          12.823654174804688,
          14.868096351623535,
          14.645271301269531,
          12.147150039672852,
          15.61218547821045,
          13.08434772491455,
          12.490252494812012,
          13.80650520324707,
          13.671587944030762,
          14.808370590209961,
          12.598573684692383,
          12.720378875732422,
          12.672075271606445,
          12.2479887008667,
          15.677911758422852,
          12.983903884887695,
          15.14453411102295,
          15.26414966583252,
          14.629730224609375,
          15.28196907043457,
          15.229606628417969,
          14.372674942016602,
          14.395537376403809,
          14.580195426940918,
          15.506348609924316,
          12.117591857910156,
          12.053476333618164,
          15.66706657409668,
          14.643056869506836,
          12.879056930541992,
          15.839713096618652,
          15.172737121582031,
          12.099945068359375,
          12.02492904663086,
          15.021617889404297,
          15.230210304260254,
          12.282793998718262,
          12.211262702941895,
          14.649352073669434,
          12.536871910095215,
          12.01729965209961,
          12.050021171569824,
          14.17250919342041,
          14.271413803100586,
          15.029202461242676,
          15.564620971679688,
          14.114836692810059,
          15.318489074707031,
          14.375079154968262,
          15.01150131225586,
          14.708856582641602,
          15.26228141784668,
          14.363313674926758,
          14.458250999450684,
          14.651735305786133,
          12.31689739227295,
          12.98652172088623,
          12.117157936096191,
          14.3552827835083,
          15.610261917114258,
          13.158199310302734,
          14.909977912902832,
          12.2752685546875,
          11.989605903625488,
          15.021265029907227,
          13.92541790008545,
          12.93753433227539,
          14.309174537658691,
          14.375589370727539,
          12.687891960144043,
          13.91817569732666,
          12.78331184387207,
          11.95843505859375,
          14.024059295654297,
          13.979121208190918,
          14.281628608703613,
          14.401128768920898,
          13.065966606140137,
          14.620024681091309,
          14.269639015197754,
          15.353025436401367,
          12.622427940368652,
          12.873708724975586,
          12.924607276916504,
          11.897732734680176,
          15.686630249023438,
          13.072490692138672,
          14.985915184020996,
          14.202877044677734,
          14.482268333435059,
          15.429390907287598,
          15.706978797912598,
          14.298648834228516,
          14.987598419189453,
          14.1659517288208,
          14.80673599243164,
          14.182782173156738,
          12.317513465881348,
          12.082351684570312,
          13.20669174194336,
          12.373335838317871,
          12.259513854980469,
          12.129261016845703,
          12.169095993041992,
          12.429634094238281,
          12.575654983520508,
          13.125040054321289,
          12.464176177978516,
          12.521185874938965,
          12.422839164733887,
          12.286641120910645,
          12.449420928955078,
          12.700492858886719
         ],
         "z": [
          9.414450645446777,
          9.62393569946289,
          9.75843334197998,
          9.889772415161133,
          10.570076942443848,
          7.200372695922852,
          9.874160766601562,
          9.794084548950195,
          7.61420202255249,
          10.253223419189453,
          10.854314804077148,
          10.615727424621582,
          9.78813362121582,
          10.875247955322266,
          10.854742050170898,
          10.867939949035645,
          9.760883331298828,
          10.817771911621094,
          10.90293025970459,
          9.596931457519531,
          9.60999584197998,
          8.836271286010742,
          9.884516716003418,
          11.053217887878418,
          10.83011245727539,
          7.2048115730285645,
          9.783249855041504,
          9.643352508544922,
          11.011835098266602,
          11.001823425292969,
          10.984971046447754,
          10.816993713378906,
          11.14250659942627,
          11.010632514953613,
          7.144697666168213,
          7.525879383087158,
          8.789192199707031,
          8.86963939666748,
          9.034531593322754,
          9.804317474365234,
          9.737704277038574,
          9.780512809753418,
          10.177486419677734,
          9.880183219909668,
          9.25869369506836,
          11.496027946472168,
          10.688026428222656,
          7.4012532234191895,
          9.967347145080566,
          9.225044250488281,
          9.072798728942871,
          9.736852645874023,
          9.802237510681152,
          7.512959003448486,
          7.252675533294678,
          11.24731731414795,
          10.48454475402832,
          10.92434024810791,
          10.782814979553223,
          10.48588752746582,
          7.2897233963012695,
          10.63449764251709,
          10.010781288146973,
          9.455822944641113,
          9.750588417053223,
          7.438647270202637,
          10.245757102966309,
          10.761032104492188,
          11.421619415283203,
          10.402862548828125,
          7.205195426940918,
          7.251497745513916,
          10.296259880065918,
          10.606202125549316,
          10.684588432312012,
          11.336490631103516,
          10.628188133239746,
          10.048750877380371,
          9.524147987365723,
          11.26513671875,
          10.085458755493164,
          9.947164535522461,
          10.655123710632324,
          10.927075386047363,
          9.0635347366333,
          7.309120178222656,
          9.799821853637695,
          10.634908676147461,
          9.830520629882812,
          10.980636596679688,
          10.467572212219238,
          10.927967071533203,
          10.88333797454834,
          10.87511920928955,
          7.329168796539307,
          9.305341720581055,
          9.983197212219238,
          10.915008544921875,
          9.83626651763916,
          9.468618392944336,
          9.085914611816406,
          10.264507293701172,
          10.475695610046387,
          10.075891494750977,
          10.846835136413574,
          11.436545372009277,
          10.585272789001465,
          9.159065246582031,
          7.393656253814697,
          7.647773265838623,
          9.487199783325195,
          7.684580326080322,
          8.897871971130371,
          9.760340690612793,
          11.020276069641113,
          9.309845924377441,
          7.466039657592773,
          9.235393524169922,
          9.125597953796387,
          7.413838863372803,
          9.746574401855469,
          7.500818252563477,
          10.038677215576172,
          10.880009651184082,
          7.258820533752441,
          10.891608238220215,
          11.086283683776855,
          10.601831436157227,
          10.691611289978027,
          10.573776245117188,
          8.9049711227417,
          9.023755073547363,
          10.236186027526855,
          10.38404369354248,
          9.630070686340332,
          10.925042152404785,
          10.26030445098877,
          10.635207176208496,
          7.364645004272461,
          9.257997512817383,
          9.36305046081543,
          8.897597312927246,
          9.525932312011719,
          8.937601089477539,
          9.073885917663574,
          9.151252746582031,
          9.06125259399414,
          7.836826801300049,
          9.01409912109375,
          9.422696113586426,
          9.086165428161621,
          9.403707504272461,
          9.188112258911133,
          9.19580364227295,
          9.386347770690918
         ]
        }
       ],
       "layout": {
        "margin": {
         "b": 10,
         "l": 10,
         "r": 20,
         "t": 10
        },
        "scene": {
         "xaxis": {
          "title": {
           "text": "X AXIS"
          }
         },
         "yaxis": {
          "title": {
           "text": "Y AXIS"
          }
         },
         "zaxis": {
          "title": {
           "text": "Z AXIS"
          }
         }
        },
        "template": {
         "data": {
          "bar": [
           {
            "error_x": {
             "color": "#2a3f5f"
            },
            "error_y": {
             "color": "#2a3f5f"
            },
            "marker": {
             "line": {
              "color": "#E5ECF6",
              "width": 0.5
             },
             "pattern": {
              "fillmode": "overlay",
              "size": 10,
              "solidity": 0.2
             }
            },
            "type": "bar"
           }
          ],
          "barpolar": [
           {
            "marker": {
             "line": {
              "color": "#E5ECF6",
              "width": 0.5
             },
             "pattern": {
              "fillmode": "overlay",
              "size": 10,
              "solidity": 0.2
             }
            },
            "type": "barpolar"
           }
          ],
          "carpet": [
           {
            "aaxis": {
             "endlinecolor": "#2a3f5f",
             "gridcolor": "white",
             "linecolor": "white",
             "minorgridcolor": "white",
             "startlinecolor": "#2a3f5f"
            },
            "baxis": {
             "endlinecolor": "#2a3f5f",
             "gridcolor": "white",
             "linecolor": "white",
             "minorgridcolor": "white",
             "startlinecolor": "#2a3f5f"
            },
            "type": "carpet"
           }
          ],
          "choropleth": [
           {
            "colorbar": {
             "outlinewidth": 0,
             "ticks": ""
            },
            "type": "choropleth"
           }
          ],
          "contour": [
           {
            "colorbar": {
             "outlinewidth": 0,
             "ticks": ""
            },
            "colorscale": [
             [
              0,
              "#0d0887"
             ],
             [
              0.1111111111111111,
              "#46039f"
             ],
             [
              0.2222222222222222,
              "#7201a8"
             ],
             [
              0.3333333333333333,
              "#9c179e"
             ],
             [
              0.4444444444444444,
              "#bd3786"
             ],
             [
              0.5555555555555556,
              "#d8576b"
             ],
             [
              0.6666666666666666,
              "#ed7953"
             ],
             [
              0.7777777777777778,
              "#fb9f3a"
             ],
             [
              0.8888888888888888,
              "#fdca26"
             ],
             [
              1,
              "#f0f921"
             ]
            ],
            "type": "contour"
           }
          ],
          "contourcarpet": [
           {
            "colorbar": {
             "outlinewidth": 0,
             "ticks": ""
            },
            "type": "contourcarpet"
           }
          ],
          "heatmap": [
           {
            "colorbar": {
             "outlinewidth": 0,
             "ticks": ""
            },
            "colorscale": [
             [
              0,
              "#0d0887"
             ],
             [
              0.1111111111111111,
              "#46039f"
             ],
             [
              0.2222222222222222,
              "#7201a8"
             ],
             [
              0.3333333333333333,
              "#9c179e"
             ],
             [
              0.4444444444444444,
              "#bd3786"
             ],
             [
              0.5555555555555556,
              "#d8576b"
             ],
             [
              0.6666666666666666,
              "#ed7953"
             ],
             [
              0.7777777777777778,
              "#fb9f3a"
             ],
             [
              0.8888888888888888,
              "#fdca26"
             ],
             [
              1,
              "#f0f921"
             ]
            ],
            "type": "heatmap"
           }
          ],
          "heatmapgl": [
           {
            "colorbar": {
             "outlinewidth": 0,
             "ticks": ""
            },
            "colorscale": [
             [
              0,
              "#0d0887"
             ],
             [
              0.1111111111111111,
              "#46039f"
             ],
             [
              0.2222222222222222,
              "#7201a8"
             ],
             [
              0.3333333333333333,
              "#9c179e"
             ],
             [
              0.4444444444444444,
              "#bd3786"
             ],
             [
              0.5555555555555556,
              "#d8576b"
             ],
             [
              0.6666666666666666,
              "#ed7953"
             ],
             [
              0.7777777777777778,
              "#fb9f3a"
             ],
             [
              0.8888888888888888,
              "#fdca26"
             ],
             [
              1,
              "#f0f921"
             ]
            ],
            "type": "heatmapgl"
           }
          ],
          "histogram": [
           {
            "marker": {
             "pattern": {
              "fillmode": "overlay",
              "size": 10,
              "solidity": 0.2
             }
            },
            "type": "histogram"
           }
          ],
          "histogram2d": [
           {
            "colorbar": {
             "outlinewidth": 0,
             "ticks": ""
            },
            "colorscale": [
             [
              0,
              "#0d0887"
             ],
             [
              0.1111111111111111,
              "#46039f"
             ],
             [
              0.2222222222222222,
              "#7201a8"
             ],
             [
              0.3333333333333333,
              "#9c179e"
             ],
             [
              0.4444444444444444,
              "#bd3786"
             ],
             [
              0.5555555555555556,
              "#d8576b"
             ],
             [
              0.6666666666666666,
              "#ed7953"
             ],
             [
              0.7777777777777778,
              "#fb9f3a"
             ],
             [
              0.8888888888888888,
              "#fdca26"
             ],
             [
              1,
              "#f0f921"
             ]
            ],
            "type": "histogram2d"
           }
          ],
          "histogram2dcontour": [
           {
            "colorbar": {
             "outlinewidth": 0,
             "ticks": ""
            },
            "colorscale": [
             [
              0,
              "#0d0887"
             ],
             [
              0.1111111111111111,
              "#46039f"
             ],
             [
              0.2222222222222222,
              "#7201a8"
             ],
             [
              0.3333333333333333,
              "#9c179e"
             ],
             [
              0.4444444444444444,
              "#bd3786"
             ],
             [
              0.5555555555555556,
              "#d8576b"
             ],
             [
              0.6666666666666666,
              "#ed7953"
             ],
             [
              0.7777777777777778,
              "#fb9f3a"
             ],
             [
              0.8888888888888888,
              "#fdca26"
             ],
             [
              1,
              "#f0f921"
             ]
            ],
            "type": "histogram2dcontour"
           }
          ],
          "mesh3d": [
           {
            "colorbar": {
             "outlinewidth": 0,
             "ticks": ""
            },
            "type": "mesh3d"
           }
          ],
          "parcoords": [
           {
            "line": {
             "colorbar": {
              "outlinewidth": 0,
              "ticks": ""
             }
            },
            "type": "parcoords"
           }
          ],
          "pie": [
           {
            "automargin": true,
            "type": "pie"
           }
          ],
          "scatter": [
           {
            "fillpattern": {
             "fillmode": "overlay",
             "size": 10,
             "solidity": 0.2
            },
            "type": "scatter"
           }
          ],
          "scatter3d": [
           {
            "line": {
             "colorbar": {
              "outlinewidth": 0,
              "ticks": ""
             }
            },
            "marker": {
             "colorbar": {
              "outlinewidth": 0,
              "ticks": ""
             }
            },
            "type": "scatter3d"
           }
          ],
          "scattercarpet": [
           {
            "marker": {
             "colorbar": {
              "outlinewidth": 0,
              "ticks": ""
             }
            },
            "type": "scattercarpet"
           }
          ],
          "scattergeo": [
           {
            "marker": {
             "colorbar": {
              "outlinewidth": 0,
              "ticks": ""
             }
            },
            "type": "scattergeo"
           }
          ],
          "scattergl": [
           {
            "marker": {
             "colorbar": {
              "outlinewidth": 0,
              "ticks": ""
             }
            },
            "type": "scattergl"
           }
          ],
          "scattermapbox": [
           {
            "marker": {
             "colorbar": {
              "outlinewidth": 0,
              "ticks": ""
             }
            },
            "type": "scattermapbox"
           }
          ],
          "scatterpolar": [
           {
            "marker": {
             "colorbar": {
              "outlinewidth": 0,
              "ticks": ""
             }
            },
            "type": "scatterpolar"
           }
          ],
          "scatterpolargl": [
           {
            "marker": {
             "colorbar": {
              "outlinewidth": 0,
              "ticks": ""
             }
            },
            "type": "scatterpolargl"
           }
          ],
          "scatterternary": [
           {
            "marker": {
             "colorbar": {
              "outlinewidth": 0,
              "ticks": ""
             }
            },
            "type": "scatterternary"
           }
          ],
          "surface": [
           {
            "colorbar": {
             "outlinewidth": 0,
             "ticks": ""
            },
            "colorscale": [
             [
              0,
              "#0d0887"
             ],
             [
              0.1111111111111111,
              "#46039f"
             ],
             [
              0.2222222222222222,
              "#7201a8"
             ],
             [
              0.3333333333333333,
              "#9c179e"
             ],
             [
              0.4444444444444444,
              "#bd3786"
             ],
             [
              0.5555555555555556,
              "#d8576b"
             ],
             [
              0.6666666666666666,
              "#ed7953"
             ],
             [
              0.7777777777777778,
              "#fb9f3a"
             ],
             [
              0.8888888888888888,
              "#fdca26"
             ],
             [
              1,
              "#f0f921"
             ]
            ],
            "type": "surface"
           }
          ],
          "table": [
           {
            "cells": {
             "fill": {
              "color": "#EBF0F8"
             },
             "line": {
              "color": "white"
             }
            },
            "header": {
             "fill": {
              "color": "#C8D4E3"
             },
             "line": {
              "color": "white"
             }
            },
            "type": "table"
           }
          ]
         },
         "layout": {
          "annotationdefaults": {
           "arrowcolor": "#2a3f5f",
           "arrowhead": 0,
           "arrowwidth": 1
          },
          "autotypenumbers": "strict",
          "coloraxis": {
           "colorbar": {
            "outlinewidth": 0,
            "ticks": ""
           }
          },
          "colorscale": {
           "diverging": [
            [
             0,
             "#8e0152"
            ],
            [
             0.1,
             "#c51b7d"
            ],
            [
             0.2,
             "#de77ae"
            ],
            [
             0.3,
             "#f1b6da"
            ],
            [
             0.4,
             "#fde0ef"
            ],
            [
             0.5,
             "#f7f7f7"
            ],
            [
             0.6,
             "#e6f5d0"
            ],
            [
             0.7,
             "#b8e186"
            ],
            [
             0.8,
             "#7fbc41"
            ],
            [
             0.9,
             "#4d9221"
            ],
            [
             1,
             "#276419"
            ]
           ],
           "sequential": [
            [
             0,
             "#0d0887"
            ],
            [
             0.1111111111111111,
             "#46039f"
            ],
            [
             0.2222222222222222,
             "#7201a8"
            ],
            [
             0.3333333333333333,
             "#9c179e"
            ],
            [
             0.4444444444444444,
             "#bd3786"
            ],
            [
             0.5555555555555556,
             "#d8576b"
            ],
            [
             0.6666666666666666,
             "#ed7953"
            ],
            [
             0.7777777777777778,
             "#fb9f3a"
            ],
            [
             0.8888888888888888,
             "#fdca26"
            ],
            [
             1,
             "#f0f921"
            ]
           ],
           "sequentialminus": [
            [
             0,
             "#0d0887"
            ],
            [
             0.1111111111111111,
             "#46039f"
            ],
            [
             0.2222222222222222,
             "#7201a8"
            ],
            [
             0.3333333333333333,
             "#9c179e"
            ],
            [
             0.4444444444444444,
             "#bd3786"
            ],
            [
             0.5555555555555556,
             "#d8576b"
            ],
            [
             0.6666666666666666,
             "#ed7953"
            ],
            [
             0.7777777777777778,
             "#fb9f3a"
            ],
            [
             0.8888888888888888,
             "#fdca26"
            ],
            [
             1,
             "#f0f921"
            ]
           ]
          },
          "colorway": [
           "#636efa",
           "#EF553B",
           "#00cc96",
           "#ab63fa",
           "#FFA15A",
           "#19d3f3",
           "#FF6692",
           "#B6E880",
           "#FF97FF",
           "#FECB52"
          ],
          "font": {
           "color": "#2a3f5f"
          },
          "geo": {
           "bgcolor": "white",
           "lakecolor": "white",
           "landcolor": "#E5ECF6",
           "showlakes": true,
           "showland": true,
           "subunitcolor": "white"
          },
          "hoverlabel": {
           "align": "left"
          },
          "hovermode": "closest",
          "mapbox": {
           "style": "light"
          },
          "paper_bgcolor": "white",
          "plot_bgcolor": "#E5ECF6",
          "polar": {
           "angularaxis": {
            "gridcolor": "white",
            "linecolor": "white",
            "ticks": ""
           },
           "bgcolor": "#E5ECF6",
           "radialaxis": {
            "gridcolor": "white",
            "linecolor": "white",
            "ticks": ""
           }
          },
          "scene": {
           "xaxis": {
            "backgroundcolor": "#E5ECF6",
            "gridcolor": "white",
            "gridwidth": 2,
            "linecolor": "white",
            "showbackground": true,
            "ticks": "",
            "zerolinecolor": "white"
           },
           "yaxis": {
            "backgroundcolor": "#E5ECF6",
            "gridcolor": "white",
            "gridwidth": 2,
            "linecolor": "white",
            "showbackground": true,
            "ticks": "",
            "zerolinecolor": "white"
           },
           "zaxis": {
            "backgroundcolor": "#E5ECF6",
            "gridcolor": "white",
            "gridwidth": 2,
            "linecolor": "white",
            "showbackground": true,
            "ticks": "",
            "zerolinecolor": "white"
           }
          },
          "shapedefaults": {
           "line": {
            "color": "#2a3f5f"
           }
          },
          "ternary": {
           "aaxis": {
            "gridcolor": "white",
            "linecolor": "white",
            "ticks": ""
           },
           "baxis": {
            "gridcolor": "white",
            "linecolor": "white",
            "ticks": ""
           },
           "bgcolor": "#E5ECF6",
           "caxis": {
            "gridcolor": "white",
            "linecolor": "white",
            "ticks": ""
           }
          },
          "title": {
           "x": 0.05
          },
          "xaxis": {
           "automargin": true,
           "gridcolor": "white",
           "linecolor": "white",
           "ticks": "",
           "title": {
            "standoff": 15
           },
           "zerolinecolor": "white",
           "zerolinewidth": 2
          },
          "yaxis": {
           "automargin": true,
           "gridcolor": "white",
           "linecolor": "white",
           "ticks": "",
           "title": {
            "standoff": 15
           },
           "zerolinecolor": "white",
           "zerolinewidth": 2
          }
         }
        },
        "width": 700
       }
      }
     },
     "metadata": {},
     "output_type": "display_data"
    },
    {
     "data": {
      "application/vnd.jupyter.widget-view+json": {
       "model_id": "3b40f04c42dc4af887127f436100bffc",
       "version_major": 2,
       "version_minor": 0
      },
      "text/plain": [
       "interactive(children=(FloatSlider(value=0.0, description='eps:', max=32.6344072276016, step=0.01), Output()), …"
      ]
     },
     "metadata": {},
     "output_type": "display_data"
    },
    {
     "data": {
      "application/vnd.plotly.v1+json": {
       "config": {
        "plotlyServerURL": "https://plot.ly"
       },
       "data": [
        {
         "hovertemplate": "%{text}<br>x: %{x}<br>y: %{y}<br>z: %{z}<extra></extra>",
         "marker": {
          "color": "rgb(100, 150, 200)",
          "colorscale": [
           [
            0,
            "#440154"
           ],
           [
            0.1111111111111111,
            "#482878"
           ],
           [
            0.2222222222222222,
            "#3e4989"
           ],
           [
            0.3333333333333333,
            "#31688e"
           ],
           [
            0.4444444444444444,
            "#26828e"
           ],
           [
            0.5555555555555556,
            "#1f9e89"
           ],
           [
            0.6666666666666666,
            "#35b779"
           ],
           [
            0.7777777777777778,
            "#6ece58"
           ],
           [
            0.8888888888888888,
            "#b5de2b"
           ],
           [
            1,
            "#fde725"
           ]
          ],
          "opacity": 0.8,
          "size": 6
         },
         "mode": "markers+text",
         "text": [
          "<cls>",
          "M",
          "A",
          "V",
          "E",
          "S",
          "R",
          "V",
          "T",
          "Q",
          "E",
          "E",
          "I",
          "K",
          "K",
          "E",
          "P",
          "E",
          "K",
          "P",
          "I",
          "D",
          "R",
          "E",
          "K",
          "T",
          "C",
          "P",
          "L",
          "L",
          "L",
          "R",
          "V",
          "F",
          "T",
          "T",
          "N",
          "N",
          "G",
          "R",
          "H",
          "H",
          "R",
          "M",
          "D",
          "E",
          "F",
          "S",
          "R",
          "G",
          "N",
          "V",
          "P",
          "S",
          "S",
          "E",
          "L",
          "Q",
          "I",
          "Y",
          "T",
          "W",
          "M",
          "D",
          "A",
          "T",
          "L",
          "K",
          "E",
          "L",
          "T",
          "S",
          "L",
          "V",
          "K",
          "E",
          "V",
          "Y",
          "P",
          "E",
          "A",
          "R",
          "K",
          "K",
          "G",
          "T",
          "H",
          "F",
          "N",
          "F",
          "A",
          "I",
          "V",
          "F",
          "T",
          "D",
          "V",
          "K",
          "R",
          "P",
          "G",
          "Y",
          "R",
          "V",
          "K",
          "E",
          "I",
          "G",
          "S",
          "T",
          "M",
          "S",
          "G",
          "R",
          "K",
          "G",
          "T",
          "D",
          "D",
          "S",
          "M",
          "T",
          "L",
          "Q",
          "S",
          "Q",
          "K",
          "F",
          "Q",
          "I",
          "G",
          "D",
          "Y",
          "L",
          "D",
          "I",
          "A",
          "I",
          "T",
          "P",
          "P",
          "N",
          "R",
          "A",
          "P",
          "P",
          "P",
          "S",
          "G",
          "R",
          "M",
          "R",
          "P",
          "Y",
          "<eos>"
         ],
         "textposition": "top center",
         "type": "scatter3d",
         "x": [
          1.4655747413635254,
          1.6481561660766602,
          1.8126591444015503,
          2.001458168029785,
          1.9976128339767456,
          3.51702880859375,
          1.592313528060913,
          2.254302501678467,
          3.3266537189483643,
          1.7896908521652222,
          2.144888401031494,
          2.26343035697937,
          2.481553792953491,
          1.6001766920089722,
          1.5508040189743042,
          2.0979247093200684,
          2.822540521621704,
          2.0341639518737793,
          1.3226408958435059,
          3.221900701522827,
          2.3674094676971436,
          3.224432945251465,
          1.2945678234100342,
          1.8163764476776123,
          0.7145765423774719,
          3.1262125968933105,
          2.258402109146118,
          3.456451177597046,
          1.3512314558029175,
          1.2516900300979614,
          1.3056180477142334,
          1.4899810552597046,
          1.4184757471084595,
          2.2056684494018555,
          3.326508045196533,
          3.377143621444702,
          2.663421869277954,
          2.721787452697754,
          2.0542542934417725,
          1.241273045539856,
          2.909003257751465,
          2.898236036300659,
          1.3946583271026611,
          0.91035395860672,
          3.066197633743286,
          1.494776725769043,
          2.0933146476745605,
          3.6009488105773926,
          1.3098881244659424,
          2.116706132888794,
          2.6529080867767334,
          1.9891859292984009,
          3.0343449115753174,
          3.240194797515869,
          3.2109646797180176,
          1.643099069595337,
          1.3259230852127075,
          1.6345523595809937,
          0.9060967564582825,
          2.652681827545166,
          3.312657117843628,
          2.5590102672576904,
          0.9827433824539185,
          3.2696926593780518,
          1.9723751544952393,
          3.060981035232544,
          1.3746498823165894,
          0.5459855198860168,
          1.6777325868606567,
          1.1057103872299194,
          3.384566307067871,
          3.4217886924743652,
          1.2109830379486084,
          1.322243094444275,
          0.5349121689796448,
          1.7032243013381958,
          1.1996877193450928,
          2.413175344467163,
          3.536811351776123,
          1.675443172454834,
          1.6082321405410767,
          1.0432707071304321,
          0.683469295501709,
          0.9399324059486389,
          2.115565299987793,
          3.1048195362091064,
          2.7513513565063477,
          2.2009339332580566,
          2.850430965423584,
          1.8715623617172241,
          2.0486509799957275,
          1.752691626548767,
          1.7694429159164429,
          2.1004042625427246,
          3.2817909717559814,
          3.2218446731567383,
          1.7296133041381836,
          0.750590443611145,
          1.0989340543746948,
          3.5216403007507324,
          2.04580020904541,
          2.5816049575805664,
          1.391404628753662,
          1.2406237125396729,
          0.6706434488296509,
          1.5520480871200562,
          0.83653724193573,
          1.8972294330596924,
          3.560526132583618,
          3.1412196159362793,
          1.1484562158584595,
          3.284990072250366,
          2.1815454959869385,
          1.1328643560409546,
          0.7441622614860535,
          2.1163339614868164,
          3.098602056503296,
          2.9608514308929443,
          2.869910478591919,
          3.2785825729370117,
          1.1575459241867065,
          3.308570623397827,
          1.3448426723480225,
          1.580517053604126,
          3.4412527084350586,
          1.4037528038024902,
          0.752468466758728,
          2.2610743045806885,
          1.600401520729065,
          0.8652403950691223,
          1.9646844863891602,
          3.127955198287964,
          2.5745773315429688,
          1.4861594438552856,
          3.1576480865478516,
          1.4604769945144653,
          1.9980069398880005,
          1.536219835281372,
          3.4595048427581787,
          3.330174446105957,
          3.2385873794555664,
          2.644700527191162,
          1.5069490671157837,
          2.499858856201172,
          2.891826629638672,
          2.914724349975586,
          3.1037936210632324,
          3.2071328163146973,
          2.3348073959350586,
          1.6260331869125366,
          2.4288740158081055,
          1.7750102281570435,
          2.9615280628204346,
          2.7715466022491455,
          2.5776238441467285
         ],
         "y": [
          11.562596321105957,
          11.400313377380371,
          11.390946388244629,
          11.39500904083252,
          11.548957824707031,
          12.799661636352539,
          11.883695602416992,
          11.321020126342773,
          14.154236793518066,
          11.511285781860352,
          11.43910026550293,
          11.455368995666504,
          11.441610336303711,
          11.226141929626465,
          11.25621223449707,
          11.276453018188477,
          11.624335289001465,
          11.261094093322754,
          11.39797306060791,
          11.91938304901123,
          11.581854820251465,
          14.226537704467773,
          12.323396682739258,
          11.95398998260498,
          11.722041130065918,
          14.223786354064941,
          15.102739334106445,
          12.423563957214355,
          15.622884750366211,
          15.545772552490234,
          15.538707733154297,
          13.445331573486328,
          15.030271530151367,
          15.283365249633789,
          14.415467262268066,
          14.388851165771484,
          13.605289459228516,
          13.701281547546387,
          14.07590389251709,
          12.687296867370605,
          15.091668128967285,
          15.133216857910156,
          12.823654174804688,
          14.868096351623535,
          14.645271301269531,
          12.147150039672852,
          15.61218547821045,
          13.08434772491455,
          12.490252494812012,
          13.80650520324707,
          13.671587944030762,
          14.808370590209961,
          12.598573684692383,
          12.720378875732422,
          12.672075271606445,
          12.2479887008667,
          15.677911758422852,
          12.983903884887695,
          15.14453411102295,
          15.26414966583252,
          14.629730224609375,
          15.28196907043457,
          15.229606628417969,
          14.372674942016602,
          14.395537376403809,
          14.580195426940918,
          15.506348609924316,
          12.117591857910156,
          12.053476333618164,
          15.66706657409668,
          14.643056869506836,
          12.879056930541992,
          15.839713096618652,
          15.172737121582031,
          12.099945068359375,
          12.02492904663086,
          15.021617889404297,
          15.230210304260254,
          12.282793998718262,
          12.211262702941895,
          14.649352073669434,
          12.536871910095215,
          12.01729965209961,
          12.050021171569824,
          14.17250919342041,
          14.271413803100586,
          15.029202461242676,
          15.564620971679688,
          14.114836692810059,
          15.318489074707031,
          14.375079154968262,
          15.01150131225586,
          14.708856582641602,
          15.26228141784668,
          14.363313674926758,
          14.458250999450684,
          14.651735305786133,
          12.31689739227295,
          12.98652172088623,
          12.117157936096191,
          14.3552827835083,
          15.610261917114258,
          13.158199310302734,
          14.909977912902832,
          12.2752685546875,
          11.989605903625488,
          15.021265029907227,
          13.92541790008545,
          12.93753433227539,
          14.309174537658691,
          14.375589370727539,
          12.687891960144043,
          13.91817569732666,
          12.78331184387207,
          11.95843505859375,
          14.024059295654297,
          13.979121208190918,
          14.281628608703613,
          14.401128768920898,
          13.065966606140137,
          14.620024681091309,
          14.269639015197754,
          15.353025436401367,
          12.622427940368652,
          12.873708724975586,
          12.924607276916504,
          11.897732734680176,
          15.686630249023438,
          13.072490692138672,
          14.985915184020996,
          14.202877044677734,
          14.482268333435059,
          15.429390907287598,
          15.706978797912598,
          14.298648834228516,
          14.987598419189453,
          14.1659517288208,
          14.80673599243164,
          14.182782173156738,
          12.317513465881348,
          12.082351684570312,
          13.20669174194336,
          12.373335838317871,
          12.259513854980469,
          12.129261016845703,
          12.169095993041992,
          12.429634094238281,
          12.575654983520508,
          13.125040054321289,
          12.464176177978516,
          12.521185874938965,
          12.422839164733887,
          12.286641120910645,
          12.449420928955078,
          12.700492858886719
         ],
         "z": [
          9.414450645446777,
          9.62393569946289,
          9.75843334197998,
          9.889772415161133,
          10.570076942443848,
          7.200372695922852,
          9.874160766601562,
          9.794084548950195,
          7.61420202255249,
          10.253223419189453,
          10.854314804077148,
          10.615727424621582,
          9.78813362121582,
          10.875247955322266,
          10.854742050170898,
          10.867939949035645,
          9.760883331298828,
          10.817771911621094,
          10.90293025970459,
          9.596931457519531,
          9.60999584197998,
          8.836271286010742,
          9.884516716003418,
          11.053217887878418,
          10.83011245727539,
          7.2048115730285645,
          9.783249855041504,
          9.643352508544922,
          11.011835098266602,
          11.001823425292969,
          10.984971046447754,
          10.816993713378906,
          11.14250659942627,
          11.010632514953613,
          7.144697666168213,
          7.525879383087158,
          8.789192199707031,
          8.86963939666748,
          9.034531593322754,
          9.804317474365234,
          9.737704277038574,
          9.780512809753418,
          10.177486419677734,
          9.880183219909668,
          9.25869369506836,
          11.496027946472168,
          10.688026428222656,
          7.4012532234191895,
          9.967347145080566,
          9.225044250488281,
          9.072798728942871,
          9.736852645874023,
          9.802237510681152,
          7.512959003448486,
          7.252675533294678,
          11.24731731414795,
          10.48454475402832,
          10.92434024810791,
          10.782814979553223,
          10.48588752746582,
          7.2897233963012695,
          10.63449764251709,
          10.010781288146973,
          9.455822944641113,
          9.750588417053223,
          7.438647270202637,
          10.245757102966309,
          10.761032104492188,
          11.421619415283203,
          10.402862548828125,
          7.205195426940918,
          7.251497745513916,
          10.296259880065918,
          10.606202125549316,
          10.684588432312012,
          11.336490631103516,
          10.628188133239746,
          10.048750877380371,
          9.524147987365723,
          11.26513671875,
          10.085458755493164,
          9.947164535522461,
          10.655123710632324,
          10.927075386047363,
          9.0635347366333,
          7.309120178222656,
          9.799821853637695,
          10.634908676147461,
          9.830520629882812,
          10.980636596679688,
          10.467572212219238,
          10.927967071533203,
          10.88333797454834,
          10.87511920928955,
          7.329168796539307,
          9.305341720581055,
          9.983197212219238,
          10.915008544921875,
          9.83626651763916,
          9.468618392944336,
          9.085914611816406,
          10.264507293701172,
          10.475695610046387,
          10.075891494750977,
          10.846835136413574,
          11.436545372009277,
          10.585272789001465,
          9.159065246582031,
          7.393656253814697,
          7.647773265838623,
          9.487199783325195,
          7.684580326080322,
          8.897871971130371,
          9.760340690612793,
          11.020276069641113,
          9.309845924377441,
          7.466039657592773,
          9.235393524169922,
          9.125597953796387,
          7.413838863372803,
          9.746574401855469,
          7.500818252563477,
          10.038677215576172,
          10.880009651184082,
          7.258820533752441,
          10.891608238220215,
          11.086283683776855,
          10.601831436157227,
          10.691611289978027,
          10.573776245117188,
          8.9049711227417,
          9.023755073547363,
          10.236186027526855,
          10.38404369354248,
          9.630070686340332,
          10.925042152404785,
          10.26030445098877,
          10.635207176208496,
          7.364645004272461,
          9.257997512817383,
          9.36305046081543,
          8.897597312927246,
          9.525932312011719,
          8.937601089477539,
          9.073885917663574,
          9.151252746582031,
          9.06125259399414,
          7.836826801300049,
          9.01409912109375,
          9.422696113586426,
          9.086165428161621,
          9.403707504272461,
          9.188112258911133,
          9.19580364227295,
          9.386347770690918
         ]
        },
        {
         "line": {
          "color": "darkblue",
          "width": 2
         },
         "mode": "lines",
         "type": "scatter3d",
         "x": [
          1.6481561660766602,
          1.8126591444015503
         ],
         "y": [
          11.400313377380371,
          11.390946388244629
         ],
         "z": [
          9.62393569946289,
          9.75843334197998
         ]
        },
        {
         "line": {
          "color": "darkblue",
          "width": 2
         },
         "mode": "lines",
         "type": "scatter3d",
         "x": [
          1.8126591444015503,
          2.001458168029785
         ],
         "y": [
          11.390946388244629,
          11.39500904083252
         ],
         "z": [
          9.75843334197998,
          9.889772415161133
         ]
        },
        {
         "line": {
          "color": "darkblue",
          "width": 2
         },
         "mode": "lines",
         "type": "scatter3d",
         "x": [
          1.8126591444015503,
          1.9976128339767456
         ],
         "y": [
          11.390946388244629,
          11.548957824707031
         ],
         "z": [
          9.75843334197998,
          10.570076942443848
         ]
        },
        {
         "line": {
          "color": "darkblue",
          "width": 2
         },
         "mode": "lines",
         "type": "scatter3d",
         "x": [
          1.8126591444015503,
          1.9980069398880005
         ],
         "y": [
          11.390946388244629,
          14.1659517288208
         ],
         "z": [
          9.75843334197998,
          10.26030445098877
         ]
        },
        {
         "line": {
          "color": "darkblue",
          "width": 2
         },
         "mode": "lines",
         "type": "scatter3d",
         "x": [
          2.001458168029785,
          1.592313528060913
         ],
         "y": [
          11.39500904083252,
          11.883695602416992
         ],
         "z": [
          9.889772415161133,
          9.874160766601562
         ]
        },
        {
         "line": {
          "color": "darkblue",
          "width": 2
         },
         "mode": "lines",
         "type": "scatter3d",
         "x": [
          2.001458168029785,
          2.254302501678467
         ],
         "y": [
          11.39500904083252,
          11.321020126342773
         ],
         "z": [
          9.889772415161133,
          9.794084548950195
         ]
        },
        {
         "line": {
          "color": "darkblue",
          "width": 2
         },
         "mode": "lines",
         "type": "scatter3d",
         "x": [
          1.9976128339767456,
          2.254302501678467
         ],
         "y": [
          11.548957824707031,
          11.321020126342773
         ],
         "z": [
          10.570076942443848,
          9.794084548950195
         ]
        },
        {
         "line": {
          "color": "darkblue",
          "width": 2
         },
         "mode": "lines",
         "type": "scatter3d",
         "x": [
          1.9976128339767456,
          1.7896908521652222
         ],
         "y": [
          11.548957824707031,
          11.511285781860352
         ],
         "z": [
          10.570076942443848,
          10.253223419189453
         ]
        },
        {
         "line": {
          "color": "darkblue",
          "width": 2
         },
         "mode": "lines",
         "type": "scatter3d",
         "x": [
          1.9976128339767456,
          2.144888401031494
         ],
         "y": [
          11.548957824707031,
          11.43910026550293
         ],
         "z": [
          10.570076942443848,
          10.854314804077148
         ]
        },
        {
         "line": {
          "color": "darkblue",
          "width": 2
         },
         "mode": "lines",
         "type": "scatter3d",
         "x": [
          1.9976128339767456,
          2.26343035697937
         ],
         "y": [
          11.548957824707031,
          11.455368995666504
         ],
         "z": [
          10.570076942443848,
          10.615727424621582
         ]
        },
        {
         "line": {
          "color": "darkblue",
          "width": 2
         },
         "mode": "lines",
         "type": "scatter3d",
         "x": [
          1.9976128339767456,
          2.0979247093200684
         ],
         "y": [
          11.548957824707031,
          11.276453018188477
         ],
         "z": [
          10.570076942443848,
          10.867939949035645
         ]
        },
        {
         "line": {
          "color": "darkblue",
          "width": 2
         },
         "mode": "lines",
         "type": "scatter3d",
         "x": [
          1.9976128339767456,
          1.8163764476776123
         ],
         "y": [
          11.548957824707031,
          11.95398998260498
         ],
         "z": [
          10.570076942443848,
          11.053217887878418
         ]
        },
        {
         "line": {
          "color": "darkblue",
          "width": 2
         },
         "mode": "lines",
         "type": "scatter3d",
         "x": [
          1.9976128339767456,
          1.7032243013381958
         ],
         "y": [
          11.548957824707031,
          12.02492904663086
         ],
         "z": [
          10.570076942443848,
          11.336490631103516
         ]
        },
        {
         "line": {
          "color": "darkblue",
          "width": 2
         },
         "mode": "lines",
         "type": "scatter3d",
         "x": [
          1.9976128339767456,
          1.580517053604126
         ],
         "y": [
          11.548957824707031,
          12.622427940368652
         ],
         "z": [
          10.570076942443848,
          10.880009651184082
         ]
        },
        {
         "line": {
          "color": "darkblue",
          "width": 2
         },
         "mode": "lines",
         "type": "scatter3d",
         "x": [
          3.51702880859375,
          3.4217886924743652
         ],
         "y": [
          12.799661636352539,
          12.879056930541992
         ],
         "z": [
          7.200372695922852,
          7.251497745513916
         ]
        },
        {
         "line": {
          "color": "darkblue",
          "width": 2
         },
         "mode": "lines",
         "type": "scatter3d",
         "x": [
          3.51702880859375,
          3.560526132583618
         ],
         "y": [
          12.799661636352539,
          12.93753433227539
         ],
         "z": [
          7.200372695922852,
          7.393656253814697
         ]
        },
        {
         "line": {
          "color": "darkblue",
          "width": 2
         },
         "mode": "lines",
         "type": "scatter3d",
         "x": [
          3.51702880859375,
          3.2785825729370117
         ],
         "y": [
          12.799661636352539,
          13.065966606140137
         ],
         "z": [
          7.200372695922852,
          7.413838863372803
         ]
        },
        {
         "line": {
          "color": "darkblue",
          "width": 2
         },
         "mode": "lines",
         "type": "scatter3d",
         "x": [
          3.51702880859375,
          3.4412527084350586
         ],
         "y": [
          12.799661636352539,
          12.873708724975586
         ],
         "z": [
          7.200372695922852,
          7.258820533752441
         ]
        },
        {
         "line": {
          "color": "darkblue",
          "width": 2
         },
         "mode": "lines",
         "type": "scatter3d",
         "x": [
          1.592313528060913,
          1.7896908521652222
         ],
         "y": [
          11.883695602416992,
          11.511285781860352
         ],
         "z": [
          9.874160766601562,
          10.253223419189453
         ]
        },
        {
         "line": {
          "color": "darkblue",
          "width": 2
         },
         "mode": "lines",
         "type": "scatter3d",
         "x": [
          1.592313528060913,
          1.2945678234100342
         ],
         "y": [
          11.883695602416992,
          12.323396682739258
         ],
         "z": [
          9.874160766601562,
          9.884516716003418
         ]
        },
        {
         "line": {
          "color": "darkblue",
          "width": 2
         },
         "mode": "lines",
         "type": "scatter3d",
         "x": [
          2.254302501678467,
          2.481553792953491
         ],
         "y": [
          11.321020126342773,
          11.441610336303711
         ],
         "z": [
          9.794084548950195,
          9.78813362121582
         ]
        },
        {
         "line": {
          "color": "darkblue",
          "width": 2
         },
         "mode": "lines",
         "type": "scatter3d",
         "x": [
          3.3266537189483643,
          3.308570623397827
         ],
         "y": [
          14.154236793518066,
          14.269639015197754
         ],
         "z": [
          7.61420202255249,
          7.500818252563477
         ]
        },
        {
         "line": {
          "color": "darkblue",
          "width": 2
         },
         "mode": "lines",
         "type": "scatter3d",
         "x": [
          2.144888401031494,
          2.26343035697937
         ],
         "y": [
          11.43910026550293,
          11.455368995666504
         ],
         "z": [
          10.854314804077148,
          10.615727424621582
         ]
        },
        {
         "line": {
          "color": "darkblue",
          "width": 2
         },
         "mode": "lines",
         "type": "scatter3d",
         "x": [
          2.144888401031494,
          1.5508040189743042
         ],
         "y": [
          11.43910026550293,
          11.25621223449707
         ],
         "z": [
          10.854314804077148,
          10.854742050170898
         ]
        },
        {
         "line": {
          "color": "darkblue",
          "width": 2
         },
         "mode": "lines",
         "type": "scatter3d",
         "x": [
          2.144888401031494,
          2.0979247093200684
         ],
         "y": [
          11.43910026550293,
          11.276453018188477
         ],
         "z": [
          10.854314804077148,
          10.867939949035645
         ]
        },
        {
         "line": {
          "color": "darkblue",
          "width": 2
         },
         "mode": "lines",
         "type": "scatter3d",
         "x": [
          2.144888401031494,
          2.0341639518737793
         ],
         "y": [
          11.43910026550293,
          11.261094093322754
         ],
         "z": [
          10.854314804077148,
          10.817771911621094
         ]
        },
        {
         "line": {
          "color": "darkblue",
          "width": 2
         },
         "mode": "lines",
         "type": "scatter3d",
         "x": [
          2.144888401031494,
          1.8163764476776123
         ],
         "y": [
          11.43910026550293,
          11.95398998260498
         ],
         "z": [
          10.854314804077148,
          11.053217887878418
         ]
        },
        {
         "line": {
          "color": "darkblue",
          "width": 2
         },
         "mode": "lines",
         "type": "scatter3d",
         "x": [
          2.144888401031494,
          1.7032243013381958
         ],
         "y": [
          11.43910026550293,
          12.02492904663086
         ],
         "z": [
          10.854314804077148,
          11.336490631103516
         ]
        },
        {
         "line": {
          "color": "darkblue",
          "width": 2
         },
         "mode": "lines",
         "type": "scatter3d",
         "x": [
          2.26343035697937,
          2.0979247093200684
         ],
         "y": [
          11.455368995666504,
          11.276453018188477
         ],
         "z": [
          10.615727424621582,
          10.867939949035645
         ]
        },
        {
         "line": {
          "color": "darkblue",
          "width": 2
         },
         "mode": "lines",
         "type": "scatter3d",
         "x": [
          2.26343035697937,
          2.822540521621704
         ],
         "y": [
          11.455368995666504,
          11.624335289001465
         ],
         "z": [
          10.615727424621582,
          9.760883331298828
         ]
        },
        {
         "line": {
          "color": "darkblue",
          "width": 2
         },
         "mode": "lines",
         "type": "scatter3d",
         "x": [
          2.26343035697937,
          2.0341639518737793
         ],
         "y": [
          11.455368995666504,
          11.261094093322754
         ],
         "z": [
          10.615727424621582,
          10.817771911621094
         ]
        },
        {
         "line": {
          "color": "darkblue",
          "width": 2
         },
         "mode": "lines",
         "type": "scatter3d",
         "x": [
          2.26343035697937,
          3.221900701522827
         ],
         "y": [
          11.455368995666504,
          11.91938304901123
         ],
         "z": [
          10.615727424621582,
          9.596931457519531
         ]
        },
        {
         "line": {
          "color": "darkblue",
          "width": 2
         },
         "mode": "lines",
         "type": "scatter3d",
         "x": [
          2.26343035697937,
          1.6777325868606567
         ],
         "y": [
          11.455368995666504,
          12.053476333618164
         ],
         "z": [
          10.615727424621582,
          11.421619415283203
         ]
        },
        {
         "line": {
          "color": "darkblue",
          "width": 2
         },
         "mode": "lines",
         "type": "scatter3d",
         "x": [
          2.26343035697937,
          1.7032243013381958
         ],
         "y": [
          11.455368995666504,
          12.02492904663086
         ],
         "z": [
          10.615727424621582,
          11.336490631103516
         ]
        },
        {
         "line": {
          "color": "darkblue",
          "width": 2
         },
         "mode": "lines",
         "type": "scatter3d",
         "x": [
          2.481553792953491,
          2.822540521621704
         ],
         "y": [
          11.441610336303711,
          11.624335289001465
         ],
         "z": [
          9.78813362121582,
          9.760883331298828
         ]
        },
        {
         "line": {
          "color": "darkblue",
          "width": 2
         },
         "mode": "lines",
         "type": "scatter3d",
         "x": [
          2.481553792953491,
          2.3674094676971436
         ],
         "y": [
          11.441610336303711,
          11.581854820251465
         ],
         "z": [
          9.78813362121582,
          9.60999584197998
         ]
        },
        {
         "line": {
          "color": "darkblue",
          "width": 2
         },
         "mode": "lines",
         "type": "scatter3d",
         "x": [
          1.6001766920089722,
          1.5508040189743042
         ],
         "y": [
          11.226141929626465,
          11.25621223449707
         ],
         "z": [
          10.875247955322266,
          10.854742050170898
         ]
        },
        {
         "line": {
          "color": "darkblue",
          "width": 2
         },
         "mode": "lines",
         "type": "scatter3d",
         "x": [
          1.6001766920089722,
          2.0341639518737793
         ],
         "y": [
          11.226141929626465,
          11.261094093322754
         ],
         "z": [
          10.875247955322266,
          10.817771911621094
         ]
        },
        {
         "line": {
          "color": "darkblue",
          "width": 2
         },
         "mode": "lines",
         "type": "scatter3d",
         "x": [
          1.5508040189743042,
          1.3226408958435059
         ],
         "y": [
          11.25621223449707,
          11.39797306060791
         ],
         "z": [
          10.854742050170898,
          10.90293025970459
         ]
        },
        {
         "line": {
          "color": "darkblue",
          "width": 2
         },
         "mode": "lines",
         "type": "scatter3d",
         "x": [
          2.0979247093200684,
          2.0341639518737793
         ],
         "y": [
          11.276453018188477,
          11.261094093322754
         ],
         "z": [
          10.867939949035645,
          10.817771911621094
         ]
        },
        {
         "line": {
          "color": "darkblue",
          "width": 2
         },
         "mode": "lines",
         "type": "scatter3d",
         "x": [
          2.0979247093200684,
          1.8163764476776123
         ],
         "y": [
          11.276453018188477,
          11.95398998260498
         ],
         "z": [
          10.867939949035645,
          11.053217887878418
         ]
        },
        {
         "line": {
          "color": "darkblue",
          "width": 2
         },
         "mode": "lines",
         "type": "scatter3d",
         "x": [
          2.822540521621704,
          3.221900701522827
         ],
         "y": [
          11.624335289001465,
          11.91938304901123
         ],
         "z": [
          9.760883331298828,
          9.596931457519531
         ]
        },
        {
         "line": {
          "color": "darkblue",
          "width": 2
         },
         "mode": "lines",
         "type": "scatter3d",
         "x": [
          2.0341639518737793,
          1.8163764476776123
         ],
         "y": [
          11.261094093322754,
          11.95398998260498
         ],
         "z": [
          10.817771911621094,
          11.053217887878418
         ]
        },
        {
         "line": {
          "color": "darkblue",
          "width": 2
         },
         "mode": "lines",
         "type": "scatter3d",
         "x": [
          3.221900701522827,
          3.456451177597046
         ],
         "y": [
          11.91938304901123,
          12.423563957214355
         ],
         "z": [
          9.596931457519531,
          9.643352508544922
         ]
        },
        {
         "line": {
          "color": "darkblue",
          "width": 2
         },
         "mode": "lines",
         "type": "scatter3d",
         "x": [
          3.221900701522827,
          3.5216403007507324
         ],
         "y": [
          11.91938304901123,
          12.117157936096191
         ],
         "z": [
          9.596931457519531,
          9.468618392944336
         ]
        },
        {
         "line": {
          "color": "darkblue",
          "width": 2
         },
         "mode": "lines",
         "type": "scatter3d",
         "x": [
          3.221900701522827,
          2.1163339614868164
         ],
         "y": [
          11.91938304901123,
          14.024059295654297
         ],
         "z": [
          9.596931457519531,
          9.309845924377441
         ]
        },
        {
         "line": {
          "color": "darkblue",
          "width": 2
         },
         "mode": "lines",
         "type": "scatter3d",
         "x": [
          3.221900701522827,
          3.2385873794555664
         ],
         "y": [
          11.91938304901123,
          12.082351684570312
         ],
         "z": [
          9.596931457519531,
          9.36305046081543
         ]
        },
        {
         "line": {
          "color": "darkblue",
          "width": 2
         },
         "mode": "lines",
         "type": "scatter3d",
         "x": [
          3.221900701522827,
          2.9615280628204346
         ],
         "y": [
          11.91938304901123,
          12.286641120910645
         ],
         "z": [
          9.596931457519531,
          9.188112258911133
         ]
        },
        {
         "line": {
          "color": "darkblue",
          "width": 2
         },
         "mode": "lines",
         "type": "scatter3d",
         "x": [
          1.2945678234100342,
          0.7145765423774719
         ],
         "y": [
          12.323396682739258,
          11.722041130065918
         ],
         "z": [
          9.884516716003418,
          10.83011245727539
         ]
        },
        {
         "line": {
          "color": "darkblue",
          "width": 2
         },
         "mode": "lines",
         "type": "scatter3d",
         "x": [
          1.2945678234100342,
          1.3946583271026611
         ],
         "y": [
          12.323396682739258,
          12.823654174804688
         ],
         "z": [
          9.884516716003418,
          10.177486419677734
         ]
        },
        {
         "line": {
          "color": "darkblue",
          "width": 2
         },
         "mode": "lines",
         "type": "scatter3d",
         "x": [
          1.2945678234100342,
          1.3098881244659424
         ],
         "y": [
          12.323396682739258,
          12.490252494812012
         ],
         "z": [
          9.884516716003418,
          9.967347145080566
         ]
        },
        {
         "line": {
          "color": "darkblue",
          "width": 2
         },
         "mode": "lines",
         "type": "scatter3d",
         "x": [
          1.2945678234100342,
          1.1328643560409546
         ],
         "y": [
          12.323396682739258,
          12.78331184387207
         ],
         "z": [
          9.884516716003418,
          9.760340690612793
         ]
        },
        {
         "line": {
          "color": "darkblue",
          "width": 2
         },
         "mode": "lines",
         "type": "scatter3d",
         "x": [
          1.2945678234100342,
          1.5069490671157837
         ],
         "y": [
          12.323396682739258,
          12.373335838317871
         ],
         "z": [
          9.884516716003418,
          9.525932312011719
         ]
        },
        {
         "line": {
          "color": "darkblue",
          "width": 2
         },
         "mode": "lines",
         "type": "scatter3d",
         "x": [
          1.8163764476776123,
          1.494776725769043
         ],
         "y": [
          11.95398998260498,
          12.147150039672852
         ],
         "z": [
          11.053217887878418,
          11.496027946472168
         ]
        },
        {
         "line": {
          "color": "darkblue",
          "width": 2
         },
         "mode": "lines",
         "type": "scatter3d",
         "x": [
          1.8163764476776123,
          2.116706132888794
         ],
         "y": [
          11.95398998260498,
          13.80650520324707
         ],
         "z": [
          11.053217887878418,
          9.225044250488281
         ]
        },
        {
         "line": {
          "color": "darkblue",
          "width": 2
         },
         "mode": "lines",
         "type": "scatter3d",
         "x": [
          1.8163764476776123,
          1.643099069595337
         ],
         "y": [
          11.95398998260498,
          12.2479887008667
         ],
         "z": [
          11.053217887878418,
          11.24731731414795
         ]
        },
        {
         "line": {
          "color": "darkblue",
          "width": 2
         },
         "mode": "lines",
         "type": "scatter3d",
         "x": [
          1.8163764476776123,
          0.5459855198860168
         ],
         "y": [
          11.95398998260498,
          12.117591857910156
         ],
         "z": [
          11.053217887878418,
          10.761032104492188
         ]
        },
        {
         "line": {
          "color": "darkblue",
          "width": 2
         },
         "mode": "lines",
         "type": "scatter3d",
         "x": [
          1.8163764476776123,
          1.6777325868606567
         ],
         "y": [
          11.95398998260498,
          12.053476333618164
         ],
         "z": [
          11.053217887878418,
          11.421619415283203
         ]
        },
        {
         "line": {
          "color": "darkblue",
          "width": 2
         },
         "mode": "lines",
         "type": "scatter3d",
         "x": [
          1.8163764476776123,
          1.7032243013381958
         ],
         "y": [
          11.95398998260498,
          12.02492904663086
         ],
         "z": [
          11.053217887878418,
          11.336490631103516
         ]
        },
        {
         "line": {
          "color": "darkblue",
          "width": 2
         },
         "mode": "lines",
         "type": "scatter3d",
         "x": [
          1.8163764476776123,
          0.683469295501709
         ],
         "y": [
          11.95398998260498,
          12.01729965209961
         ],
         "z": [
          11.053217887878418,
          10.655123710632324
         ]
        },
        {
         "line": {
          "color": "darkblue",
          "width": 2
         },
         "mode": "lines",
         "type": "scatter3d",
         "x": [
          1.8163764476776123,
          1.2406237125396729
         ],
         "y": [
          11.95398998260498,
          14.909977912902832
         ],
         "z": [
          11.053217887878418,
          10.075891494750977
         ]
        },
        {
         "line": {
          "color": "darkblue",
          "width": 2
         },
         "mode": "lines",
         "type": "scatter3d",
         "x": [
          1.8163764476776123,
          1.5520480871200562
         ],
         "y": [
          11.95398998260498,
          11.989605903625488
         ],
         "z": [
          11.053217887878418,
          11.436545372009277
         ]
        },
        {
         "line": {
          "color": "darkblue",
          "width": 2
         },
         "mode": "lines",
         "type": "scatter3d",
         "x": [
          1.8163764476776123,
          1.580517053604126
         ],
         "y": [
          11.95398998260498,
          12.622427940368652
         ],
         "z": [
          11.053217887878418,
          10.880009651184082
         ]
        },
        {
         "line": {
          "color": "darkblue",
          "width": 2
         },
         "mode": "lines",
         "type": "scatter3d",
         "x": [
          0.7145765423774719,
          0.5459855198860168
         ],
         "y": [
          11.722041130065918,
          12.117591857910156
         ],
         "z": [
          10.83011245727539,
          10.761032104492188
         ]
        },
        {
         "line": {
          "color": "darkblue",
          "width": 2
         },
         "mode": "lines",
         "type": "scatter3d",
         "x": [
          0.7145765423774719,
          0.5349121689796448
         ],
         "y": [
          11.722041130065918,
          12.099945068359375
         ],
         "z": [
          10.83011245727539,
          10.684588432312012
         ]
        },
        {
         "line": {
          "color": "darkblue",
          "width": 2
         },
         "mode": "lines",
         "type": "scatter3d",
         "x": [
          0.7145765423774719,
          0.683469295501709
         ],
         "y": [
          11.722041130065918,
          12.01729965209961
         ],
         "z": [
          10.83011245727539,
          10.655123710632324
         ]
        },
        {
         "line": {
          "color": "darkblue",
          "width": 2
         },
         "mode": "lines",
         "type": "scatter3d",
         "x": [
          0.7145765423774719,
          0.9399324059486389
         ],
         "y": [
          11.722041130065918,
          12.050021171569824
         ],
         "z": [
          10.83011245727539,
          10.927075386047363
         ]
        },
        {
         "line": {
          "color": "darkblue",
          "width": 2
         },
         "mode": "lines",
         "type": "scatter3d",
         "x": [
          0.7145765423774719,
          0.750590443611145
         ],
         "y": [
          11.722041130065918,
          12.31689739227295
         ],
         "z": [
          10.83011245727539,
          10.915008544921875
         ]
        },
        {
         "line": {
          "color": "darkblue",
          "width": 2
         },
         "mode": "lines",
         "type": "scatter3d",
         "x": [
          0.7145765423774719,
          0.6706434488296509
         ],
         "y": [
          11.722041130065918,
          12.2752685546875
         ],
         "z": [
          10.83011245727539,
          10.846835136413574
         ]
        },
        {
         "line": {
          "color": "darkblue",
          "width": 2
         },
         "mode": "lines",
         "type": "scatter3d",
         "x": [
          0.7145765423774719,
          0.7441622614860535
         ],
         "y": [
          11.722041130065918,
          11.95843505859375
         ],
         "z": [
          10.83011245727539,
          11.020276069641113
         ]
        },
        {
         "line": {
          "color": "darkblue",
          "width": 2
         },
         "mode": "lines",
         "type": "scatter3d",
         "x": [
          0.7145765423774719,
          0.752468466758728
         ],
         "y": [
          11.722041130065918,
          11.897732734680176
         ],
         "z": [
          10.83011245727539,
          11.086283683776855
         ]
        },
        {
         "line": {
          "color": "darkblue",
          "width": 2
         },
         "mode": "lines",
         "type": "scatter3d",
         "x": [
          3.1262125968933105,
          3.1048195362091064
         ],
         "y": [
          14.223786354064941,
          14.271413803100586
         ],
         "z": [
          7.2048115730285645,
          7.309120178222656
         ]
        },
        {
         "line": {
          "color": "darkblue",
          "width": 2
         },
         "mode": "lines",
         "type": "scatter3d",
         "x": [
          3.1262125968933105,
          3.308570623397827
         ],
         "y": [
          14.223786354064941,
          14.269639015197754
         ],
         "z": [
          7.2048115730285645,
          7.500818252563477
         ]
        },
        {
         "line": {
          "color": "darkblue",
          "width": 2
         },
         "mode": "lines",
         "type": "scatter3d",
         "x": [
          3.456451177597046,
          1.3512314558029175
         ],
         "y": [
          12.423563957214355,
          15.622884750366211
         ],
         "z": [
          9.643352508544922,
          11.011835098266602
         ]
        },
        {
         "line": {
          "color": "darkblue",
          "width": 2
         },
         "mode": "lines",
         "type": "scatter3d",
         "x": [
          3.456451177597046,
          3.536811351776123
         ],
         "y": [
          12.423563957214355,
          12.282793998718262
         ],
         "z": [
          9.643352508544922,
          9.524147987365723
         ]
        },
        {
         "line": {
          "color": "darkblue",
          "width": 2
         },
         "mode": "lines",
         "type": "scatter3d",
         "x": [
          3.456451177597046,
          2.850430965423584
         ],
         "y": [
          12.423563957214355,
          14.114836692810059
         ],
         "z": [
          9.643352508544922,
          9.830520629882812
         ]
        },
        {
         "line": {
          "color": "darkblue",
          "width": 2
         },
         "mode": "lines",
         "type": "scatter3d",
         "x": [
          3.456451177597046,
          3.5216403007507324
         ],
         "y": [
          12.423563957214355,
          12.117157936096191
         ],
         "z": [
          9.643352508544922,
          9.468618392944336
         ]
        },
        {
         "line": {
          "color": "darkblue",
          "width": 2
         },
         "mode": "lines",
         "type": "scatter3d",
         "x": [
          3.456451177597046,
          3.2385873794555664
         ],
         "y": [
          12.423563957214355,
          12.082351684570312
         ],
         "z": [
          9.643352508544922,
          9.36305046081543
         ]
        },
        {
         "line": {
          "color": "darkblue",
          "width": 2
         },
         "mode": "lines",
         "type": "scatter3d",
         "x": [
          1.3512314558029175,
          1.2516900300979614
         ],
         "y": [
          15.622884750366211,
          15.545772552490234
         ],
         "z": [
          11.011835098266602,
          11.001823425292969
         ]
        },
        {
         "line": {
          "color": "darkblue",
          "width": 2
         },
         "mode": "lines",
         "type": "scatter3d",
         "x": [
          1.3512314558029175,
          1.3056180477142334
         ],
         "y": [
          15.622884750366211,
          15.538707733154297
         ],
         "z": [
          11.011835098266602,
          10.984971046447754
         ]
        },
        {
         "line": {
          "color": "darkblue",
          "width": 2
         },
         "mode": "lines",
         "type": "scatter3d",
         "x": [
          1.3512314558029175,
          1.4184757471084595
         ],
         "y": [
          15.622884750366211,
          15.030271530151367
         ],
         "z": [
          11.011835098266602,
          11.14250659942627
         ]
        },
        {
         "line": {
          "color": "darkblue",
          "width": 2
         },
         "mode": "lines",
         "type": "scatter3d",
         "x": [
          1.3512314558029175,
          1.3259230852127075
         ],
         "y": [
          15.622884750366211,
          15.677911758422852
         ],
         "z": [
          11.011835098266602,
          10.48454475402832
         ]
        },
        {
         "line": {
          "color": "darkblue",
          "width": 2
         },
         "mode": "lines",
         "type": "scatter3d",
         "x": [
          1.3512314558029175,
          1.2109830379486084
         ],
         "y": [
          15.622884750366211,
          15.839713096618652
         ],
         "z": [
          11.011835098266602,
          10.296259880065918
         ]
        },
        {
         "line": {
          "color": "darkblue",
          "width": 2
         },
         "mode": "lines",
         "type": "scatter3d",
         "x": [
          1.3512314558029175,
          1.752691626548767
         ],
         "y": [
          15.622884750366211,
          15.01150131225586
         ],
         "z": [
          11.011835098266602,
          10.927967071533203
         ]
        },
        {
         "line": {
          "color": "darkblue",
          "width": 2
         },
         "mode": "lines",
         "type": "scatter3d",
         "x": [
          1.3512314558029175,
          1.7694429159164429
         ],
         "y": [
          15.622884750366211,
          14.708856582641602
         ],
         "z": [
          11.011835098266602,
          10.88333797454834
         ]
        },
        {
         "line": {
          "color": "darkblue",
          "width": 2
         },
         "mode": "lines",
         "type": "scatter3d",
         "x": [
          1.3512314558029175,
          1.3448426723480225
         ],
         "y": [
          15.622884750366211,
          15.353025436401367
         ],
         "z": [
          11.011835098266602,
          10.038677215576172
         ]
        },
        {
         "line": {
          "color": "darkblue",
          "width": 2
         },
         "mode": "lines",
         "type": "scatter3d",
         "x": [
          1.2516900300979614,
          1.3056180477142334
         ],
         "y": [
          15.545772552490234,
          15.538707733154297
         ],
         "z": [
          11.001823425292969,
          10.984971046447754
         ]
        },
        {
         "line": {
          "color": "darkblue",
          "width": 2
         },
         "mode": "lines",
         "type": "scatter3d",
         "x": [
          1.2516900300979614,
          1.4899810552597046
         ],
         "y": [
          15.545772552490234,
          13.445331573486328
         ],
         "z": [
          11.001823425292969,
          10.816993713378906
         ]
        },
        {
         "line": {
          "color": "darkblue",
          "width": 2
         },
         "mode": "lines",
         "type": "scatter3d",
         "x": [
          1.2516900300979614,
          1.4184757471084595
         ],
         "y": [
          15.545772552490234,
          15.030271530151367
         ],
         "z": [
          11.001823425292969,
          11.14250659942627
         ]
        },
        {
         "line": {
          "color": "darkblue",
          "width": 2
         },
         "mode": "lines",
         "type": "scatter3d",
         "x": [
          1.2516900300979614,
          2.2056684494018555
         ],
         "y": [
          15.545772552490234,
          15.283365249633789
         ],
         "z": [
          11.001823425292969,
          11.010632514953613
         ]
        },
        {
         "line": {
          "color": "darkblue",
          "width": 2
         },
         "mode": "lines",
         "type": "scatter3d",
         "x": [
          1.2516900300979614,
          1.3259230852127075
         ],
         "y": [
          15.545772552490234,
          15.677911758422852
         ],
         "z": [
          11.001823425292969,
          10.48454475402832
         ]
        },
        {
         "line": {
          "color": "darkblue",
          "width": 2
         },
         "mode": "lines",
         "type": "scatter3d",
         "x": [
          1.2516900300979614,
          1.3746498823165894
         ],
         "y": [
          15.545772552490234,
          15.506348609924316
         ],
         "z": [
          11.001823425292969,
          10.245757102966309
         ]
        },
        {
         "line": {
          "color": "darkblue",
          "width": 2
         },
         "mode": "lines",
         "type": "scatter3d",
         "x": [
          1.2516900300979614,
          1.2109830379486084
         ],
         "y": [
          15.545772552490234,
          15.839713096618652
         ],
         "z": [
          11.001823425292969,
          10.296259880065918
         ]
        },
        {
         "line": {
          "color": "darkblue",
          "width": 2
         },
         "mode": "lines",
         "type": "scatter3d",
         "x": [
          1.2516900300979614,
          1.7694429159164429
         ],
         "y": [
          15.545772552490234,
          14.708856582641602
         ],
         "z": [
          11.001823425292969,
          10.88333797454834
         ]
        },
        {
         "line": {
          "color": "darkblue",
          "width": 2
         },
         "mode": "lines",
         "type": "scatter3d",
         "x": [
          1.2516900300979614,
          2.1004042625427246
         ],
         "y": [
          15.545772552490234,
          15.26228141784668
         ],
         "z": [
          11.001823425292969,
          10.87511920928955
         ]
        },
        {
         "line": {
          "color": "darkblue",
          "width": 2
         },
         "mode": "lines",
         "type": "scatter3d",
         "x": [
          1.2516900300979614,
          1.580517053604126
         ],
         "y": [
          15.545772552490234,
          12.622427940368652
         ],
         "z": [
          11.001823425292969,
          10.880009651184082
         ]
        },
        {
         "line": {
          "color": "darkblue",
          "width": 2
         },
         "mode": "lines",
         "type": "scatter3d",
         "x": [
          1.3056180477142334,
          1.4899810552597046
         ],
         "y": [
          15.538707733154297,
          13.445331573486328
         ],
         "z": [
          10.984971046447754,
          10.816993713378906
         ]
        },
        {
         "line": {
          "color": "darkblue",
          "width": 2
         },
         "mode": "lines",
         "type": "scatter3d",
         "x": [
          1.3056180477142334,
          1.4184757471084595
         ],
         "y": [
          15.538707733154297,
          15.030271530151367
         ],
         "z": [
          10.984971046447754,
          11.14250659942627
         ]
        },
        {
         "line": {
          "color": "darkblue",
          "width": 2
         },
         "mode": "lines",
         "type": "scatter3d",
         "x": [
          1.3056180477142334,
          2.2056684494018555
         ],
         "y": [
          15.538707733154297,
          15.283365249633789
         ],
         "z": [
          10.984971046447754,
          11.010632514953613
         ]
        },
        {
         "line": {
          "color": "darkblue",
          "width": 2
         },
         "mode": "lines",
         "type": "scatter3d",
         "x": [
          1.3056180477142334,
          1.3259230852127075
         ],
         "y": [
          15.538707733154297,
          15.677911758422852
         ],
         "z": [
          10.984971046447754,
          10.48454475402832
         ]
        },
        {
         "line": {
          "color": "darkblue",
          "width": 2
         },
         "mode": "lines",
         "type": "scatter3d",
         "x": [
          1.3056180477142334,
          0.9060967564582825
         ],
         "y": [
          15.538707733154297,
          15.14453411102295
         ],
         "z": [
          10.984971046447754,
          10.782814979553223
         ]
        },
        {
         "line": {
          "color": "darkblue",
          "width": 2
         },
         "mode": "lines",
         "type": "scatter3d",
         "x": [
          1.3056180477142334,
          1.3746498823165894
         ],
         "y": [
          15.538707733154297,
          15.506348609924316
         ],
         "z": [
          10.984971046447754,
          10.245757102966309
         ]
        },
        {
         "line": {
          "color": "darkblue",
          "width": 2
         },
         "mode": "lines",
         "type": "scatter3d",
         "x": [
          1.3056180477142334,
          1.8715623617172241
         ],
         "y": [
          15.538707733154297,
          15.318489074707031
         ],
         "z": [
          10.984971046447754,
          10.980636596679688
         ]
        },
        {
         "line": {
          "color": "darkblue",
          "width": 2
         },
         "mode": "lines",
         "type": "scatter3d",
         "x": [
          1.3056180477142334,
          2.0486509799957275
         ],
         "y": [
          15.538707733154297,
          14.375079154968262
         ],
         "z": [
          10.984971046447754,
          10.467572212219238
         ]
        },
        {
         "line": {
          "color": "darkblue",
          "width": 2
         },
         "mode": "lines",
         "type": "scatter3d",
         "x": [
          1.3056180477142334,
          1.752691626548767
         ],
         "y": [
          15.538707733154297,
          15.01150131225586
         ],
         "z": [
          10.984971046447754,
          10.927967071533203
         ]
        },
        {
         "line": {
          "color": "darkblue",
          "width": 2
         },
         "mode": "lines",
         "type": "scatter3d",
         "x": [
          1.3056180477142334,
          1.7694429159164429
         ],
         "y": [
          15.538707733154297,
          14.708856582641602
         ],
         "z": [
          10.984971046447754,
          10.88333797454834
         ]
        },
        {
         "line": {
          "color": "darkblue",
          "width": 2
         },
         "mode": "lines",
         "type": "scatter3d",
         "x": [
          1.3056180477142334,
          2.1004042625427246
         ],
         "y": [
          15.538707733154297,
          15.26228141784668
         ],
         "z": [
          10.984971046447754,
          10.87511920928955
         ]
        },
        {
         "line": {
          "color": "darkblue",
          "width": 2
         },
         "mode": "lines",
         "type": "scatter3d",
         "x": [
          1.3056180477142334,
          1.3448426723480225
         ],
         "y": [
          15.538707733154297,
          15.353025436401367
         ],
         "z": [
          10.984971046447754,
          10.038677215576172
         ]
        },
        {
         "line": {
          "color": "darkblue",
          "width": 2
         },
         "mode": "lines",
         "type": "scatter3d",
         "x": [
          1.3056180477142334,
          1.4861594438552856
         ],
         "y": [
          15.538707733154297,
          15.706978797912598
         ],
         "z": [
          10.984971046447754,
          10.38404369354248
         ]
        },
        {
         "line": {
          "color": "darkblue",
          "width": 2
         },
         "mode": "lines",
         "type": "scatter3d",
         "x": [
          1.4899810552597046,
          1.4184757471084595
         ],
         "y": [
          13.445331573486328,
          15.030271530151367
         ],
         "z": [
          10.816993713378906,
          11.14250659942627
         ]
        },
        {
         "line": {
          "color": "darkblue",
          "width": 2
         },
         "mode": "lines",
         "type": "scatter3d",
         "x": [
          1.4899810552597046,
          1.3946583271026611
         ],
         "y": [
          13.445331573486328,
          12.823654174804688
         ],
         "z": [
          10.816993713378906,
          10.177486419677734
         ]
        },
        {
         "line": {
          "color": "darkblue",
          "width": 2
         },
         "mode": "lines",
         "type": "scatter3d",
         "x": [
          1.4899810552597046,
          1.3098881244659424
         ],
         "y": [
          13.445331573486328,
          12.490252494812012
         ],
         "z": [
          10.816993713378906,
          9.967347145080566
         ]
        },
        {
         "line": {
          "color": "darkblue",
          "width": 2
         },
         "mode": "lines",
         "type": "scatter3d",
         "x": [
          1.4899810552597046,
          1.6345523595809937
         ],
         "y": [
          13.445331573486328,
          12.983903884887695
         ],
         "z": [
          10.816993713378906,
          10.92434024810791
         ]
        },
        {
         "line": {
          "color": "darkblue",
          "width": 2
         },
         "mode": "lines",
         "type": "scatter3d",
         "x": [
          1.4899810552597046,
          1.752691626548767
         ],
         "y": [
          13.445331573486328,
          15.01150131225586
         ],
         "z": [
          10.816993713378906,
          10.927967071533203
         ]
        },
        {
         "line": {
          "color": "darkblue",
          "width": 2
         },
         "mode": "lines",
         "type": "scatter3d",
         "x": [
          1.4899810552597046,
          1.391404628753662
         ],
         "y": [
          13.445331573486328,
          13.158199310302734
         ],
         "z": [
          10.816993713378906,
          10.475695610046387
         ]
        },
        {
         "line": {
          "color": "darkblue",
          "width": 2
         },
         "mode": "lines",
         "type": "scatter3d",
         "x": [
          1.4899810552597046,
          1.580517053604126
         ],
         "y": [
          13.445331573486328,
          12.622427940368652
         ],
         "z": [
          10.816993713378906,
          10.880009651184082
         ]
        },
        {
         "line": {
          "color": "darkblue",
          "width": 2
         },
         "mode": "lines",
         "type": "scatter3d",
         "x": [
          1.4184757471084595,
          2.2056684494018555
         ],
         "y": [
          15.030271530151367,
          15.283365249633789
         ],
         "z": [
          11.14250659942627,
          11.010632514953613
         ]
        },
        {
         "line": {
          "color": "darkblue",
          "width": 2
         },
         "mode": "lines",
         "type": "scatter3d",
         "x": [
          1.4184757471084595,
          3.326508045196533
         ],
         "y": [
          15.030271530151367,
          14.415467262268066
         ],
         "z": [
          11.14250659942627,
          7.144697666168213
         ]
        },
        {
         "line": {
          "color": "darkblue",
          "width": 2
         },
         "mode": "lines",
         "type": "scatter3d",
         "x": [
          1.4184757471084595,
          1.494776725769043
         ],
         "y": [
          15.030271530151367,
          12.147150039672852
         ],
         "z": [
          11.14250659942627,
          11.496027946472168
         ]
        },
        {
         "line": {
          "color": "darkblue",
          "width": 2
         },
         "mode": "lines",
         "type": "scatter3d",
         "x": [
          1.4184757471084595,
          2.116706132888794
         ],
         "y": [
          15.030271530151367,
          13.80650520324707
         ],
         "z": [
          11.14250659942627,
          9.225044250488281
         ]
        },
        {
         "line": {
          "color": "darkblue",
          "width": 2
         },
         "mode": "lines",
         "type": "scatter3d",
         "x": [
          1.4184757471084595,
          1.3259230852127075
         ],
         "y": [
          15.030271530151367,
          15.677911758422852
         ],
         "z": [
          11.14250659942627,
          10.48454475402832
         ]
        },
        {
         "line": {
          "color": "darkblue",
          "width": 2
         },
         "mode": "lines",
         "type": "scatter3d",
         "x": [
          1.4184757471084595,
          0.9060967564582825
         ],
         "y": [
          15.030271530151367,
          15.14453411102295
         ],
         "z": [
          11.14250659942627,
          10.782814979553223
         ]
        },
        {
         "line": {
          "color": "darkblue",
          "width": 2
         },
         "mode": "lines",
         "type": "scatter3d",
         "x": [
          1.4184757471084595,
          3.312657117843628
         ],
         "y": [
          15.030271530151367,
          14.629730224609375
         ],
         "z": [
          11.14250659942627,
          7.2897233963012695
         ]
        },
        {
         "line": {
          "color": "darkblue",
          "width": 2
         },
         "mode": "lines",
         "type": "scatter3d",
         "x": [
          1.4184757471084595,
          1.1996877193450928
         ],
         "y": [
          15.030271530151367,
          15.021617889404297
         ],
         "z": [
          11.14250659942627,
          10.628188133239746
         ]
        },
        {
         "line": {
          "color": "darkblue",
          "width": 2
         },
         "mode": "lines",
         "type": "scatter3d",
         "x": [
          1.4184757471084595,
          1.8715623617172241
         ],
         "y": [
          15.030271530151367,
          15.318489074707031
         ],
         "z": [
          11.14250659942627,
          10.980636596679688
         ]
        },
        {
         "line": {
          "color": "darkblue",
          "width": 2
         },
         "mode": "lines",
         "type": "scatter3d",
         "x": [
          1.4184757471084595,
          2.0486509799957275
         ],
         "y": [
          15.030271530151367,
          14.375079154968262
         ],
         "z": [
          11.14250659942627,
          10.467572212219238
         ]
        },
        {
         "line": {
          "color": "darkblue",
          "width": 2
         },
         "mode": "lines",
         "type": "scatter3d",
         "x": [
          1.4184757471084595,
          1.752691626548767
         ],
         "y": [
          15.030271530151367,
          15.01150131225586
         ],
         "z": [
          11.14250659942627,
          10.927967071533203
         ]
        },
        {
         "line": {
          "color": "darkblue",
          "width": 2
         },
         "mode": "lines",
         "type": "scatter3d",
         "x": [
          1.4184757471084595,
          1.7694429159164429
         ],
         "y": [
          15.030271530151367,
          14.708856582641602
         ],
         "z": [
          11.14250659942627,
          10.88333797454834
         ]
        },
        {
         "line": {
          "color": "darkblue",
          "width": 2
         },
         "mode": "lines",
         "type": "scatter3d",
         "x": [
          1.4184757471084595,
          2.1004042625427246
         ],
         "y": [
          15.030271530151367,
          15.26228141784668
         ],
         "z": [
          11.14250659942627,
          10.87511920928955
         ]
        },
        {
         "line": {
          "color": "darkblue",
          "width": 2
         },
         "mode": "lines",
         "type": "scatter3d",
         "x": [
          1.4184757471084595,
          1.2406237125396729
         ],
         "y": [
          15.030271530151367,
          14.909977912902832
         ],
         "z": [
          11.14250659942627,
          10.075891494750977
         ]
        },
        {
         "line": {
          "color": "darkblue",
          "width": 2
         },
         "mode": "lines",
         "type": "scatter3d",
         "x": [
          1.4184757471084595,
          1.8972294330596924
         ],
         "y": [
          15.030271530151367,
          13.92541790008545
         ],
         "z": [
          11.14250659942627,
          9.159065246582031
         ]
        },
        {
         "line": {
          "color": "darkblue",
          "width": 2
         },
         "mode": "lines",
         "type": "scatter3d",
         "x": [
          1.4184757471084595,
          1.4604769945144653
         ],
         "y": [
          15.030271530151367,
          14.987598419189453
         ],
         "z": [
          11.14250659942627,
          10.925042152404785
         ]
        },
        {
         "line": {
          "color": "darkblue",
          "width": 2
         },
         "mode": "lines",
         "type": "scatter3d",
         "x": [
          1.4184757471084595,
          1.9980069398880005
         ],
         "y": [
          15.030271530151367,
          14.1659517288208
         ],
         "z": [
          11.14250659942627,
          10.26030445098877
         ]
        },
        {
         "line": {
          "color": "darkblue",
          "width": 2
         },
         "mode": "lines",
         "type": "scatter3d",
         "x": [
          2.2056684494018555,
          2.0933146476745605
         ],
         "y": [
          15.283365249633789,
          15.61218547821045
         ],
         "z": [
          11.010632514953613,
          10.688026428222656
         ]
        },
        {
         "line": {
          "color": "darkblue",
          "width": 2
         },
         "mode": "lines",
         "type": "scatter3d",
         "x": [
          2.2056684494018555,
          2.652681827545166
         ],
         "y": [
          15.283365249633789,
          15.26414966583252
         ],
         "z": [
          11.010632514953613,
          10.48588752746582
         ]
        },
        {
         "line": {
          "color": "darkblue",
          "width": 2
         },
         "mode": "lines",
         "type": "scatter3d",
         "x": [
          2.2056684494018555,
          2.5590102672576904
         ],
         "y": [
          15.283365249633789,
          15.28196907043457
         ],
         "z": [
          11.010632514953613,
          10.63449764251709
         ]
        },
        {
         "line": {
          "color": "darkblue",
          "width": 2
         },
         "mode": "lines",
         "type": "scatter3d",
         "x": [
          2.2056684494018555,
          2.2009339332580566
         ],
         "y": [
          15.283365249633789,
          15.564620971679688
         ],
         "z": [
          11.010632514953613,
          10.634908676147461
         ]
        },
        {
         "line": {
          "color": "darkblue",
          "width": 2
         },
         "mode": "lines",
         "type": "scatter3d",
         "x": [
          2.2056684494018555,
          1.8715623617172241
         ],
         "y": [
          15.283365249633789,
          15.318489074707031
         ],
         "z": [
          11.010632514953613,
          10.980636596679688
         ]
        },
        {
         "line": {
          "color": "darkblue",
          "width": 2
         },
         "mode": "lines",
         "type": "scatter3d",
         "x": [
          2.2056684494018555,
          1.7694429159164429
         ],
         "y": [
          15.283365249633789,
          14.708856582641602
         ],
         "z": [
          11.010632514953613,
          10.88333797454834
         ]
        },
        {
         "line": {
          "color": "darkblue",
          "width": 2
         },
         "mode": "lines",
         "type": "scatter3d",
         "x": [
          2.2056684494018555,
          2.1004042625427246
         ],
         "y": [
          15.283365249633789,
          15.26228141784668
         ],
         "z": [
          11.010632514953613,
          10.87511920928955
         ]
        },
        {
         "line": {
          "color": "darkblue",
          "width": 2
         },
         "mode": "lines",
         "type": "scatter3d",
         "x": [
          2.2056684494018555,
          1.8972294330596924
         ],
         "y": [
          15.283365249633789,
          13.92541790008545
         ],
         "z": [
          11.010632514953613,
          9.159065246582031
         ]
        },
        {
         "line": {
          "color": "darkblue",
          "width": 2
         },
         "mode": "lines",
         "type": "scatter3d",
         "x": [
          2.2056684494018555,
          2.2610743045806885
         ],
         "y": [
          15.283365249633789,
          15.686630249023438
         ],
         "z": [
          11.010632514953613,
          10.601831436157227
         ]
        },
        {
         "line": {
          "color": "darkblue",
          "width": 2
         },
         "mode": "lines",
         "type": "scatter3d",
         "x": [
          2.2056684494018555,
          1.9980069398880005
         ],
         "y": [
          15.283365249633789,
          14.1659517288208
         ],
         "z": [
          11.010632514953613,
          10.26030445098877
         ]
        },
        {
         "line": {
          "color": "darkblue",
          "width": 2
         },
         "mode": "lines",
         "type": "scatter3d",
         "x": [
          3.326508045196533,
          3.377143621444702
         ],
         "y": [
          14.415467262268066,
          14.388851165771484
         ],
         "z": [
          7.144697666168213,
          7.525879383087158
         ]
        },
        {
         "line": {
          "color": "darkblue",
          "width": 2
         },
         "mode": "lines",
         "type": "scatter3d",
         "x": [
          3.326508045196533,
          3.6009488105773926
         ],
         "y": [
          14.415467262268066,
          13.08434772491455
         ],
         "z": [
          7.144697666168213,
          7.4012532234191895
         ]
        },
        {
         "line": {
          "color": "darkblue",
          "width": 2
         },
         "mode": "lines",
         "type": "scatter3d",
         "x": [
          3.326508045196533,
          3.312657117843628
         ],
         "y": [
          14.415467262268066,
          14.629730224609375
         ],
         "z": [
          7.144697666168213,
          7.2897233963012695
         ]
        },
        {
         "line": {
          "color": "darkblue",
          "width": 2
         },
         "mode": "lines",
         "type": "scatter3d",
         "x": [
          3.326508045196533,
          3.384566307067871
         ],
         "y": [
          14.415467262268066,
          14.643056869506836
         ],
         "z": [
          7.144697666168213,
          7.205195426940918
         ]
        },
        {
         "line": {
          "color": "darkblue",
          "width": 2
         },
         "mode": "lines",
         "type": "scatter3d",
         "x": [
          3.326508045196533,
          3.2817909717559814
         ],
         "y": [
          14.415467262268066,
          14.363313674926758
         ],
         "z": [
          7.144697666168213,
          7.329168796539307
         ]
        },
        {
         "line": {
          "color": "darkblue",
          "width": 2
         },
         "mode": "lines",
         "type": "scatter3d",
         "x": [
          3.326508045196533,
          3.1412196159362793
         ],
         "y": [
          14.415467262268066,
          14.309174537658691
         ],
         "z": [
          7.144697666168213,
          7.647773265838623
         ]
        },
        {
         "line": {
          "color": "darkblue",
          "width": 2
         },
         "mode": "lines",
         "type": "scatter3d",
         "x": [
          3.326508045196533,
          3.098602056503296
         ],
         "y": [
          14.415467262268066,
          13.979121208190918
         ],
         "z": [
          7.144697666168213,
          7.466039657592773
         ]
        },
        {
         "line": {
          "color": "darkblue",
          "width": 2
         },
         "mode": "lines",
         "type": "scatter3d",
         "x": [
          3.326508045196533,
          3.308570623397827
         ],
         "y": [
          14.415467262268066,
          14.269639015197754
         ],
         "z": [
          7.144697666168213,
          7.500818252563477
         ]
        },
        {
         "line": {
          "color": "darkblue",
          "width": 2
         },
         "mode": "lines",
         "type": "scatter3d",
         "x": [
          3.377143621444702,
          3.1412196159362793
         ],
         "y": [
          14.388851165771484,
          14.309174537658691
         ],
         "z": [
          7.525879383087158,
          7.647773265838623
         ]
        },
        {
         "line": {
          "color": "darkblue",
          "width": 2
         },
         "mode": "lines",
         "type": "scatter3d",
         "x": [
          2.663421869277954,
          2.721787452697754
         ],
         "y": [
          13.605289459228516,
          13.701281547546387
         ],
         "z": [
          8.789192199707031,
          8.86963939666748
         ]
        },
        {
         "line": {
          "color": "darkblue",
          "width": 2
         },
         "mode": "lines",
         "type": "scatter3d",
         "x": [
          2.663421869277954,
          3.6009488105773926
         ],
         "y": [
          13.605289459228516,
          13.08434772491455
         ],
         "z": [
          8.789192199707031,
          7.4012532234191895
         ]
        },
        {
         "line": {
          "color": "darkblue",
          "width": 2
         },
         "mode": "lines",
         "type": "scatter3d",
         "x": [
          2.663421869277954,
          2.116706132888794
         ],
         "y": [
          13.605289459228516,
          13.80650520324707
         ],
         "z": [
          8.789192199707031,
          9.225044250488281
         ]
        },
        {
         "line": {
          "color": "darkblue",
          "width": 2
         },
         "mode": "lines",
         "type": "scatter3d",
         "x": [
          2.663421869277954,
          2.6529080867767334
         ],
         "y": [
          13.605289459228516,
          13.671587944030762
         ],
         "z": [
          8.789192199707031,
          9.072798728942871
         ]
        },
        {
         "line": {
          "color": "darkblue",
          "width": 2
         },
         "mode": "lines",
         "type": "scatter3d",
         "x": [
          2.663421869277954,
          2.850430965423584
         ],
         "y": [
          13.605289459228516,
          14.114836692810059
         ],
         "z": [
          8.789192199707031,
          9.830520629882812
         ]
        },
        {
         "line": {
          "color": "darkblue",
          "width": 2
         },
         "mode": "lines",
         "type": "scatter3d",
         "x": [
          2.663421869277954,
          1.1484562158584595
         ],
         "y": [
          13.605289459228516,
          14.375589370727539
         ],
         "z": [
          8.789192199707031,
          9.487199783325195
         ]
        },
        {
         "line": {
          "color": "darkblue",
          "width": 2
         },
         "mode": "lines",
         "type": "scatter3d",
         "x": [
          2.663421869277954,
          1.1328643560409546
         ],
         "y": [
          13.605289459228516,
          12.78331184387207
         ],
         "z": [
          8.789192199707031,
          9.760340690612793
         ]
        },
        {
         "line": {
          "color": "darkblue",
          "width": 2
         },
         "mode": "lines",
         "type": "scatter3d",
         "x": [
          2.663421869277954,
          2.9608514308929443
         ],
         "y": [
          13.605289459228516,
          14.281628608703613
         ],
         "z": [
          8.789192199707031,
          9.235393524169922
         ]
        },
        {
         "line": {
          "color": "darkblue",
          "width": 2
         },
         "mode": "lines",
         "type": "scatter3d",
         "x": [
          2.663421869277954,
          2.644700527191162
         ],
         "y": [
          13.605289459228516,
          13.20669174194336
         ],
         "z": [
          8.789192199707031,
          8.897597312927246
         ]
        },
        {
         "line": {
          "color": "darkblue",
          "width": 2
         },
         "mode": "lines",
         "type": "scatter3d",
         "x": [
          2.721787452697754,
          2.0542542934417725
         ],
         "y": [
          13.701281547546387,
          14.07590389251709
         ],
         "z": [
          8.86963939666748,
          9.034531593322754
         ]
        },
        {
         "line": {
          "color": "darkblue",
          "width": 2
         },
         "mode": "lines",
         "type": "scatter3d",
         "x": [
          2.721787452697754,
          2.6529080867767334
         ],
         "y": [
          13.701281547546387,
          13.671587944030762
         ],
         "z": [
          8.86963939666748,
          9.072798728942871
         ]
        },
        {
         "line": {
          "color": "darkblue",
          "width": 2
         },
         "mode": "lines",
         "type": "scatter3d",
         "x": [
          2.721787452697754,
          2.869910478591919
         ],
         "y": [
          13.701281547546387,
          14.401128768920898
         ],
         "z": [
          8.86963939666748,
          9.125597953796387
         ]
        },
        {
         "line": {
          "color": "darkblue",
          "width": 2
         },
         "mode": "lines",
         "type": "scatter3d",
         "x": [
          2.0542542934417725,
          1.241273045539856
         ],
         "y": [
          14.07590389251709,
          12.687296867370605
         ],
         "z": [
          9.034531593322754,
          9.804317474365234
         ]
        },
        {
         "line": {
          "color": "darkblue",
          "width": 2
         },
         "mode": "lines",
         "type": "scatter3d",
         "x": [
          2.0542542934417725,
          2.116706132888794
         ],
         "y": [
          14.07590389251709,
          13.80650520324707
         ],
         "z": [
          9.034531593322754,
          9.225044250488281
         ]
        },
        {
         "line": {
          "color": "darkblue",
          "width": 2
         },
         "mode": "lines",
         "type": "scatter3d",
         "x": [
          2.0542542934417725,
          1.9891859292984009
         ],
         "y": [
          14.07590389251709,
          14.808370590209961
         ],
         "z": [
          9.034531593322754,
          9.736852645874023
         ]
        },
        {
         "line": {
          "color": "darkblue",
          "width": 2
         },
         "mode": "lines",
         "type": "scatter3d",
         "x": [
          2.0542542934417725,
          1.9723751544952393
         ],
         "y": [
          14.07590389251709,
          14.395537376403809
         ],
         "z": [
          9.034531593322754,
          9.750588417053223
         ]
        },
        {
         "line": {
          "color": "darkblue",
          "width": 2
         },
         "mode": "lines",
         "type": "scatter3d",
         "x": [
          2.0542542934417725,
          2.115565299987793
         ],
         "y": [
          14.07590389251709,
          14.17250919342041
         ],
         "z": [
          9.034531593322754,
          9.0635347366333
         ]
        },
        {
         "line": {
          "color": "darkblue",
          "width": 2
         },
         "mode": "lines",
         "type": "scatter3d",
         "x": [
          2.0542542934417725,
          1.8972294330596924
         ],
         "y": [
          14.07590389251709,
          13.92541790008545
         ],
         "z": [
          9.034531593322754,
          9.159065246582031
         ]
        },
        {
         "line": {
          "color": "darkblue",
          "width": 2
         },
         "mode": "lines",
         "type": "scatter3d",
         "x": [
          2.0542542934417725,
          2.1815454959869385
         ],
         "y": [
          14.07590389251709,
          13.91817569732666
         ],
         "z": [
          9.034531593322754,
          8.897871971130371
         ]
        },
        {
         "line": {
          "color": "darkblue",
          "width": 2
         },
         "mode": "lines",
         "type": "scatter3d",
         "x": [
          2.0542542934417725,
          2.1163339614868164
         ],
         "y": [
          14.07590389251709,
          14.024059295654297
         ],
         "z": [
          9.034531593322754,
          9.309845924377441
         ]
        },
        {
         "line": {
          "color": "darkblue",
          "width": 2
         },
         "mode": "lines",
         "type": "scatter3d",
         "x": [
          1.241273045539856,
          2.909003257751465
         ],
         "y": [
          12.687296867370605,
          15.091668128967285
         ],
         "z": [
          9.804317474365234,
          9.737704277038574
         ]
        },
        {
         "line": {
          "color": "darkblue",
          "width": 2
         },
         "mode": "lines",
         "type": "scatter3d",
         "x": [
          1.241273045539856,
          1.3946583271026611
         ],
         "y": [
          12.687296867370605,
          12.823654174804688
         ],
         "z": [
          9.804317474365234,
          10.177486419677734
         ]
        },
        {
         "line": {
          "color": "darkblue",
          "width": 2
         },
         "mode": "lines",
         "type": "scatter3d",
         "x": [
          1.241273045539856,
          1.3098881244659424
         ],
         "y": [
          12.687296867370605,
          12.490252494812012
         ],
         "z": [
          9.804317474365234,
          9.967347145080566
         ]
        },
        {
         "line": {
          "color": "darkblue",
          "width": 2
         },
         "mode": "lines",
         "type": "scatter3d",
         "x": [
          1.241273045539856,
          1.0432707071304321
         ],
         "y": [
          12.687296867370605,
          12.536871910095215
         ],
         "z": [
          9.804317474365234,
          9.947164535522461
         ]
        },
        {
         "line": {
          "color": "darkblue",
          "width": 2
         },
         "mode": "lines",
         "type": "scatter3d",
         "x": [
          1.241273045539856,
          3.1048195362091064
         ],
         "y": [
          12.687296867370605,
          14.271413803100586
         ],
         "z": [
          9.804317474365234,
          7.309120178222656
         ]
        },
        {
         "line": {
          "color": "darkblue",
          "width": 2
         },
         "mode": "lines",
         "type": "scatter3d",
         "x": [
          1.241273045539856,
          1.1328643560409546
         ],
         "y": [
          12.687296867370605,
          12.78331184387207
         ],
         "z": [
          9.804317474365234,
          9.760340690612793
         ]
        },
        {
         "line": {
          "color": "darkblue",
          "width": 2
         },
         "mode": "lines",
         "type": "scatter3d",
         "x": [
          1.241273045539856,
          1.580517053604126
         ],
         "y": [
          12.687296867370605,
          12.622427940368652
         ],
         "z": [
          9.804317474365234,
          10.880009651184082
         ]
        },
        {
         "line": {
          "color": "darkblue",
          "width": 2
         },
         "mode": "lines",
         "type": "scatter3d",
         "x": [
          2.909003257751465,
          2.898236036300659
         ],
         "y": [
          15.091668128967285,
          15.133216857910156
         ],
         "z": [
          9.737704277038574,
          9.780512809753418
         ]
        },
        {
         "line": {
          "color": "darkblue",
          "width": 2
         },
         "mode": "lines",
         "type": "scatter3d",
         "x": [
          2.909003257751465,
          2.652681827545166
         ],
         "y": [
          15.091668128967285,
          15.26414966583252
         ],
         "z": [
          9.737704277038574,
          10.48588752746582
         ]
        },
        {
         "line": {
          "color": "darkblue",
          "width": 2
         },
         "mode": "lines",
         "type": "scatter3d",
         "x": [
          2.909003257751465,
          2.7513513565063477
         ],
         "y": [
          15.091668128967285,
          15.029202461242676
         ],
         "z": [
          9.737704277038574,
          9.799821853637695
         ]
        },
        {
         "line": {
          "color": "darkblue",
          "width": 2
         },
         "mode": "lines",
         "type": "scatter3d",
         "x": [
          2.909003257751465,
          1.2406237125396729
         ],
         "y": [
          15.091668128967285,
          14.909977912902832
         ],
         "z": [
          9.737704277038574,
          10.075891494750977
         ]
        },
        {
         "line": {
          "color": "darkblue",
          "width": 2
         },
         "mode": "lines",
         "type": "scatter3d",
         "x": [
          2.909003257751465,
          1.580517053604126
         ],
         "y": [
          15.091668128967285,
          12.622427940368652
         ],
         "z": [
          9.737704277038574,
          10.880009651184082
         ]
        },
        {
         "line": {
          "color": "darkblue",
          "width": 2
         },
         "mode": "lines",
         "type": "scatter3d",
         "x": [
          2.898236036300659,
          1.3946583271026611
         ],
         "y": [
          15.133216857910156,
          12.823654174804688
         ],
         "z": [
          9.780512809753418,
          10.177486419677734
         ]
        },
        {
         "line": {
          "color": "darkblue",
          "width": 2
         },
         "mode": "lines",
         "type": "scatter3d",
         "x": [
          2.898236036300659,
          2.652681827545166
         ],
         "y": [
          15.133216857910156,
          15.26414966583252
         ],
         "z": [
          9.780512809753418,
          10.48588752746582
         ]
        },
        {
         "line": {
          "color": "darkblue",
          "width": 2
         },
         "mode": "lines",
         "type": "scatter3d",
         "x": [
          2.898236036300659,
          2.7513513565063477
         ],
         "y": [
          15.133216857910156,
          15.029202461242676
         ],
         "z": [
          9.780512809753418,
          9.799821853637695
         ]
        },
        {
         "line": {
          "color": "darkblue",
          "width": 2
         },
         "mode": "lines",
         "type": "scatter3d",
         "x": [
          2.898236036300659,
          2.2009339332580566
         ],
         "y": [
          15.133216857910156,
          15.564620971679688
         ],
         "z": [
          9.780512809753418,
          10.634908676147461
         ]
        },
        {
         "line": {
          "color": "darkblue",
          "width": 2
         },
         "mode": "lines",
         "type": "scatter3d",
         "x": [
          2.898236036300659,
          2.5816049575805664
         ],
         "y": [
          15.133216857910156,
          15.610261917114258
         ],
         "z": [
          9.780512809753418,
          10.264507293701172
         ]
        },
        {
         "line": {
          "color": "darkblue",
          "width": 2
         },
         "mode": "lines",
         "type": "scatter3d",
         "x": [
          1.3946583271026611,
          1.3098881244659424
         ],
         "y": [
          12.823654174804688,
          12.490252494812012
         ],
         "z": [
          10.177486419677734,
          9.967347145080566
         ]
        },
        {
         "line": {
          "color": "darkblue",
          "width": 2
         },
         "mode": "lines",
         "type": "scatter3d",
         "x": [
          1.3946583271026611,
          1.6345523595809937
         ],
         "y": [
          12.823654174804688,
          12.983903884887695
         ],
         "z": [
          10.177486419677734,
          10.92434024810791
         ]
        },
        {
         "line": {
          "color": "darkblue",
          "width": 2
         },
         "mode": "lines",
         "type": "scatter3d",
         "x": [
          1.3946583271026611,
          1.391404628753662
         ],
         "y": [
          12.823654174804688,
          13.158199310302734
         ],
         "z": [
          10.177486419677734,
          10.475695610046387
         ]
        },
        {
         "line": {
          "color": "darkblue",
          "width": 2
         },
         "mode": "lines",
         "type": "scatter3d",
         "x": [
          1.3946583271026611,
          0.6706434488296509
         ],
         "y": [
          12.823654174804688,
          12.2752685546875
         ],
         "z": [
          10.177486419677734,
          10.846835136413574
         ]
        },
        {
         "line": {
          "color": "darkblue",
          "width": 2
         },
         "mode": "lines",
         "type": "scatter3d",
         "x": [
          1.3946583271026611,
          1.1328643560409546
         ],
         "y": [
          12.823654174804688,
          12.78331184387207
         ],
         "z": [
          10.177486419677734,
          9.760340690612793
         ]
        },
        {
         "line": {
          "color": "darkblue",
          "width": 2
         },
         "mode": "lines",
         "type": "scatter3d",
         "x": [
          1.3946583271026611,
          1.580517053604126
         ],
         "y": [
          12.823654174804688,
          12.622427940368652
         ],
         "z": [
          10.177486419677734,
          10.880009651184082
         ]
        },
        {
         "line": {
          "color": "darkblue",
          "width": 2
         },
         "mode": "lines",
         "type": "scatter3d",
         "x": [
          1.3946583271026611,
          1.600401520729065
         ],
         "y": [
          12.823654174804688,
          13.072490692138672
         ],
         "z": [
          10.177486419677734,
          10.691611289978027
         ]
        },
        {
         "line": {
          "color": "darkblue",
          "width": 2
         },
         "mode": "lines",
         "type": "scatter3d",
         "x": [
          0.91035395860672,
          2.116706132888794
         ],
         "y": [
          14.868096351623535,
          13.80650520324707
         ],
         "z": [
          9.880183219909668,
          9.225044250488281
         ]
        },
        {
         "line": {
          "color": "darkblue",
          "width": 2
         },
         "mode": "lines",
         "type": "scatter3d",
         "x": [
          0.91035395860672,
          1.3259230852127075
         ],
         "y": [
          14.868096351623535,
          15.677911758422852
         ],
         "z": [
          9.880183219909668,
          10.48454475402832
         ]
        },
        {
         "line": {
          "color": "darkblue",
          "width": 2
         },
         "mode": "lines",
         "type": "scatter3d",
         "x": [
          0.91035395860672,
          0.9060967564582825
         ],
         "y": [
          14.868096351623535,
          15.14453411102295
         ],
         "z": [
          9.880183219909668,
          10.782814979553223
         ]
        },
        {
         "line": {
          "color": "darkblue",
          "width": 2
         },
         "mode": "lines",
         "type": "scatter3d",
         "x": [
          0.91035395860672,
          0.9827433824539185
         ],
         "y": [
          14.868096351623535,
          15.229606628417969
         ],
         "z": [
          9.880183219909668,
          10.010781288146973
         ]
        },
        {
         "line": {
          "color": "darkblue",
          "width": 2
         },
         "mode": "lines",
         "type": "scatter3d",
         "x": [
          0.91035395860672,
          1.2406237125396729
         ],
         "y": [
          14.868096351623535,
          14.909977912902832
         ],
         "z": [
          9.880183219909668,
          10.075891494750977
         ]
        },
        {
         "line": {
          "color": "darkblue",
          "width": 2
         },
         "mode": "lines",
         "type": "scatter3d",
         "x": [
          0.91035395860672,
          0.83653724193573
         ],
         "y": [
          14.868096351623535,
          15.021265029907227
         ],
         "z": [
          9.880183219909668,
          10.585272789001465
         ]
        },
        {
         "line": {
          "color": "darkblue",
          "width": 2
         },
         "mode": "lines",
         "type": "scatter3d",
         "x": [
          0.91035395860672,
          1.1484562158584595
         ],
         "y": [
          14.868096351623535,
          14.375589370727539
         ],
         "z": [
          9.880183219909668,
          9.487199783325195
         ]
        },
        {
         "line": {
          "color": "darkblue",
          "width": 2
         },
         "mode": "lines",
         "type": "scatter3d",
         "x": [
          0.91035395860672,
          3.098602056503296
         ],
         "y": [
          14.868096351623535,
          13.979121208190918
         ],
         "z": [
          9.880183219909668,
          7.466039657592773
         ]
        },
        {
         "line": {
          "color": "darkblue",
          "width": 2
         },
         "mode": "lines",
         "type": "scatter3d",
         "x": [
          0.91035395860672,
          1.1575459241867065
         ],
         "y": [
          14.868096351623535,
          14.620024681091309
         ],
         "z": [
          9.880183219909668,
          9.746574401855469
         ]
        },
        {
         "line": {
          "color": "darkblue",
          "width": 2
         },
         "mode": "lines",
         "type": "scatter3d",
         "x": [
          0.91035395860672,
          0.8652403950691223
         ],
         "y": [
          14.868096351623535,
          14.985915184020996
         ],
         "z": [
          9.880183219909668,
          10.573776245117188
         ]
        },
        {
         "line": {
          "color": "darkblue",
          "width": 2
         },
         "mode": "lines",
         "type": "scatter3d",
         "x": [
          3.066197633743286,
          2.116706132888794
         ],
         "y": [
          14.645271301269531,
          13.80650520324707
         ],
         "z": [
          9.25869369506836,
          9.225044250488281
         ]
        },
        {
         "line": {
          "color": "darkblue",
          "width": 2
         },
         "mode": "lines",
         "type": "scatter3d",
         "x": [
          3.066197633743286,
          2.652681827545166
         ],
         "y": [
          14.645271301269531,
          15.26414966583252
         ],
         "z": [
          9.25869369506836,
          10.48588752746582
         ]
        },
        {
         "line": {
          "color": "darkblue",
          "width": 2
         },
         "mode": "lines",
         "type": "scatter3d",
         "x": [
          3.066197633743286,
          3.2696926593780518
         ],
         "y": [
          14.645271301269531,
          14.372674942016602
         ],
         "z": [
          9.25869369506836,
          9.455822944641113
         ]
        },
        {
         "line": {
          "color": "darkblue",
          "width": 2
         },
         "mode": "lines",
         "type": "scatter3d",
         "x": [
          3.066197633743286,
          3.2218446731567383
         ],
         "y": [
          14.645271301269531,
          14.458250999450684
         ],
         "z": [
          9.25869369506836,
          9.305341720581055
         ]
        },
        {
         "line": {
          "color": "darkblue",
          "width": 2
         },
         "mode": "lines",
         "type": "scatter3d",
         "x": [
          3.066197633743286,
          1.8972294330596924
         ],
         "y": [
          14.645271301269531,
          13.92541790008545
         ],
         "z": [
          9.25869369506836,
          9.159065246582031
         ]
        },
        {
         "line": {
          "color": "darkblue",
          "width": 2
         },
         "mode": "lines",
         "type": "scatter3d",
         "x": [
          3.066197633743286,
          2.9608514308929443
         ],
         "y": [
          14.645271301269531,
          14.281628608703613
         ],
         "z": [
          9.25869369506836,
          9.235393524169922
         ]
        },
        {
         "line": {
          "color": "darkblue",
          "width": 2
         },
         "mode": "lines",
         "type": "scatter3d",
         "x": [
          3.066197633743286,
          2.869910478591919
         ],
         "y": [
          14.645271301269531,
          14.401128768920898
         ],
         "z": [
          9.25869369506836,
          9.125597953796387
         ]
        },
        {
         "line": {
          "color": "darkblue",
          "width": 2
         },
         "mode": "lines",
         "type": "scatter3d",
         "x": [
          3.066197633743286,
          3.1576480865478516
         ],
         "y": [
          14.645271301269531,
          14.298648834228516
         ],
         "z": [
          9.25869369506836,
          9.630070686340332
         ]
        },
        {
         "line": {
          "color": "darkblue",
          "width": 2
         },
         "mode": "lines",
         "type": "scatter3d",
         "x": [
          1.494776725769043,
          1.643099069595337
         ],
         "y": [
          12.147150039672852,
          12.2479887008667
         ],
         "z": [
          11.496027946472168,
          11.24731731414795
         ]
        },
        {
         "line": {
          "color": "darkblue",
          "width": 2
         },
         "mode": "lines",
         "type": "scatter3d",
         "x": [
          1.494776725769043,
          1.6777325868606567
         ],
         "y": [
          12.147150039672852,
          12.053476333618164
         ],
         "z": [
          11.496027946472168,
          11.421619415283203
         ]
        },
        {
         "line": {
          "color": "darkblue",
          "width": 2
         },
         "mode": "lines",
         "type": "scatter3d",
         "x": [
          1.494776725769043,
          1.7032243013381958
         ],
         "y": [
          12.147150039672852,
          12.02492904663086
         ],
         "z": [
          11.496027946472168,
          11.336490631103516
         ]
        },
        {
         "line": {
          "color": "darkblue",
          "width": 2
         },
         "mode": "lines",
         "type": "scatter3d",
         "x": [
          1.494776725769043,
          1.675443172454834
         ],
         "y": [
          12.147150039672852,
          12.211262702941895
         ],
         "z": [
          11.496027946472168,
          11.26513671875
         ]
        },
        {
         "line": {
          "color": "darkblue",
          "width": 2
         },
         "mode": "lines",
         "type": "scatter3d",
         "x": [
          1.494776725769043,
          1.5520480871200562
         ],
         "y": [
          12.147150039672852,
          11.989605903625488
         ],
         "z": [
          11.496027946472168,
          11.436545372009277
         ]
        },
        {
         "line": {
          "color": "darkblue",
          "width": 2
         },
         "mode": "lines",
         "type": "scatter3d",
         "x": [
          1.494776725769043,
          1.580517053604126
         ],
         "y": [
          12.147150039672852,
          12.622427940368652
         ],
         "z": [
          11.496027946472168,
          10.880009651184082
         ]
        },
        {
         "line": {
          "color": "darkblue",
          "width": 2
         },
         "mode": "lines",
         "type": "scatter3d",
         "x": [
          1.494776725769043,
          0.752468466758728
         ],
         "y": [
          12.147150039672852,
          11.897732734680176
         ],
         "z": [
          11.496027946472168,
          11.086283683776855
         ]
        },
        {
         "line": {
          "color": "darkblue",
          "width": 2
         },
         "mode": "lines",
         "type": "scatter3d",
         "x": [
          2.0933146476745605,
          1.2109830379486084
         ],
         "y": [
          15.61218547821045,
          15.839713096618652
         ],
         "z": [
          10.688026428222656,
          10.296259880065918
         ]
        },
        {
         "line": {
          "color": "darkblue",
          "width": 2
         },
         "mode": "lines",
         "type": "scatter3d",
         "x": [
          2.0933146476745605,
          2.2009339332580566
         ],
         "y": [
          15.61218547821045,
          15.564620971679688
         ],
         "z": [
          10.688026428222656,
          10.634908676147461
         ]
        },
        {
         "line": {
          "color": "darkblue",
          "width": 2
         },
         "mode": "lines",
         "type": "scatter3d",
         "x": [
          2.0933146476745605,
          2.1004042625427246
         ],
         "y": [
          15.61218547821045,
          15.26228141784668
         ],
         "z": [
          10.688026428222656,
          10.87511920928955
         ]
        },
        {
         "line": {
          "color": "darkblue",
          "width": 2
         },
         "mode": "lines",
         "type": "scatter3d",
         "x": [
          2.0933146476745605,
          1.7296133041381836
         ],
         "y": [
          15.61218547821045,
          14.651735305786133
         ],
         "z": [
          10.688026428222656,
          9.983197212219238
         ]
        },
        {
         "line": {
          "color": "darkblue",
          "width": 2
         },
         "mode": "lines",
         "type": "scatter3d",
         "x": [
          2.0933146476745605,
          0.83653724193573
         ],
         "y": [
          15.61218547821045,
          15.021265029907227
         ],
         "z": [
          10.688026428222656,
          10.585272789001465
         ]
        },
        {
         "line": {
          "color": "darkblue",
          "width": 2
         },
         "mode": "lines",
         "type": "scatter3d",
         "x": [
          2.0933146476745605,
          1.580517053604126
         ],
         "y": [
          15.61218547821045,
          12.622427940368652
         ],
         "z": [
          10.688026428222656,
          10.880009651184082
         ]
        },
        {
         "line": {
          "color": "darkblue",
          "width": 2
         },
         "mode": "lines",
         "type": "scatter3d",
         "x": [
          2.0933146476745605,
          2.2610743045806885
         ],
         "y": [
          15.61218547821045,
          15.686630249023438
         ],
         "z": [
          10.688026428222656,
          10.601831436157227
         ]
        },
        {
         "line": {
          "color": "darkblue",
          "width": 2
         },
         "mode": "lines",
         "type": "scatter3d",
         "x": [
          2.0933146476745605,
          2.5745773315429688
         ],
         "y": [
          15.61218547821045,
          15.429390907287598
         ],
         "z": [
          10.688026428222656,
          10.236186027526855
         ]
        },
        {
         "line": {
          "color": "darkblue",
          "width": 2
         },
         "mode": "lines",
         "type": "scatter3d",
         "x": [
          3.6009488105773926,
          3.240194797515869
         ],
         "y": [
          13.08434772491455,
          12.720378875732422
         ],
         "z": [
          7.4012532234191895,
          7.512959003448486
         ]
        },
        {
         "line": {
          "color": "darkblue",
          "width": 2
         },
         "mode": "lines",
         "type": "scatter3d",
         "x": [
          3.6009488105773926,
          3.2109646797180176
         ],
         "y": [
          13.08434772491455,
          12.672075271606445
         ],
         "z": [
          7.4012532234191895,
          7.252675533294678
         ]
        },
        {
         "line": {
          "color": "darkblue",
          "width": 2
         },
         "mode": "lines",
         "type": "scatter3d",
         "x": [
          3.6009488105773926,
          3.312657117843628
         ],
         "y": [
          13.08434772491455,
          14.629730224609375
         ],
         "z": [
          7.4012532234191895,
          7.2897233963012695
         ]
        },
        {
         "line": {
          "color": "darkblue",
          "width": 2
         },
         "mode": "lines",
         "type": "scatter3d",
         "x": [
          3.6009488105773926,
          1.8972294330596924
         ],
         "y": [
          13.08434772491455,
          13.92541790008545
         ],
         "z": [
          7.4012532234191895,
          9.159065246582031
         ]
        },
        {
         "line": {
          "color": "darkblue",
          "width": 2
         },
         "mode": "lines",
         "type": "scatter3d",
         "x": [
          3.6009488105773926,
          3.560526132583618
         ],
         "y": [
          13.08434772491455,
          12.93753433227539
         ],
         "z": [
          7.4012532234191895,
          7.393656253814697
         ]
        },
        {
         "line": {
          "color": "darkblue",
          "width": 2
         },
         "mode": "lines",
         "type": "scatter3d",
         "x": [
          3.6009488105773926,
          3.2785825729370117
         ],
         "y": [
          13.08434772491455,
          13.065966606140137
         ],
         "z": [
          7.4012532234191895,
          7.413838863372803
         ]
        },
        {
         "line": {
          "color": "darkblue",
          "width": 2
         },
         "mode": "lines",
         "type": "scatter3d",
         "x": [
          3.6009488105773926,
          3.4412527084350586
         ],
         "y": [
          13.08434772491455,
          12.873708724975586
         ],
         "z": [
          7.4012532234191895,
          7.258820533752441
         ]
        },
        {
         "line": {
          "color": "darkblue",
          "width": 2
         },
         "mode": "lines",
         "type": "scatter3d",
         "x": [
          1.3098881244659424,
          0.9399324059486389
         ],
         "y": [
          12.490252494812012,
          12.050021171569824
         ],
         "z": [
          9.967347145080566,
          10.927075386047363
         ]
        },
        {
         "line": {
          "color": "darkblue",
          "width": 2
         },
         "mode": "lines",
         "type": "scatter3d",
         "x": [
          1.3098881244659424,
          1.1328643560409546
         ],
         "y": [
          12.490252494812012,
          12.78331184387207
         ],
         "z": [
          9.967347145080566,
          9.760340690612793
         ]
        },
        {
         "line": {
          "color": "darkblue",
          "width": 2
         },
         "mode": "lines",
         "type": "scatter3d",
         "x": [
          1.3098881244659424,
          1.580517053604126
         ],
         "y": [
          12.490252494812012,
          12.622427940368652
         ],
         "z": [
          9.967347145080566,
          10.880009651184082
         ]
        },
        {
         "line": {
          "color": "darkblue",
          "width": 2
         },
         "mode": "lines",
         "type": "scatter3d",
         "x": [
          1.3098881244659424,
          1.5069490671157837
         ],
         "y": [
          12.490252494812012,
          12.373335838317871
         ],
         "z": [
          9.967347145080566,
          9.525932312011719
         ]
        },
        {
         "line": {
          "color": "darkblue",
          "width": 2
         },
         "mode": "lines",
         "type": "scatter3d",
         "x": [
          2.116706132888794,
          1.3259230852127075
         ],
         "y": [
          13.80650520324707,
          15.677911758422852
         ],
         "z": [
          9.225044250488281,
          10.48454475402832
         ]
        },
        {
         "line": {
          "color": "darkblue",
          "width": 2
         },
         "mode": "lines",
         "type": "scatter3d",
         "x": [
          2.116706132888794,
          0.9827433824539185
         ],
         "y": [
          13.80650520324707,
          15.229606628417969
         ],
         "z": [
          9.225044250488281,
          10.010781288146973
         ]
        },
        {
         "line": {
          "color": "darkblue",
          "width": 2
         },
         "mode": "lines",
         "type": "scatter3d",
         "x": [
          2.116706132888794,
          1.9723751544952393
         ],
         "y": [
          13.80650520324707,
          14.395537376403809
         ],
         "z": [
          9.225044250488281,
          9.750588417053223
         ]
        },
        {
         "line": {
          "color": "darkblue",
          "width": 2
         },
         "mode": "lines",
         "type": "scatter3d",
         "x": [
          2.116706132888794,
          2.115565299987793
         ],
         "y": [
          13.80650520324707,
          14.17250919342041
         ],
         "z": [
          9.225044250488281,
          9.0635347366333
         ]
        },
        {
         "line": {
          "color": "darkblue",
          "width": 2
         },
         "mode": "lines",
         "type": "scatter3d",
         "x": [
          2.116706132888794,
          1.7296133041381836
         ],
         "y": [
          13.80650520324707,
          14.651735305786133
         ],
         "z": [
          9.225044250488281,
          9.983197212219238
         ]
        },
        {
         "line": {
          "color": "darkblue",
          "width": 2
         },
         "mode": "lines",
         "type": "scatter3d",
         "x": [
          2.116706132888794,
          2.04580020904541
         ],
         "y": [
          13.80650520324707,
          14.3552827835083
         ],
         "z": [
          9.225044250488281,
          9.085914611816406
         ]
        },
        {
         "line": {
          "color": "darkblue",
          "width": 2
         },
         "mode": "lines",
         "type": "scatter3d",
         "x": [
          2.116706132888794,
          1.8972294330596924
         ],
         "y": [
          13.80650520324707,
          13.92541790008545
         ],
         "z": [
          9.225044250488281,
          9.159065246582031
         ]
        },
        {
         "line": {
          "color": "darkblue",
          "width": 2
         },
         "mode": "lines",
         "type": "scatter3d",
         "x": [
          2.116706132888794,
          2.1815454959869385
         ],
         "y": [
          13.80650520324707,
          13.91817569732666
         ],
         "z": [
          9.225044250488281,
          8.897871971130371
         ]
        },
        {
         "line": {
          "color": "darkblue",
          "width": 2
         },
         "mode": "lines",
         "type": "scatter3d",
         "x": [
          2.116706132888794,
          1.1328643560409546
         ],
         "y": [
          13.80650520324707,
          12.78331184387207
         ],
         "z": [
          9.225044250488281,
          9.760340690612793
         ]
        },
        {
         "line": {
          "color": "darkblue",
          "width": 2
         },
         "mode": "lines",
         "type": "scatter3d",
         "x": [
          2.116706132888794,
          2.1163339614868164
         ],
         "y": [
          13.80650520324707,
          14.024059295654297
         ],
         "z": [
          9.225044250488281,
          9.309845924377441
         ]
        },
        {
         "line": {
          "color": "darkblue",
          "width": 2
         },
         "mode": "lines",
         "type": "scatter3d",
         "x": [
          2.116706132888794,
          2.9608514308929443
         ],
         "y": [
          13.80650520324707,
          14.281628608703613
         ],
         "z": [
          9.225044250488281,
          9.235393524169922
         ]
        },
        {
         "line": {
          "color": "darkblue",
          "width": 2
         },
         "mode": "lines",
         "type": "scatter3d",
         "x": [
          2.116706132888794,
          2.869910478591919
         ],
         "y": [
          13.80650520324707,
          14.401128768920898
         ],
         "z": [
          9.225044250488281,
          9.125597953796387
         ]
        },
        {
         "line": {
          "color": "darkblue",
          "width": 2
         },
         "mode": "lines",
         "type": "scatter3d",
         "x": [
          2.116706132888794,
          1.580517053604126
         ],
         "y": [
          13.80650520324707,
          12.622427940368652
         ],
         "z": [
          9.225044250488281,
          10.880009651184082
         ]
        },
        {
         "line": {
          "color": "darkblue",
          "width": 2
         },
         "mode": "lines",
         "type": "scatter3d",
         "x": [
          2.116706132888794,
          1.9980069398880005
         ],
         "y": [
          13.80650520324707,
          14.1659517288208
         ],
         "z": [
          9.225044250488281,
          10.26030445098877
         ]
        },
        {
         "line": {
          "color": "darkblue",
          "width": 2
         },
         "mode": "lines",
         "type": "scatter3d",
         "x": [
          2.116706132888794,
          2.3348073959350586
         ],
         "y": [
          13.80650520324707,
          13.125040054321289
         ],
         "z": [
          9.225044250488281,
          9.01409912109375
         ]
        },
        {
         "line": {
          "color": "darkblue",
          "width": 2
         },
         "mode": "lines",
         "type": "scatter3d",
         "x": [
          2.6529080867767334,
          1.9723751544952393
         ],
         "y": [
          13.671587944030762,
          14.395537376403809
         ],
         "z": [
          9.072798728942871,
          9.750588417053223
         ]
        },
        {
         "line": {
          "color": "darkblue",
          "width": 2
         },
         "mode": "lines",
         "type": "scatter3d",
         "x": [
          2.6529080867767334,
          0.750590443611145
         ],
         "y": [
          13.671587944030762,
          12.31689739227295
         ],
         "z": [
          9.072798728942871,
          10.915008544921875
         ]
        },
        {
         "line": {
          "color": "darkblue",
          "width": 2
         },
         "mode": "lines",
         "type": "scatter3d",
         "x": [
          2.6529080867767334,
          2.1815454959869385
         ],
         "y": [
          13.671587944030762,
          13.91817569732666
         ],
         "z": [
          9.072798728942871,
          8.897871971130371
         ]
        },
        {
         "line": {
          "color": "darkblue",
          "width": 2
         },
         "mode": "lines",
         "type": "scatter3d",
         "x": [
          2.6529080867767334,
          2.1163339614868164
         ],
         "y": [
          13.671587944030762,
          14.024059295654297
         ],
         "z": [
          9.072798728942871,
          9.309845924377441
         ]
        },
        {
         "line": {
          "color": "darkblue",
          "width": 2
         },
         "mode": "lines",
         "type": "scatter3d",
         "x": [
          2.6529080867767334,
          1.536219835281372
         ],
         "y": [
          13.671587944030762,
          14.80673599243164
         ],
         "z": [
          9.072798728942871,
          10.635207176208496
         ]
        },
        {
         "line": {
          "color": "darkblue",
          "width": 2
         },
         "mode": "lines",
         "type": "scatter3d",
         "x": [
          1.9891859292984009,
          1.3259230852127075
         ],
         "y": [
          14.808370590209961,
          15.677911758422852
         ],
         "z": [
          9.736852645874023,
          10.48454475402832
         ]
        },
        {
         "line": {
          "color": "darkblue",
          "width": 2
         },
         "mode": "lines",
         "type": "scatter3d",
         "x": [
          1.9891859292984009,
          1.9723751544952393
         ],
         "y": [
          14.808370590209961,
          14.395537376403809
         ],
         "z": [
          9.736852645874023,
          9.750588417053223
         ]
        },
        {
         "line": {
          "color": "darkblue",
          "width": 2
         },
         "mode": "lines",
         "type": "scatter3d",
         "x": [
          1.9891859292984009,
          1.7296133041381836
         ],
         "y": [
          14.808370590209961,
          14.651735305786133
         ],
         "z": [
          9.736852645874023,
          9.983197212219238
         ]
        },
        {
         "line": {
          "color": "darkblue",
          "width": 2
         },
         "mode": "lines",
         "type": "scatter3d",
         "x": [
          1.9891859292984009,
          2.1163339614868164
         ],
         "y": [
          14.808370590209961,
          14.024059295654297
         ],
         "z": [
          9.736852645874023,
          9.309845924377441
         ]
        },
        {
         "line": {
          "color": "darkblue",
          "width": 2
         },
         "mode": "lines",
         "type": "scatter3d",
         "x": [
          1.9891859292984009,
          1.3448426723480225
         ],
         "y": [
          14.808370590209961,
          15.353025436401367
         ],
         "z": [
          9.736852645874023,
          10.038677215576172
         ]
        },
        {
         "line": {
          "color": "darkblue",
          "width": 2
         },
         "mode": "lines",
         "type": "scatter3d",
         "x": [
          3.0343449115753174,
          1.580517053604126
         ],
         "y": [
          12.598573684692383,
          12.622427940368652
         ],
         "z": [
          9.802237510681152,
          10.880009651184082
         ]
        },
        {
         "line": {
          "color": "darkblue",
          "width": 2
         },
         "mode": "lines",
         "type": "scatter3d",
         "x": [
          3.240194797515869,
          3.2109646797180176
         ],
         "y": [
          12.720378875732422,
          12.672075271606445
         ],
         "z": [
          7.512959003448486,
          7.252675533294678
         ]
        },
        {
         "line": {
          "color": "darkblue",
          "width": 2
         },
         "mode": "lines",
         "type": "scatter3d",
         "x": [
          3.240194797515869,
          3.4217886924743652
         ],
         "y": [
          12.720378875732422,
          12.879056930541992
         ],
         "z": [
          7.512959003448486,
          7.251497745513916
         ]
        },
        {
         "line": {
          "color": "darkblue",
          "width": 2
         },
         "mode": "lines",
         "type": "scatter3d",
         "x": [
          3.240194797515869,
          2.04580020904541
         ],
         "y": [
          12.720378875732422,
          14.3552827835083
         ],
         "z": [
          7.512959003448486,
          9.085914611816406
         ]
        },
        {
         "line": {
          "color": "darkblue",
          "width": 2
         },
         "mode": "lines",
         "type": "scatter3d",
         "x": [
          3.240194797515869,
          3.560526132583618
         ],
         "y": [
          12.720378875732422,
          12.93753433227539
         ],
         "z": [
          7.512959003448486,
          7.393656253814697
         ]
        },
        {
         "line": {
          "color": "darkblue",
          "width": 2
         },
         "mode": "lines",
         "type": "scatter3d",
         "x": [
          3.240194797515869,
          3.284990072250366
         ],
         "y": [
          12.720378875732422,
          12.687891960144043
         ],
         "z": [
          7.512959003448486,
          7.684580326080322
         ]
        },
        {
         "line": {
          "color": "darkblue",
          "width": 2
         },
         "mode": "lines",
         "type": "scatter3d",
         "x": [
          3.240194797515869,
          3.098602056503296
         ],
         "y": [
          12.720378875732422,
          13.979121208190918
         ],
         "z": [
          7.512959003448486,
          7.466039657592773
         ]
        },
        {
         "line": {
          "color": "darkblue",
          "width": 2
         },
         "mode": "lines",
         "type": "scatter3d",
         "x": [
          3.240194797515869,
          3.2785825729370117
         ],
         "y": [
          12.720378875732422,
          13.065966606140137
         ],
         "z": [
          7.512959003448486,
          7.413838863372803
         ]
        },
        {
         "line": {
          "color": "darkblue",
          "width": 2
         },
         "mode": "lines",
         "type": "scatter3d",
         "x": [
          3.240194797515869,
          3.4412527084350586
         ],
         "y": [
          12.720378875732422,
          12.873708724975586
         ],
         "z": [
          7.512959003448486,
          7.258820533752441
         ]
        },
        {
         "line": {
          "color": "darkblue",
          "width": 2
         },
         "mode": "lines",
         "type": "scatter3d",
         "x": [
          3.2109646797180176,
          3.4217886924743652
         ],
         "y": [
          12.672075271606445,
          12.879056930541992
         ],
         "z": [
          7.252675533294678,
          7.251497745513916
         ]
        },
        {
         "line": {
          "color": "darkblue",
          "width": 2
         },
         "mode": "lines",
         "type": "scatter3d",
         "x": [
          3.2109646797180176,
          3.560526132583618
         ],
         "y": [
          12.672075271606445,
          12.93753433227539
         ],
         "z": [
          7.252675533294678,
          7.393656253814697
         ]
        },
        {
         "line": {
          "color": "darkblue",
          "width": 2
         },
         "mode": "lines",
         "type": "scatter3d",
         "x": [
          3.2109646797180176,
          3.2785825729370117
         ],
         "y": [
          12.672075271606445,
          13.065966606140137
         ],
         "z": [
          7.252675533294678,
          7.413838863372803
         ]
        },
        {
         "line": {
          "color": "darkblue",
          "width": 2
         },
         "mode": "lines",
         "type": "scatter3d",
         "x": [
          3.2109646797180176,
          3.4412527084350586
         ],
         "y": [
          12.672075271606445,
          12.873708724975586
         ],
         "z": [
          7.252675533294678,
          7.258820533752441
         ]
        },
        {
         "line": {
          "color": "darkblue",
          "width": 2
         },
         "mode": "lines",
         "type": "scatter3d",
         "x": [
          1.643099069595337,
          1.6345523595809937
         ],
         "y": [
          12.2479887008667,
          12.983903884887695
         ],
         "z": [
          11.24731731414795,
          10.92434024810791
         ]
        },
        {
         "line": {
          "color": "darkblue",
          "width": 2
         },
         "mode": "lines",
         "type": "scatter3d",
         "x": [
          1.643099069595337,
          1.3746498823165894
         ],
         "y": [
          12.2479887008667,
          15.506348609924316
         ],
         "z": [
          11.24731731414795,
          10.245757102966309
         ]
        },
        {
         "line": {
          "color": "darkblue",
          "width": 2
         },
         "mode": "lines",
         "type": "scatter3d",
         "x": [
          1.643099069595337,
          1.6777325868606567
         ],
         "y": [
          12.2479887008667,
          12.053476333618164
         ],
         "z": [
          11.24731731414795,
          11.421619415283203
         ]
        },
        {
         "line": {
          "color": "darkblue",
          "width": 2
         },
         "mode": "lines",
         "type": "scatter3d",
         "x": [
          1.643099069595337,
          1.7032243013381958
         ],
         "y": [
          12.2479887008667,
          12.02492904663086
         ],
         "z": [
          11.24731731414795,
          11.336490631103516
         ]
        },
        {
         "line": {
          "color": "darkblue",
          "width": 2
         },
         "mode": "lines",
         "type": "scatter3d",
         "x": [
          1.643099069595337,
          1.675443172454834
         ],
         "y": [
          12.2479887008667,
          12.211262702941895
         ],
         "z": [
          11.24731731414795,
          11.26513671875
         ]
        },
        {
         "line": {
          "color": "darkblue",
          "width": 2
         },
         "mode": "lines",
         "type": "scatter3d",
         "x": [
          1.643099069595337,
          1.5520480871200562
         ],
         "y": [
          12.2479887008667,
          11.989605903625488
         ],
         "z": [
          11.24731731414795,
          11.436545372009277
         ]
        },
        {
         "line": {
          "color": "darkblue",
          "width": 2
         },
         "mode": "lines",
         "type": "scatter3d",
         "x": [
          1.643099069595337,
          1.580517053604126
         ],
         "y": [
          12.2479887008667,
          12.622427940368652
         ],
         "z": [
          11.24731731414795,
          10.880009651184082
         ]
        },
        {
         "line": {
          "color": "darkblue",
          "width": 2
         },
         "mode": "lines",
         "type": "scatter3d",
         "x": [
          1.643099069595337,
          0.752468466758728
         ],
         "y": [
          12.2479887008667,
          11.897732734680176
         ],
         "z": [
          11.24731731414795,
          11.086283683776855
         ]
        },
        {
         "line": {
          "color": "darkblue",
          "width": 2
         },
         "mode": "lines",
         "type": "scatter3d",
         "x": [
          1.3259230852127075,
          0.9060967564582825
         ],
         "y": [
          15.677911758422852,
          15.14453411102295
         ],
         "z": [
          10.48454475402832,
          10.782814979553223
         ]
        },
        {
         "line": {
          "color": "darkblue",
          "width": 2
         },
         "mode": "lines",
         "type": "scatter3d",
         "x": [
          1.3259230852127075,
          1.9723751544952393
         ],
         "y": [
          15.677911758422852,
          14.395537376403809
         ],
         "z": [
          10.48454475402832,
          9.750588417053223
         ]
        },
        {
         "line": {
          "color": "darkblue",
          "width": 2
         },
         "mode": "lines",
         "type": "scatter3d",
         "x": [
          1.3259230852127075,
          1.3746498823165894
         ],
         "y": [
          15.677911758422852,
          15.506348609924316
         ],
         "z": [
          10.48454475402832,
          10.245757102966309
         ]
        },
        {
         "line": {
          "color": "darkblue",
          "width": 2
         },
         "mode": "lines",
         "type": "scatter3d",
         "x": [
          1.3259230852127075,
          1.1057103872299194
         ],
         "y": [
          15.677911758422852,
          15.66706657409668
         ],
         "z": [
          10.48454475402832,
          10.402862548828125
         ]
        },
        {
         "line": {
          "color": "darkblue",
          "width": 2
         },
         "mode": "lines",
         "type": "scatter3d",
         "x": [
          1.3259230852127075,
          1.2109830379486084
         ],
         "y": [
          15.677911758422852,
          15.839713096618652
         ],
         "z": [
          10.48454475402832,
          10.296259880065918
         ]
        },
        {
         "line": {
          "color": "darkblue",
          "width": 2
         },
         "mode": "lines",
         "type": "scatter3d",
         "x": [
          1.3259230852127075,
          2.2009339332580566
         ],
         "y": [
          15.677911758422852,
          15.564620971679688
         ],
         "z": [
          10.48454475402832,
          10.634908676147461
         ]
        },
        {
         "line": {
          "color": "darkblue",
          "width": 2
         },
         "mode": "lines",
         "type": "scatter3d",
         "x": [
          1.3259230852127075,
          1.8715623617172241
         ],
         "y": [
          15.677911758422852,
          15.318489074707031
         ],
         "z": [
          10.48454475402832,
          10.980636596679688
         ]
        },
        {
         "line": {
          "color": "darkblue",
          "width": 2
         },
         "mode": "lines",
         "type": "scatter3d",
         "x": [
          1.3259230852127075,
          2.0486509799957275
         ],
         "y": [
          15.677911758422852,
          14.375079154968262
         ],
         "z": [
          10.48454475402832,
          10.467572212219238
         ]
        },
        {
         "line": {
          "color": "darkblue",
          "width": 2
         },
         "mode": "lines",
         "type": "scatter3d",
         "x": [
          1.3259230852127075,
          1.752691626548767
         ],
         "y": [
          15.677911758422852,
          15.01150131225586
         ],
         "z": [
          10.48454475402832,
          10.927967071533203
         ]
        },
        {
         "line": {
          "color": "darkblue",
          "width": 2
         },
         "mode": "lines",
         "type": "scatter3d",
         "x": [
          1.3259230852127075,
          2.1004042625427246
         ],
         "y": [
          15.677911758422852,
          15.26228141784668
         ],
         "z": [
          10.48454475402832,
          10.87511920928955
         ]
        },
        {
         "line": {
          "color": "darkblue",
          "width": 2
         },
         "mode": "lines",
         "type": "scatter3d",
         "x": [
          1.3259230852127075,
          1.7296133041381836
         ],
         "y": [
          15.677911758422852,
          14.651735305786133
         ],
         "z": [
          10.48454475402832,
          9.983197212219238
         ]
        },
        {
         "line": {
          "color": "darkblue",
          "width": 2
         },
         "mode": "lines",
         "type": "scatter3d",
         "x": [
          1.3259230852127075,
          2.5816049575805664
         ],
         "y": [
          15.677911758422852,
          15.610261917114258
         ],
         "z": [
          10.48454475402832,
          10.264507293701172
         ]
        },
        {
         "line": {
          "color": "darkblue",
          "width": 2
         },
         "mode": "lines",
         "type": "scatter3d",
         "x": [
          1.3259230852127075,
          1.1575459241867065
         ],
         "y": [
          15.677911758422852,
          14.620024681091309
         ],
         "z": [
          10.48454475402832,
          9.746574401855469
         ]
        },
        {
         "line": {
          "color": "darkblue",
          "width": 2
         },
         "mode": "lines",
         "type": "scatter3d",
         "x": [
          1.3259230852127075,
          1.3448426723480225
         ],
         "y": [
          15.677911758422852,
          15.353025436401367
         ],
         "z": [
          10.48454475402832,
          10.038677215576172
         ]
        },
        {
         "line": {
          "color": "darkblue",
          "width": 2
         },
         "mode": "lines",
         "type": "scatter3d",
         "x": [
          1.3259230852127075,
          3.4412527084350586
         ],
         "y": [
          15.677911758422852,
          12.873708724975586
         ],
         "z": [
          10.48454475402832,
          7.258820533752441
         ]
        },
        {
         "line": {
          "color": "darkblue",
          "width": 2
         },
         "mode": "lines",
         "type": "scatter3d",
         "x": [
          1.3259230852127075,
          2.2610743045806885
         ],
         "y": [
          15.677911758422852,
          15.686630249023438
         ],
         "z": [
          10.48454475402832,
          10.601831436157227
         ]
        },
        {
         "line": {
          "color": "darkblue",
          "width": 2
         },
         "mode": "lines",
         "type": "scatter3d",
         "x": [
          1.3259230852127075,
          1.4861594438552856
         ],
         "y": [
          15.677911758422852,
          15.706978797912598
         ],
         "z": [
          10.48454475402832,
          10.38404369354248
         ]
        },
        {
         "line": {
          "color": "darkblue",
          "width": 2
         },
         "mode": "lines",
         "type": "scatter3d",
         "x": [
          1.3259230852127075,
          1.4604769945144653
         ],
         "y": [
          15.677911758422852,
          14.987598419189453
         ],
         "z": [
          10.48454475402832,
          10.925042152404785
         ]
        },
        {
         "line": {
          "color": "darkblue",
          "width": 2
         },
         "mode": "lines",
         "type": "scatter3d",
         "x": [
          1.6345523595809937,
          2.652681827545166
         ],
         "y": [
          12.983903884887695,
          15.26414966583252
         ],
         "z": [
          10.92434024810791,
          10.48588752746582
         ]
        },
        {
         "line": {
          "color": "darkblue",
          "width": 2
         },
         "mode": "lines",
         "type": "scatter3d",
         "x": [
          1.6345523595809937,
          1.7032243013381958
         ],
         "y": [
          12.983903884887695,
          12.02492904663086
         ],
         "z": [
          10.92434024810791,
          11.336490631103516
         ]
        },
        {
         "line": {
          "color": "darkblue",
          "width": 2
         },
         "mode": "lines",
         "type": "scatter3d",
         "x": [
          1.6345523595809937,
          1.580517053604126
         ],
         "y": [
          12.983903884887695,
          12.622427940368652
         ],
         "z": [
          10.92434024810791,
          10.880009651184082
         ]
        },
        {
         "line": {
          "color": "darkblue",
          "width": 2
         },
         "mode": "lines",
         "type": "scatter3d",
         "x": [
          1.6345523595809937,
          1.4037528038024902
         ],
         "y": [
          12.983903884887695,
          12.924607276916504
         ],
         "z": [
          10.92434024810791,
          10.891608238220215
         ]
        },
        {
         "line": {
          "color": "darkblue",
          "width": 2
         },
         "mode": "lines",
         "type": "scatter3d",
         "x": [
          1.6345523595809937,
          1.600401520729065
         ],
         "y": [
          12.983903884887695,
          13.072490692138672
         ],
         "z": [
          10.92434024810791,
          10.691611289978027
         ]
        },
        {
         "line": {
          "color": "darkblue",
          "width": 2
         },
         "mode": "lines",
         "type": "scatter3d",
         "x": [
          1.6345523595809937,
          1.9980069398880005
         ],
         "y": [
          12.983903884887695,
          14.1659517288208
         ],
         "z": [
          10.92434024810791,
          10.26030445098877
         ]
        },
        {
         "line": {
          "color": "darkblue",
          "width": 2
         },
         "mode": "lines",
         "type": "scatter3d",
         "x": [
          0.9060967564582825,
          1.3746498823165894
         ],
         "y": [
          15.14453411102295,
          15.506348609924316
         ],
         "z": [
          10.782814979553223,
          10.245757102966309
         ]
        },
        {
         "line": {
          "color": "darkblue",
          "width": 2
         },
         "mode": "lines",
         "type": "scatter3d",
         "x": [
          0.9060967564582825,
          1.1996877193450928
         ],
         "y": [
          15.14453411102295,
          15.021617889404297
         ],
         "z": [
          10.782814979553223,
          10.628188133239746
         ]
        },
        {
         "line": {
          "color": "darkblue",
          "width": 2
         },
         "mode": "lines",
         "type": "scatter3d",
         "x": [
          0.9060967564582825,
          1.752691626548767
         ],
         "y": [
          15.14453411102295,
          15.01150131225586
         ],
         "z": [
          10.782814979553223,
          10.927967071533203
         ]
        },
        {
         "line": {
          "color": "darkblue",
          "width": 2
         },
         "mode": "lines",
         "type": "scatter3d",
         "x": [
          0.9060967564582825,
          1.7694429159164429
         ],
         "y": [
          15.14453411102295,
          14.708856582641602
         ],
         "z": [
          10.782814979553223,
          10.88333797454834
         ]
        },
        {
         "line": {
          "color": "darkblue",
          "width": 2
         },
         "mode": "lines",
         "type": "scatter3d",
         "x": [
          0.9060967564582825,
          2.1004042625427246
         ],
         "y": [
          15.14453411102295,
          15.26228141784668
         ],
         "z": [
          10.782814979553223,
          10.87511920928955
         ]
        },
        {
         "line": {
          "color": "darkblue",
          "width": 2
         },
         "mode": "lines",
         "type": "scatter3d",
         "x": [
          0.9060967564582825,
          1.2406237125396729
         ],
         "y": [
          15.14453411102295,
          14.909977912902832
         ],
         "z": [
          10.782814979553223,
          10.075891494750977
         ]
        },
        {
         "line": {
          "color": "darkblue",
          "width": 2
         },
         "mode": "lines",
         "type": "scatter3d",
         "x": [
          0.9060967564582825,
          0.83653724193573
         ],
         "y": [
          15.14453411102295,
          15.021265029907227
         ],
         "z": [
          10.782814979553223,
          10.585272789001465
         ]
        },
        {
         "line": {
          "color": "darkblue",
          "width": 2
         },
         "mode": "lines",
         "type": "scatter3d",
         "x": [
          0.9060967564582825,
          0.8652403950691223
         ],
         "y": [
          15.14453411102295,
          14.985915184020996
         ],
         "z": [
          10.782814979553223,
          10.573776245117188
         ]
        },
        {
         "line": {
          "color": "darkblue",
          "width": 2
         },
         "mode": "lines",
         "type": "scatter3d",
         "x": [
          0.9060967564582825,
          1.4604769945144653
         ],
         "y": [
          15.14453411102295,
          14.987598419189453
         ],
         "z": [
          10.782814979553223,
          10.925042152404785
         ]
        },
        {
         "line": {
          "color": "darkblue",
          "width": 2
         },
         "mode": "lines",
         "type": "scatter3d",
         "x": [
          2.652681827545166,
          2.5590102672576904
         ],
         "y": [
          15.26414966583252,
          15.28196907043457
         ],
         "z": [
          10.48588752746582,
          10.63449764251709
         ]
        },
        {
         "line": {
          "color": "darkblue",
          "width": 2
         },
         "mode": "lines",
         "type": "scatter3d",
         "x": [
          2.652681827545166,
          2.115565299987793
         ],
         "y": [
          15.26414966583252,
          14.17250919342041
         ],
         "z": [
          10.48588752746582,
          9.0635347366333
         ]
        },
        {
         "line": {
          "color": "darkblue",
          "width": 2
         },
         "mode": "lines",
         "type": "scatter3d",
         "x": [
          2.652681827545166,
          1.8715623617172241
         ],
         "y": [
          15.26414966583252,
          15.318489074707031
         ],
         "z": [
          10.48588752746582,
          10.980636596679688
         ]
        },
        {
         "line": {
          "color": "darkblue",
          "width": 2
         },
         "mode": "lines",
         "type": "scatter3d",
         "x": [
          2.652681827545166,
          1.752691626548767
         ],
         "y": [
          15.26414966583252,
          15.01150131225586
         ],
         "z": [
          10.48588752746582,
          10.927967071533203
         ]
        },
        {
         "line": {
          "color": "darkblue",
          "width": 2
         },
         "mode": "lines",
         "type": "scatter3d",
         "x": [
          2.652681827545166,
          2.1004042625427246
         ],
         "y": [
          15.26414966583252,
          15.26228141784668
         ],
         "z": [
          10.48588752746582,
          10.87511920928955
         ]
        },
        {
         "line": {
          "color": "darkblue",
          "width": 2
         },
         "mode": "lines",
         "type": "scatter3d",
         "x": [
          2.652681827545166,
          2.5816049575805664
         ],
         "y": [
          15.26414966583252,
          15.610261917114258
         ],
         "z": [
          10.48588752746582,
          10.264507293701172
         ]
        },
        {
         "line": {
          "color": "darkblue",
          "width": 2
         },
         "mode": "lines",
         "type": "scatter3d",
         "x": [
          2.652681827545166,
          1.8972294330596924
         ],
         "y": [
          15.26414966583252,
          13.92541790008545
         ],
         "z": [
          10.48588752746582,
          9.159065246582031
         ]
        },
        {
         "line": {
          "color": "darkblue",
          "width": 2
         },
         "mode": "lines",
         "type": "scatter3d",
         "x": [
          2.652681827545166,
          2.5745773315429688
         ],
         "y": [
          15.26414966583252,
          15.429390907287598
         ],
         "z": [
          10.48588752746582,
          10.236186027526855
         ]
        },
        {
         "line": {
          "color": "darkblue",
          "width": 2
         },
         "mode": "lines",
         "type": "scatter3d",
         "x": [
          3.312657117843628,
          1.9723751544952393
         ],
         "y": [
          14.629730224609375,
          14.395537376403809
         ],
         "z": [
          7.2897233963012695,
          9.750588417053223
         ]
        },
        {
         "line": {
          "color": "darkblue",
          "width": 2
         },
         "mode": "lines",
         "type": "scatter3d",
         "x": [
          3.312657117843628,
          3.384566307067871
         ],
         "y": [
          14.629730224609375,
          14.643056869506836
         ],
         "z": [
          7.2897233963012695,
          7.205195426940918
         ]
        },
        {
         "line": {
          "color": "darkblue",
          "width": 2
         },
         "mode": "lines",
         "type": "scatter3d",
         "x": [
          3.312657117843628,
          3.1048195362091064
         ],
         "y": [
          14.629730224609375,
          14.271413803100586
         ],
         "z": [
          7.2897233963012695,
          7.309120178222656
         ]
        },
        {
         "line": {
          "color": "darkblue",
          "width": 2
         },
         "mode": "lines",
         "type": "scatter3d",
         "x": [
          3.312657117843628,
          3.2817909717559814
         ],
         "y": [
          14.629730224609375,
          14.363313674926758
         ],
         "z": [
          7.2897233963012695,
          7.329168796539307
         ]
        },
        {
         "line": {
          "color": "darkblue",
          "width": 2
         },
         "mode": "lines",
         "type": "scatter3d",
         "x": [
          3.312657117843628,
          3.308570623397827
         ],
         "y": [
          14.629730224609375,
          14.269639015197754
         ],
         "z": [
          7.2897233963012695,
          7.500818252563477
         ]
        },
        {
         "line": {
          "color": "darkblue",
          "width": 2
         },
         "mode": "lines",
         "type": "scatter3d",
         "x": [
          3.312657117843628,
          3.127955198287964
         ],
         "y": [
          14.629730224609375,
          14.482268333435059
         ],
         "z": [
          7.2897233963012695,
          9.023755073547363
         ]
        },
        {
         "line": {
          "color": "darkblue",
          "width": 2
         },
         "mode": "lines",
         "type": "scatter3d",
         "x": [
          2.5590102672576904,
          1.2109830379486084
         ],
         "y": [
          15.28196907043457,
          15.839713096618652
         ],
         "z": [
          10.63449764251709,
          10.296259880065918
         ]
        },
        {
         "line": {
          "color": "darkblue",
          "width": 2
         },
         "mode": "lines",
         "type": "scatter3d",
         "x": [
          2.5590102672576904,
          2.1004042625427246
         ],
         "y": [
          15.28196907043457,
          15.26228141784668
         ],
         "z": [
          10.63449764251709,
          10.87511920928955
         ]
        },
        {
         "line": {
          "color": "darkblue",
          "width": 2
         },
         "mode": "lines",
         "type": "scatter3d",
         "x": [
          2.5590102672576904,
          3.1412196159362793
         ],
         "y": [
          15.28196907043457,
          14.309174537658691
         ],
         "z": [
          10.63449764251709,
          7.647773265838623
         ]
        },
        {
         "line": {
          "color": "darkblue",
          "width": 2
         },
         "mode": "lines",
         "type": "scatter3d",
         "x": [
          2.5590102672576904,
          2.5745773315429688
         ],
         "y": [
          15.28196907043457,
          15.429390907287598
         ],
         "z": [
          10.63449764251709,
          10.236186027526855
         ]
        },
        {
         "line": {
          "color": "darkblue",
          "width": 2
         },
         "mode": "lines",
         "type": "scatter3d",
         "x": [
          0.9827433824539185,
          1.3746498823165894
         ],
         "y": [
          15.229606628417969,
          15.506348609924316
         ],
         "z": [
          10.010781288146973,
          10.245757102966309
         ]
        },
        {
         "line": {
          "color": "darkblue",
          "width": 2
         },
         "mode": "lines",
         "type": "scatter3d",
         "x": [
          0.9827433824539185,
          1.4861594438552856
         ],
         "y": [
          15.229606628417969,
          15.706978797912598
         ],
         "z": [
          10.010781288146973,
          10.38404369354248
         ]
        },
        {
         "line": {
          "color": "darkblue",
          "width": 2
         },
         "mode": "lines",
         "type": "scatter3d",
         "x": [
          3.2696926593780518,
          3.2218446731567383
         ],
         "y": [
          14.372674942016602,
          14.458250999450684
         ],
         "z": [
          9.455822944641113,
          9.305341720581055
         ]
        },
        {
         "line": {
          "color": "darkblue",
          "width": 2
         },
         "mode": "lines",
         "type": "scatter3d",
         "x": [
          3.2696926593780518,
          2.9608514308929443
         ],
         "y": [
          14.372674942016602,
          14.281628608703613
         ],
         "z": [
          9.455822944641113,
          9.235393524169922
         ]
        },
        {
         "line": {
          "color": "darkblue",
          "width": 2
         },
         "mode": "lines",
         "type": "scatter3d",
         "x": [
          3.2696926593780518,
          3.1576480865478516
         ],
         "y": [
          14.372674942016602,
          14.298648834228516
         ],
         "z": [
          9.455822944641113,
          9.630070686340332
         ]
        },
        {
         "line": {
          "color": "darkblue",
          "width": 2
         },
         "mode": "lines",
         "type": "scatter3d",
         "x": [
          1.9723751544952393,
          0.5459855198860168
         ],
         "y": [
          14.395537376403809,
          12.117591857910156
         ],
         "z": [
          9.750588417053223,
          10.761032104492188
         ]
        },
        {
         "line": {
          "color": "darkblue",
          "width": 2
         },
         "mode": "lines",
         "type": "scatter3d",
         "x": [
          1.9723751544952393,
          3.4217886924743652
         ],
         "y": [
          14.395537376403809,
          12.879056930541992
         ],
         "z": [
          9.750588417053223,
          7.251497745513916
         ]
        },
        {
         "line": {
          "color": "darkblue",
          "width": 2
         },
         "mode": "lines",
         "type": "scatter3d",
         "x": [
          1.9723751544952393,
          1.2109830379486084
         ],
         "y": [
          14.395537376403809,
          15.839713096618652
         ],
         "z": [
          9.750588417053223,
          10.296259880065918
         ]
        },
        {
         "line": {
          "color": "darkblue",
          "width": 2
         },
         "mode": "lines",
         "type": "scatter3d",
         "x": [
          1.9723751544952393,
          2.115565299987793
         ],
         "y": [
          14.395537376403809,
          14.17250919342041
         ],
         "z": [
          9.750588417053223,
          9.0635347366333
         ]
        },
        {
         "line": {
          "color": "darkblue",
          "width": 2
         },
         "mode": "lines",
         "type": "scatter3d",
         "x": [
          1.9723751544952393,
          2.0486509799957275
         ],
         "y": [
          14.395537376403809,
          14.375079154968262
         ],
         "z": [
          9.750588417053223,
          10.467572212219238
         ]
        },
        {
         "line": {
          "color": "darkblue",
          "width": 2
         },
         "mode": "lines",
         "type": "scatter3d",
         "x": [
          1.9723751544952393,
          1.7296133041381836
         ],
         "y": [
          14.395537376403809,
          14.651735305786133
         ],
         "z": [
          9.750588417053223,
          9.983197212219238
         ]
        },
        {
         "line": {
          "color": "darkblue",
          "width": 2
         },
         "mode": "lines",
         "type": "scatter3d",
         "x": [
          1.9723751544952393,
          3.560526132583618
         ],
         "y": [
          14.395537376403809,
          12.93753433227539
         ],
         "z": [
          9.750588417053223,
          7.393656253814697
         ]
        },
        {
         "line": {
          "color": "darkblue",
          "width": 2
         },
         "mode": "lines",
         "type": "scatter3d",
         "x": [
          1.9723751544952393,
          2.1815454959869385
         ],
         "y": [
          14.395537376403809,
          13.91817569732666
         ],
         "z": [
          9.750588417053223,
          8.897871971130371
         ]
        },
        {
         "line": {
          "color": "darkblue",
          "width": 2
         },
         "mode": "lines",
         "type": "scatter3d",
         "x": [
          1.9723751544952393,
          2.1163339614868164
         ],
         "y": [
          14.395537376403809,
          14.024059295654297
         ],
         "z": [
          9.750588417053223,
          9.309845924377441
         ]
        },
        {
         "line": {
          "color": "darkblue",
          "width": 2
         },
         "mode": "lines",
         "type": "scatter3d",
         "x": [
          1.9723751544952393,
          2.869910478591919
         ],
         "y": [
          14.395537376403809,
          14.401128768920898
         ],
         "z": [
          9.750588417053223,
          9.125597953796387
         ]
        },
        {
         "line": {
          "color": "darkblue",
          "width": 2
         },
         "mode": "lines",
         "type": "scatter3d",
         "x": [
          1.9723751544952393,
          2.5745773315429688
         ],
         "y": [
          14.395537376403809,
          15.429390907287598
         ],
         "z": [
          9.750588417053223,
          10.236186027526855
         ]
        },
        {
         "line": {
          "color": "darkblue",
          "width": 2
         },
         "mode": "lines",
         "type": "scatter3d",
         "x": [
          1.9723751544952393,
          1.4604769945144653
         ],
         "y": [
          14.395537376403809,
          14.987598419189453
         ],
         "z": [
          9.750588417053223,
          10.925042152404785
         ]
        },
        {
         "line": {
          "color": "darkblue",
          "width": 2
         },
         "mode": "lines",
         "type": "scatter3d",
         "x": [
          1.9723751544952393,
          1.9980069398880005
         ],
         "y": [
          14.395537376403809,
          14.1659517288208
         ],
         "z": [
          9.750588417053223,
          10.26030445098877
         ]
        },
        {
         "line": {
          "color": "darkblue",
          "width": 2
         },
         "mode": "lines",
         "type": "scatter3d",
         "x": [
          3.060981035232544,
          3.384566307067871
         ],
         "y": [
          14.580195426940918,
          14.643056869506836
         ],
         "z": [
          7.438647270202637,
          7.205195426940918
         ]
        },
        {
         "line": {
          "color": "darkblue",
          "width": 2
         },
         "mode": "lines",
         "type": "scatter3d",
         "x": [
          3.060981035232544,
          3.1412196159362793
         ],
         "y": [
          14.580195426940918,
          14.309174537658691
         ],
         "z": [
          7.438647270202637,
          7.647773265838623
         ]
        },
        {
         "line": {
          "color": "darkblue",
          "width": 2
         },
         "mode": "lines",
         "type": "scatter3d",
         "x": [
          3.060981035232544,
          3.308570623397827
         ],
         "y": [
          14.580195426940918,
          14.269639015197754
         ],
         "z": [
          7.438647270202637,
          7.500818252563477
         ]
        },
        {
         "line": {
          "color": "darkblue",
          "width": 2
         },
         "mode": "lines",
         "type": "scatter3d",
         "x": [
          1.3746498823165894,
          1.1057103872299194
         ],
         "y": [
          15.506348609924316,
          15.66706657409668
         ],
         "z": [
          10.245757102966309,
          10.402862548828125
         ]
        },
        {
         "line": {
          "color": "darkblue",
          "width": 2
         },
         "mode": "lines",
         "type": "scatter3d",
         "x": [
          1.3746498823165894,
          1.2109830379486084
         ],
         "y": [
          15.506348609924316,
          15.839713096618652
         ],
         "z": [
          10.245757102966309,
          10.296259880065918
         ]
        },
        {
         "line": {
          "color": "darkblue",
          "width": 2
         },
         "mode": "lines",
         "type": "scatter3d",
         "x": [
          1.3746498823165894,
          2.1004042625427246
         ],
         "y": [
          15.506348609924316,
          15.26228141784668
         ],
         "z": [
          10.245757102966309,
          10.87511920928955
         ]
        },
        {
         "line": {
          "color": "darkblue",
          "width": 2
         },
         "mode": "lines",
         "type": "scatter3d",
         "x": [
          1.3746498823165894,
          1.7296133041381836
         ],
         "y": [
          15.506348609924316,
          14.651735305786133
         ],
         "z": [
          10.245757102966309,
          9.983197212219238
         ]
        },
        {
         "line": {
          "color": "darkblue",
          "width": 2
         },
         "mode": "lines",
         "type": "scatter3d",
         "x": [
          1.3746498823165894,
          1.2406237125396729
         ],
         "y": [
          15.506348609924316,
          14.909977912902832
         ],
         "z": [
          10.245757102966309,
          10.075891494750977
         ]
        },
        {
         "line": {
          "color": "darkblue",
          "width": 2
         },
         "mode": "lines",
         "type": "scatter3d",
         "x": [
          1.3746498823165894,
          1.1484562158584595
         ],
         "y": [
          15.506348609924316,
          14.375589370727539
         ],
         "z": [
          10.245757102966309,
          9.487199783325195
         ]
        },
        {
         "line": {
          "color": "darkblue",
          "width": 2
         },
         "mode": "lines",
         "type": "scatter3d",
         "x": [
          1.3746498823165894,
          1.3448426723480225
         ],
         "y": [
          15.506348609924316,
          15.353025436401367
         ],
         "z": [
          10.245757102966309,
          10.038677215576172
         ]
        },
        {
         "line": {
          "color": "darkblue",
          "width": 2
         },
         "mode": "lines",
         "type": "scatter3d",
         "x": [
          1.3746498823165894,
          1.4861594438552856
         ],
         "y": [
          15.506348609924316,
          15.706978797912598
         ],
         "z": [
          10.245757102966309,
          10.38404369354248
         ]
        },
        {
         "line": {
          "color": "darkblue",
          "width": 2
         },
         "mode": "lines",
         "type": "scatter3d",
         "x": [
          1.3746498823165894,
          1.536219835281372
         ],
         "y": [
          15.506348609924316,
          14.80673599243164
         ],
         "z": [
          10.245757102966309,
          10.635207176208496
         ]
        },
        {
         "line": {
          "color": "darkblue",
          "width": 2
         },
         "mode": "lines",
         "type": "scatter3d",
         "x": [
          0.5459855198860168,
          0.5349121689796448
         ],
         "y": [
          12.117591857910156,
          12.099945068359375
         ],
         "z": [
          10.761032104492188,
          10.684588432312012
         ]
        },
        {
         "line": {
          "color": "darkblue",
          "width": 2
         },
         "mode": "lines",
         "type": "scatter3d",
         "x": [
          0.5459855198860168,
          1.7032243013381958
         ],
         "y": [
          12.117591857910156,
          12.02492904663086
         ],
         "z": [
          10.761032104492188,
          11.336490631103516
         ]
        },
        {
         "line": {
          "color": "darkblue",
          "width": 2
         },
         "mode": "lines",
         "type": "scatter3d",
         "x": [
          0.5459855198860168,
          0.683469295501709
         ],
         "y": [
          12.117591857910156,
          12.01729965209961
         ],
         "z": [
          10.761032104492188,
          10.655123710632324
         ]
        },
        {
         "line": {
          "color": "darkblue",
          "width": 2
         },
         "mode": "lines",
         "type": "scatter3d",
         "x": [
          0.5459855198860168,
          0.9399324059486389
         ],
         "y": [
          12.117591857910156,
          12.050021171569824
         ],
         "z": [
          10.761032104492188,
          10.927075386047363
         ]
        },
        {
         "line": {
          "color": "darkblue",
          "width": 2
         },
         "mode": "lines",
         "type": "scatter3d",
         "x": [
          0.5459855198860168,
          0.750590443611145
         ],
         "y": [
          12.117591857910156,
          12.31689739227295
         ],
         "z": [
          10.761032104492188,
          10.915008544921875
         ]
        },
        {
         "line": {
          "color": "darkblue",
          "width": 2
         },
         "mode": "lines",
         "type": "scatter3d",
         "x": [
          0.5459855198860168,
          0.6706434488296509
         ],
         "y": [
          12.117591857910156,
          12.2752685546875
         ],
         "z": [
          10.761032104492188,
          10.846835136413574
         ]
        },
        {
         "line": {
          "color": "darkblue",
          "width": 2
         },
         "mode": "lines",
         "type": "scatter3d",
         "x": [
          0.5459855198860168,
          0.7441622614860535
         ],
         "y": [
          12.117591857910156,
          11.95843505859375
         ],
         "z": [
          10.761032104492188,
          11.020276069641113
         ]
        },
        {
         "line": {
          "color": "darkblue",
          "width": 2
         },
         "mode": "lines",
         "type": "scatter3d",
         "x": [
          0.5459855198860168,
          1.580517053604126
         ],
         "y": [
          12.117591857910156,
          12.622427940368652
         ],
         "z": [
          10.761032104492188,
          10.880009651184082
         ]
        },
        {
         "line": {
          "color": "darkblue",
          "width": 2
         },
         "mode": "lines",
         "type": "scatter3d",
         "x": [
          0.5459855198860168,
          0.752468466758728
         ],
         "y": [
          12.117591857910156,
          11.897732734680176
         ],
         "z": [
          10.761032104492188,
          11.086283683776855
         ]
        },
        {
         "line": {
          "color": "darkblue",
          "width": 2
         },
         "mode": "lines",
         "type": "scatter3d",
         "x": [
          1.6777325868606567,
          1.7032243013381958
         ],
         "y": [
          12.053476333618164,
          12.02492904663086
         ],
         "z": [
          11.421619415283203,
          11.336490631103516
         ]
        },
        {
         "line": {
          "color": "darkblue",
          "width": 2
         },
         "mode": "lines",
         "type": "scatter3d",
         "x": [
          1.6777325868606567,
          1.675443172454834
         ],
         "y": [
          12.053476333618164,
          12.211262702941895
         ],
         "z": [
          11.421619415283203,
          11.26513671875
         ]
        },
        {
         "line": {
          "color": "darkblue",
          "width": 2
         },
         "mode": "lines",
         "type": "scatter3d",
         "x": [
          1.6777325868606567,
          1.5520480871200562
         ],
         "y": [
          12.053476333618164,
          11.989605903625488
         ],
         "z": [
          11.421619415283203,
          11.436545372009277
         ]
        },
        {
         "line": {
          "color": "darkblue",
          "width": 2
         },
         "mode": "lines",
         "type": "scatter3d",
         "x": [
          1.1057103872299194,
          1.2109830379486084
         ],
         "y": [
          15.66706657409668,
          15.839713096618652
         ],
         "z": [
          10.402862548828125,
          10.296259880065918
         ]
        },
        {
         "line": {
          "color": "darkblue",
          "width": 2
         },
         "mode": "lines",
         "type": "scatter3d",
         "x": [
          3.384566307067871,
          3.1048195362091064
         ],
         "y": [
          14.643056869506836,
          14.271413803100586
         ],
         "z": [
          7.205195426940918,
          7.309120178222656
         ]
        },
        {
         "line": {
          "color": "darkblue",
          "width": 2
         },
         "mode": "lines",
         "type": "scatter3d",
         "x": [
          3.384566307067871,
          3.2817909717559814
         ],
         "y": [
          14.643056869506836,
          14.363313674926758
         ],
         "z": [
          7.205195426940918,
          7.329168796539307
         ]
        },
        {
         "line": {
          "color": "darkblue",
          "width": 2
         },
         "mode": "lines",
         "type": "scatter3d",
         "x": [
          3.384566307067871,
          1.8972294330596924
         ],
         "y": [
          14.643056869506836,
          13.92541790008545
         ],
         "z": [
          7.205195426940918,
          9.159065246582031
         ]
        },
        {
         "line": {
          "color": "darkblue",
          "width": 2
         },
         "mode": "lines",
         "type": "scatter3d",
         "x": [
          3.384566307067871,
          3.1412196159362793
         ],
         "y": [
          14.643056869506836,
          14.309174537658691
         ],
         "z": [
          7.205195426940918,
          7.647773265838623
         ]
        },
        {
         "line": {
          "color": "darkblue",
          "width": 2
         },
         "mode": "lines",
         "type": "scatter3d",
         "x": [
          3.384566307067871,
          3.308570623397827
         ],
         "y": [
          14.643056869506836,
          14.269639015197754
         ],
         "z": [
          7.205195426940918,
          7.500818252563477
         ]
        },
        {
         "line": {
          "color": "darkblue",
          "width": 2
         },
         "mode": "lines",
         "type": "scatter3d",
         "x": [
          3.4217886924743652,
          0.5349121689796448
         ],
         "y": [
          12.879056930541992,
          12.099945068359375
         ],
         "z": [
          7.251497745513916,
          10.684588432312012
         ]
        },
        {
         "line": {
          "color": "darkblue",
          "width": 2
         },
         "mode": "lines",
         "type": "scatter3d",
         "x": [
          3.4217886924743652,
          3.560526132583618
         ],
         "y": [
          12.879056930541992,
          12.93753433227539
         ],
         "z": [
          7.251497745513916,
          7.393656253814697
         ]
        },
        {
         "line": {
          "color": "darkblue",
          "width": 2
         },
         "mode": "lines",
         "type": "scatter3d",
         "x": [
          3.4217886924743652,
          3.2785825729370117
         ],
         "y": [
          12.879056930541992,
          13.065966606140137
         ],
         "z": [
          7.251497745513916,
          7.413838863372803
         ]
        },
        {
         "line": {
          "color": "darkblue",
          "width": 2
         },
         "mode": "lines",
         "type": "scatter3d",
         "x": [
          3.4217886924743652,
          3.4412527084350586
         ],
         "y": [
          12.879056930541992,
          12.873708724975586
         ],
         "z": [
          7.251497745513916,
          7.258820533752441
         ]
        },
        {
         "line": {
          "color": "darkblue",
          "width": 2
         },
         "mode": "lines",
         "type": "scatter3d",
         "x": [
          1.2109830379486084,
          1.1996877193450928
         ],
         "y": [
          15.839713096618652,
          15.021617889404297
         ],
         "z": [
          10.296259880065918,
          10.628188133239746
         ]
        },
        {
         "line": {
          "color": "darkblue",
          "width": 2
         },
         "mode": "lines",
         "type": "scatter3d",
         "x": [
          1.2109830379486084,
          3.1412196159362793
         ],
         "y": [
          15.839713096618652,
          14.309174537658691
         ],
         "z": [
          10.296259880065918,
          7.647773265838623
         ]
        },
        {
         "line": {
          "color": "darkblue",
          "width": 2
         },
         "mode": "lines",
         "type": "scatter3d",
         "x": [
          1.2109830379486084,
          1.1575459241867065
         ],
         "y": [
          15.839713096618652,
          14.620024681091309
         ],
         "z": [
          10.296259880065918,
          9.746574401855469
         ]
        },
        {
         "line": {
          "color": "darkblue",
          "width": 2
         },
         "mode": "lines",
         "type": "scatter3d",
         "x": [
          1.2109830379486084,
          1.3448426723480225
         ],
         "y": [
          15.839713096618652,
          15.353025436401367
         ],
         "z": [
          10.296259880065918,
          10.038677215576172
         ]
        },
        {
         "line": {
          "color": "darkblue",
          "width": 2
         },
         "mode": "lines",
         "type": "scatter3d",
         "x": [
          1.2109830379486084,
          1.4861594438552856
         ],
         "y": [
          15.839713096618652,
          15.706978797912598
         ],
         "z": [
          10.296259880065918,
          10.38404369354248
         ]
        },
        {
         "line": {
          "color": "darkblue",
          "width": 2
         },
         "mode": "lines",
         "type": "scatter3d",
         "x": [
          1.2109830379486084,
          1.4604769945144653
         ],
         "y": [
          15.839713096618652,
          14.987598419189453
         ],
         "z": [
          10.296259880065918,
          10.925042152404785
         ]
        },
        {
         "line": {
          "color": "darkblue",
          "width": 2
         },
         "mode": "lines",
         "type": "scatter3d",
         "x": [
          1.2109830379486084,
          1.9980069398880005
         ],
         "y": [
          15.839713096618652,
          14.1659517288208
         ],
         "z": [
          10.296259880065918,
          10.26030445098877
         ]
        },
        {
         "line": {
          "color": "darkblue",
          "width": 2
         },
         "mode": "lines",
         "type": "scatter3d",
         "x": [
          1.322243094444275,
          1.1996877193450928
         ],
         "y": [
          15.172737121582031,
          15.021617889404297
         ],
         "z": [
          10.606202125549316,
          10.628188133239746
         ]
        },
        {
         "line": {
          "color": "darkblue",
          "width": 2
         },
         "mode": "lines",
         "type": "scatter3d",
         "x": [
          0.5349121689796448,
          1.7032243013381958
         ],
         "y": [
          12.099945068359375,
          12.02492904663086
         ],
         "z": [
          10.684588432312012,
          11.336490631103516
         ]
        },
        {
         "line": {
          "color": "darkblue",
          "width": 2
         },
         "mode": "lines",
         "type": "scatter3d",
         "x": [
          0.5349121689796448,
          0.683469295501709
         ],
         "y": [
          12.099945068359375,
          12.01729965209961
         ],
         "z": [
          10.684588432312012,
          10.655123710632324
         ]
        },
        {
         "line": {
          "color": "darkblue",
          "width": 2
         },
         "mode": "lines",
         "type": "scatter3d",
         "x": [
          0.5349121689796448,
          3.2817909717559814
         ],
         "y": [
          12.099945068359375,
          14.363313674926758
         ],
         "z": [
          10.684588432312012,
          7.329168796539307
         ]
        },
        {
         "line": {
          "color": "darkblue",
          "width": 2
         },
         "mode": "lines",
         "type": "scatter3d",
         "x": [
          0.5349121689796448,
          0.750590443611145
         ],
         "y": [
          12.099945068359375,
          12.31689739227295
         ],
         "z": [
          10.684588432312012,
          10.915008544921875
         ]
        },
        {
         "line": {
          "color": "darkblue",
          "width": 2
         },
         "mode": "lines",
         "type": "scatter3d",
         "x": [
          0.5349121689796448,
          0.6706434488296509
         ],
         "y": [
          12.099945068359375,
          12.2752685546875
         ],
         "z": [
          10.684588432312012,
          10.846835136413574
         ]
        },
        {
         "line": {
          "color": "darkblue",
          "width": 2
         },
         "mode": "lines",
         "type": "scatter3d",
         "x": [
          0.5349121689796448,
          0.7441622614860535
         ],
         "y": [
          12.099945068359375,
          11.95843505859375
         ],
         "z": [
          10.684588432312012,
          11.020276069641113
         ]
        },
        {
         "line": {
          "color": "darkblue",
          "width": 2
         },
         "mode": "lines",
         "type": "scatter3d",
         "x": [
          1.7032243013381958,
          1.675443172454834
         ],
         "y": [
          12.02492904663086,
          12.211262702941895
         ],
         "z": [
          11.336490631103516,
          11.26513671875
         ]
        },
        {
         "line": {
          "color": "darkblue",
          "width": 2
         },
         "mode": "lines",
         "type": "scatter3d",
         "x": [
          1.7032243013381958,
          1.5520480871200562
         ],
         "y": [
          12.02492904663086,
          11.989605903625488
         ],
         "z": [
          11.336490631103516,
          11.436545372009277
         ]
        },
        {
         "line": {
          "color": "darkblue",
          "width": 2
         },
         "mode": "lines",
         "type": "scatter3d",
         "x": [
          1.7032243013381958,
          1.580517053604126
         ],
         "y": [
          12.02492904663086,
          12.622427940368652
         ],
         "z": [
          11.336490631103516,
          10.880009651184082
         ]
        },
        {
         "line": {
          "color": "darkblue",
          "width": 2
         },
         "mode": "lines",
         "type": "scatter3d",
         "x": [
          1.1996877193450928,
          1.6082321405410767
         ],
         "y": [
          15.021617889404297,
          14.649352073669434
         ],
         "z": [
          10.628188133239746,
          10.085458755493164
         ]
        },
        {
         "line": {
          "color": "darkblue",
          "width": 2
         },
         "mode": "lines",
         "type": "scatter3d",
         "x": [
          1.1996877193450928,
          1.7296133041381836
         ],
         "y": [
          15.021617889404297,
          14.651735305786133
         ],
         "z": [
          10.628188133239746,
          9.983197212219238
         ]
        },
        {
         "line": {
          "color": "darkblue",
          "width": 2
         },
         "mode": "lines",
         "type": "scatter3d",
         "x": [
          1.1996877193450928,
          1.536219835281372
         ],
         "y": [
          15.021617889404297,
          14.80673599243164
         ],
         "z": [
          10.628188133239746,
          10.635207176208496
         ]
        },
        {
         "line": {
          "color": "darkblue",
          "width": 2
         },
         "mode": "lines",
         "type": "scatter3d",
         "x": [
          1.675443172454834,
          1.580517053604126
         ],
         "y": [
          12.211262702941895,
          12.622427940368652
         ],
         "z": [
          11.26513671875,
          10.880009651184082
         ]
        },
        {
         "line": {
          "color": "darkblue",
          "width": 2
         },
         "mode": "lines",
         "type": "scatter3d",
         "x": [
          1.0432707071304321,
          0.750590443611145
         ],
         "y": [
          12.536871910095215,
          12.31689739227295
         ],
         "z": [
          9.947164535522461,
          10.915008544921875
         ]
        },
        {
         "line": {
          "color": "darkblue",
          "width": 2
         },
         "mode": "lines",
         "type": "scatter3d",
         "x": [
          1.0432707071304321,
          1.1328643560409546
         ],
         "y": [
          12.536871910095215,
          12.78331184387207
         ],
         "z": [
          9.947164535522461,
          9.760340690612793
         ]
        },
        {
         "line": {
          "color": "darkblue",
          "width": 2
         },
         "mode": "lines",
         "type": "scatter3d",
         "x": [
          0.683469295501709,
          0.9399324059486389
         ],
         "y": [
          12.01729965209961,
          12.050021171569824
         ],
         "z": [
          10.655123710632324,
          10.927075386047363
         ]
        },
        {
         "line": {
          "color": "darkblue",
          "width": 2
         },
         "mode": "lines",
         "type": "scatter3d",
         "x": [
          0.683469295501709,
          0.750590443611145
         ],
         "y": [
          12.01729965209961,
          12.31689739227295
         ],
         "z": [
          10.655123710632324,
          10.915008544921875
         ]
        },
        {
         "line": {
          "color": "darkblue",
          "width": 2
         },
         "mode": "lines",
         "type": "scatter3d",
         "x": [
          0.683469295501709,
          0.6706434488296509
         ],
         "y": [
          12.01729965209961,
          12.2752685546875
         ],
         "z": [
          10.655123710632324,
          10.846835136413574
         ]
        },
        {
         "line": {
          "color": "darkblue",
          "width": 2
         },
         "mode": "lines",
         "type": "scatter3d",
         "x": [
          0.683469295501709,
          1.5520480871200562
         ],
         "y": [
          12.01729965209961,
          11.989605903625488
         ],
         "z": [
          10.655123710632324,
          11.436545372009277
         ]
        },
        {
         "line": {
          "color": "darkblue",
          "width": 2
         },
         "mode": "lines",
         "type": "scatter3d",
         "x": [
          0.683469295501709,
          1.1484562158584595
         ],
         "y": [
          12.01729965209961,
          14.375589370727539
         ],
         "z": [
          10.655123710632324,
          9.487199783325195
         ]
        },
        {
         "line": {
          "color": "darkblue",
          "width": 2
         },
         "mode": "lines",
         "type": "scatter3d",
         "x": [
          0.683469295501709,
          1.1328643560409546
         ],
         "y": [
          12.01729965209961,
          12.78331184387207
         ],
         "z": [
          10.655123710632324,
          9.760340690612793
         ]
        },
        {
         "line": {
          "color": "darkblue",
          "width": 2
         },
         "mode": "lines",
         "type": "scatter3d",
         "x": [
          0.683469295501709,
          0.7441622614860535
         ],
         "y": [
          12.01729965209961,
          11.95843505859375
         ],
         "z": [
          10.655123710632324,
          11.020276069641113
         ]
        },
        {
         "line": {
          "color": "darkblue",
          "width": 2
         },
         "mode": "lines",
         "type": "scatter3d",
         "x": [
          0.683469295501709,
          0.752468466758728
         ],
         "y": [
          12.01729965209961,
          11.897732734680176
         ],
         "z": [
          10.655123710632324,
          11.086283683776855
         ]
        },
        {
         "line": {
          "color": "darkblue",
          "width": 2
         },
         "mode": "lines",
         "type": "scatter3d",
         "x": [
          0.9399324059486389,
          0.750590443611145
         ],
         "y": [
          12.050021171569824,
          12.31689739227295
         ],
         "z": [
          10.927075386047363,
          10.915008544921875
         ]
        },
        {
         "line": {
          "color": "darkblue",
          "width": 2
         },
         "mode": "lines",
         "type": "scatter3d",
         "x": [
          0.9399324059486389,
          0.6706434488296509
         ],
         "y": [
          12.050021171569824,
          12.2752685546875
         ],
         "z": [
          10.927075386047363,
          10.846835136413574
         ]
        },
        {
         "line": {
          "color": "darkblue",
          "width": 2
         },
         "mode": "lines",
         "type": "scatter3d",
         "x": [
          0.9399324059486389,
          0.7441622614860535
         ],
         "y": [
          12.050021171569824,
          11.95843505859375
         ],
         "z": [
          10.927075386047363,
          11.020276069641113
         ]
        },
        {
         "line": {
          "color": "darkblue",
          "width": 2
         },
         "mode": "lines",
         "type": "scatter3d",
         "x": [
          0.9399324059486389,
          0.8652403950691223
         ],
         "y": [
          12.050021171569824,
          14.985915184020996
         ],
         "z": [
          10.927075386047363,
          10.573776245117188
         ]
        },
        {
         "line": {
          "color": "darkblue",
          "width": 2
         },
         "mode": "lines",
         "type": "scatter3d",
         "x": [
          2.115565299987793,
          2.04580020904541
         ],
         "y": [
          14.17250919342041,
          14.3552827835083
         ],
         "z": [
          9.0635347366333,
          9.085914611816406
         ]
        },
        {
         "line": {
          "color": "darkblue",
          "width": 2
         },
         "mode": "lines",
         "type": "scatter3d",
         "x": [
          2.115565299987793,
          1.8972294330596924
         ],
         "y": [
          14.17250919342041,
          13.92541790008545
         ],
         "z": [
          9.0635347366333,
          9.159065246582031
         ]
        },
        {
         "line": {
          "color": "darkblue",
          "width": 2
         },
         "mode": "lines",
         "type": "scatter3d",
         "x": [
          2.115565299987793,
          2.1815454959869385
         ],
         "y": [
          14.17250919342041,
          13.91817569732666
         ],
         "z": [
          9.0635347366333,
          8.897871971130371
         ]
        },
        {
         "line": {
          "color": "darkblue",
          "width": 2
         },
         "mode": "lines",
         "type": "scatter3d",
         "x": [
          2.115565299987793,
          2.1163339614868164
         ],
         "y": [
          14.17250919342041,
          14.024059295654297
         ],
         "z": [
          9.0635347366333,
          9.309845924377441
         ]
        },
        {
         "line": {
          "color": "darkblue",
          "width": 2
         },
         "mode": "lines",
         "type": "scatter3d",
         "x": [
          3.1048195362091064,
          3.2817909717559814
         ],
         "y": [
          14.271413803100586,
          14.363313674926758
         ],
         "z": [
          7.309120178222656,
          7.329168796539307
         ]
        },
        {
         "line": {
          "color": "darkblue",
          "width": 2
         },
         "mode": "lines",
         "type": "scatter3d",
         "x": [
          3.1048195362091064,
          3.560526132583618
         ],
         "y": [
          14.271413803100586,
          12.93753433227539
         ],
         "z": [
          7.309120178222656,
          7.393656253814697
         ]
        },
        {
         "line": {
          "color": "darkblue",
          "width": 2
         },
         "mode": "lines",
         "type": "scatter3d",
         "x": [
          3.1048195362091064,
          3.1412196159362793
         ],
         "y": [
          14.271413803100586,
          14.309174537658691
         ],
         "z": [
          7.309120178222656,
          7.647773265838623
         ]
        },
        {
         "line": {
          "color": "darkblue",
          "width": 2
         },
         "mode": "lines",
         "type": "scatter3d",
         "x": [
          3.1048195362091064,
          3.098602056503296
         ],
         "y": [
          14.271413803100586,
          13.979121208190918
         ],
         "z": [
          7.309120178222656,
          7.466039657592773
         ]
        },
        {
         "line": {
          "color": "darkblue",
          "width": 2
         },
         "mode": "lines",
         "type": "scatter3d",
         "x": [
          3.1048195362091064,
          3.308570623397827
         ],
         "y": [
          14.271413803100586,
          14.269639015197754
         ],
         "z": [
          7.309120178222656,
          7.500818252563477
         ]
        },
        {
         "line": {
          "color": "darkblue",
          "width": 2
         },
         "mode": "lines",
         "type": "scatter3d",
         "x": [
          2.7513513565063477,
          2.850430965423584
         ],
         "y": [
          15.029202461242676,
          14.114836692810059
         ],
         "z": [
          9.799821853637695,
          9.830520629882812
         ]
        },
        {
         "line": {
          "color": "darkblue",
          "width": 2
         },
         "mode": "lines",
         "type": "scatter3d",
         "x": [
          2.7513513565063477,
          2.9608514308929443
         ],
         "y": [
          15.029202461242676,
          14.281628608703613
         ],
         "z": [
          9.799821853637695,
          9.235393524169922
         ]
        },
        {
         "line": {
          "color": "darkblue",
          "width": 2
         },
         "mode": "lines",
         "type": "scatter3d",
         "x": [
          2.7513513565063477,
          1.580517053604126
         ],
         "y": [
          15.029202461242676,
          12.622427940368652
         ],
         "z": [
          9.799821853637695,
          10.880009651184082
         ]
        },
        {
         "line": {
          "color": "darkblue",
          "width": 2
         },
         "mode": "lines",
         "type": "scatter3d",
         "x": [
          2.7513513565063477,
          2.5745773315429688
         ],
         "y": [
          15.029202461242676,
          15.429390907287598
         ],
         "z": [
          9.799821853637695,
          10.236186027526855
         ]
        },
        {
         "line": {
          "color": "darkblue",
          "width": 2
         },
         "mode": "lines",
         "type": "scatter3d",
         "x": [
          2.2009339332580566,
          1.8715623617172241
         ],
         "y": [
          15.564620971679688,
          15.318489074707031
         ],
         "z": [
          10.634908676147461,
          10.980636596679688
         ]
        },
        {
         "line": {
          "color": "darkblue",
          "width": 2
         },
         "mode": "lines",
         "type": "scatter3d",
         "x": [
          2.2009339332580566,
          2.1004042625427246
         ],
         "y": [
          15.564620971679688,
          15.26228141784668
         ],
         "z": [
          10.634908676147461,
          10.87511920928955
         ]
        },
        {
         "line": {
          "color": "darkblue",
          "width": 2
         },
         "mode": "lines",
         "type": "scatter3d",
         "x": [
          2.2009339332580566,
          2.2610743045806885
         ],
         "y": [
          15.564620971679688,
          15.686630249023438
         ],
         "z": [
          10.634908676147461,
          10.601831436157227
         ]
        },
        {
         "line": {
          "color": "darkblue",
          "width": 2
         },
         "mode": "lines",
         "type": "scatter3d",
         "x": [
          2.2009339332580566,
          1.4861594438552856
         ],
         "y": [
          15.564620971679688,
          15.706978797912598
         ],
         "z": [
          10.634908676147461,
          10.38404369354248
         ]
        },
        {
         "line": {
          "color": "darkblue",
          "width": 2
         },
         "mode": "lines",
         "type": "scatter3d",
         "x": [
          2.850430965423584,
          2.0486509799957275
         ],
         "y": [
          14.114836692810059,
          14.375079154968262
         ],
         "z": [
          9.830520629882812,
          10.467572212219238
         ]
        },
        {
         "line": {
          "color": "darkblue",
          "width": 2
         },
         "mode": "lines",
         "type": "scatter3d",
         "x": [
          2.850430965423584,
          3.1576480865478516
         ],
         "y": [
          14.114836692810059,
          14.298648834228516
         ],
         "z": [
          9.830520629882812,
          9.630070686340332
         ]
        },
        {
         "line": {
          "color": "darkblue",
          "width": 2
         },
         "mode": "lines",
         "type": "scatter3d",
         "x": [
          1.8715623617172241,
          1.752691626548767
         ],
         "y": [
          15.318489074707031,
          15.01150131225586
         ],
         "z": [
          10.980636596679688,
          10.927967071533203
         ]
        },
        {
         "line": {
          "color": "darkblue",
          "width": 2
         },
         "mode": "lines",
         "type": "scatter3d",
         "x": [
          1.8715623617172241,
          2.1004042625427246
         ],
         "y": [
          15.318489074707031,
          15.26228141784668
         ],
         "z": [
          10.980636596679688,
          10.87511920928955
         ]
        },
        {
         "line": {
          "color": "darkblue",
          "width": 2
         },
         "mode": "lines",
         "type": "scatter3d",
         "x": [
          1.8715623617172241,
          1.4861594438552856
         ],
         "y": [
          15.318489074707031,
          15.706978797912598
         ],
         "z": [
          10.980636596679688,
          10.38404369354248
         ]
        },
        {
         "line": {
          "color": "darkblue",
          "width": 2
         },
         "mode": "lines",
         "type": "scatter3d",
         "x": [
          1.8715623617172241,
          1.4604769945144653
         ],
         "y": [
          15.318489074707031,
          14.987598419189453
         ],
         "z": [
          10.980636596679688,
          10.925042152404785
         ]
        },
        {
         "line": {
          "color": "darkblue",
          "width": 2
         },
         "mode": "lines",
         "type": "scatter3d",
         "x": [
          2.0486509799957275,
          1.752691626548767
         ],
         "y": [
          14.375079154968262,
          15.01150131225586
         ],
         "z": [
          10.467572212219238,
          10.927967071533203
         ]
        },
        {
         "line": {
          "color": "darkblue",
          "width": 2
         },
         "mode": "lines",
         "type": "scatter3d",
         "x": [
          2.0486509799957275,
          1.7694429159164429
         ],
         "y": [
          14.375079154968262,
          14.708856582641602
         ],
         "z": [
          10.467572212219238,
          10.88333797454834
         ]
        },
        {
         "line": {
          "color": "darkblue",
          "width": 2
         },
         "mode": "lines",
         "type": "scatter3d",
         "x": [
          2.0486509799957275,
          2.1004042625427246
         ],
         "y": [
          14.375079154968262,
          15.26228141784668
         ],
         "z": [
          10.467572212219238,
          10.87511920928955
         ]
        },
        {
         "line": {
          "color": "darkblue",
          "width": 2
         },
         "mode": "lines",
         "type": "scatter3d",
         "x": [
          2.0486509799957275,
          1.8972294330596924
         ],
         "y": [
          14.375079154968262,
          13.92541790008545
         ],
         "z": [
          10.467572212219238,
          9.159065246582031
         ]
        },
        {
         "line": {
          "color": "darkblue",
          "width": 2
         },
         "mode": "lines",
         "type": "scatter3d",
         "x": [
          2.0486509799957275,
          1.4861594438552856
         ],
         "y": [
          14.375079154968262,
          15.706978797912598
         ],
         "z": [
          10.467572212219238,
          10.38404369354248
         ]
        },
        {
         "line": {
          "color": "darkblue",
          "width": 2
         },
         "mode": "lines",
         "type": "scatter3d",
         "x": [
          2.0486509799957275,
          1.9980069398880005
         ],
         "y": [
          14.375079154968262,
          14.1659517288208
         ],
         "z": [
          10.467572212219238,
          10.26030445098877
         ]
        },
        {
         "line": {
          "color": "darkblue",
          "width": 2
         },
         "mode": "lines",
         "type": "scatter3d",
         "x": [
          1.752691626548767,
          1.7694429159164429
         ],
         "y": [
          15.01150131225586,
          14.708856582641602
         ],
         "z": [
          10.927967071533203,
          10.88333797454834
         ]
        },
        {
         "line": {
          "color": "darkblue",
          "width": 2
         },
         "mode": "lines",
         "type": "scatter3d",
         "x": [
          1.752691626548767,
          2.1004042625427246
         ],
         "y": [
          15.01150131225586,
          15.26228141784668
         ],
         "z": [
          10.927967071533203,
          10.87511920928955
         ]
        },
        {
         "line": {
          "color": "darkblue",
          "width": 2
         },
         "mode": "lines",
         "type": "scatter3d",
         "x": [
          1.752691626548767,
          1.4604769945144653
         ],
         "y": [
          15.01150131225586,
          14.987598419189453
         ],
         "z": [
          10.927967071533203,
          10.925042152404785
         ]
        },
        {
         "line": {
          "color": "darkblue",
          "width": 2
         },
         "mode": "lines",
         "type": "scatter3d",
         "x": [
          1.752691626548767,
          1.536219835281372
         ],
         "y": [
          15.01150131225586,
          14.80673599243164
         ],
         "z": [
          10.927967071533203,
          10.635207176208496
         ]
        },
        {
         "line": {
          "color": "darkblue",
          "width": 2
         },
         "mode": "lines",
         "type": "scatter3d",
         "x": [
          1.7694429159164429,
          2.1004042625427246
         ],
         "y": [
          14.708856582641602,
          15.26228141784668
         ],
         "z": [
          10.88333797454834,
          10.87511920928955
         ]
        },
        {
         "line": {
          "color": "darkblue",
          "width": 2
         },
         "mode": "lines",
         "type": "scatter3d",
         "x": [
          1.7694429159164429,
          3.2817909717559814
         ],
         "y": [
          14.708856582641602,
          14.363313674926758
         ],
         "z": [
          10.88333797454834,
          7.329168796539307
         ]
        },
        {
         "line": {
          "color": "darkblue",
          "width": 2
         },
         "mode": "lines",
         "type": "scatter3d",
         "x": [
          1.7694429159164429,
          0.83653724193573
         ],
         "y": [
          14.708856582641602,
          15.021265029907227
         ],
         "z": [
          10.88333797454834,
          10.585272789001465
         ]
        },
        {
         "line": {
          "color": "darkblue",
          "width": 2
         },
         "mode": "lines",
         "type": "scatter3d",
         "x": [
          1.7694429159164429,
          1.9980069398880005
         ],
         "y": [
          14.708856582641602,
          14.1659517288208
         ],
         "z": [
          10.88333797454834,
          10.26030445098877
         ]
        },
        {
         "line": {
          "color": "darkblue",
          "width": 2
         },
         "mode": "lines",
         "type": "scatter3d",
         "x": [
          2.1004042625427246,
          1.2406237125396729
         ],
         "y": [
          15.26228141784668,
          14.909977912902832
         ],
         "z": [
          10.87511920928955,
          10.075891494750977
         ]
        },
        {
         "line": {
          "color": "darkblue",
          "width": 2
         },
         "mode": "lines",
         "type": "scatter3d",
         "x": [
          2.1004042625427246,
          1.8972294330596924
         ],
         "y": [
          15.26228141784668,
          13.92541790008545
         ],
         "z": [
          10.87511920928955,
          9.159065246582031
         ]
        },
        {
         "line": {
          "color": "darkblue",
          "width": 2
         },
         "mode": "lines",
         "type": "scatter3d",
         "x": [
          2.1004042625427246,
          2.2610743045806885
         ],
         "y": [
          15.26228141784668,
          15.686630249023438
         ],
         "z": [
          10.87511920928955,
          10.601831436157227
         ]
        },
        {
         "line": {
          "color": "darkblue",
          "width": 2
         },
         "mode": "lines",
         "type": "scatter3d",
         "x": [
          2.1004042625427246,
          1.536219835281372
         ],
         "y": [
          15.26228141784668,
          14.80673599243164
         ],
         "z": [
          10.87511920928955,
          10.635207176208496
         ]
        },
        {
         "line": {
          "color": "darkblue",
          "width": 2
         },
         "mode": "lines",
         "type": "scatter3d",
         "x": [
          3.2817909717559814,
          0.6706434488296509
         ],
         "y": [
          14.363313674926758,
          12.2752685546875
         ],
         "z": [
          7.329168796539307,
          10.846835136413574
         ]
        },
        {
         "line": {
          "color": "darkblue",
          "width": 2
         },
         "mode": "lines",
         "type": "scatter3d",
         "x": [
          3.2817909717559814,
          3.1412196159362793
         ],
         "y": [
          14.363313674926758,
          14.309174537658691
         ],
         "z": [
          7.329168796539307,
          7.647773265838623
         ]
        },
        {
         "line": {
          "color": "darkblue",
          "width": 2
         },
         "mode": "lines",
         "type": "scatter3d",
         "x": [
          3.2817909717559814,
          3.4595048427581787
         ],
         "y": [
          14.363313674926758,
          14.182782173156738
         ],
         "z": [
          7.329168796539307,
          7.364645004272461
         ]
        },
        {
         "line": {
          "color": "darkblue",
          "width": 2
         },
         "mode": "lines",
         "type": "scatter3d",
         "x": [
          3.2218446731567383,
          2.1815454959869385
         ],
         "y": [
          14.458250999450684,
          13.91817569732666
         ],
         "z": [
          9.305341720581055,
          8.897871971130371
         ]
        },
        {
         "line": {
          "color": "darkblue",
          "width": 2
         },
         "mode": "lines",
         "type": "scatter3d",
         "x": [
          3.2218446731567383,
          2.9608514308929443
         ],
         "y": [
          14.458250999450684,
          14.281628608703613
         ],
         "z": [
          9.305341720581055,
          9.235393524169922
         ]
        },
        {
         "line": {
          "color": "darkblue",
          "width": 2
         },
         "mode": "lines",
         "type": "scatter3d",
         "x": [
          3.2218446731567383,
          2.869910478591919
         ],
         "y": [
          14.458250999450684,
          14.401128768920898
         ],
         "z": [
          9.305341720581055,
          9.125597953796387
         ]
        },
        {
         "line": {
          "color": "darkblue",
          "width": 2
         },
         "mode": "lines",
         "type": "scatter3d",
         "x": [
          3.2218446731567383,
          3.1576480865478516
         ],
         "y": [
          14.458250999450684,
          14.298648834228516
         ],
         "z": [
          9.305341720581055,
          9.630070686340332
         ]
        },
        {
         "line": {
          "color": "darkblue",
          "width": 2
         },
         "mode": "lines",
         "type": "scatter3d",
         "x": [
          1.7296133041381836,
          1.2406237125396729
         ],
         "y": [
          14.651735305786133,
          14.909977912902832
         ],
         "z": [
          9.983197212219238,
          10.075891494750977
         ]
        },
        {
         "line": {
          "color": "darkblue",
          "width": 2
         },
         "mode": "lines",
         "type": "scatter3d",
         "x": [
          1.7296133041381836,
          1.1575459241867065
         ],
         "y": [
          14.651735305786133,
          14.620024681091309
         ],
         "z": [
          9.983197212219238,
          9.746574401855469
         ]
        },
        {
         "line": {
          "color": "darkblue",
          "width": 2
         },
         "mode": "lines",
         "type": "scatter3d",
         "x": [
          1.7296133041381836,
          2.5745773315429688
         ],
         "y": [
          14.651735305786133,
          15.429390907287598
         ],
         "z": [
          9.983197212219238,
          10.236186027526855
         ]
        },
        {
         "line": {
          "color": "darkblue",
          "width": 2
         },
         "mode": "lines",
         "type": "scatter3d",
         "x": [
          1.7296133041381836,
          1.4604769945144653
         ],
         "y": [
          14.651735305786133,
          14.987598419189453
         ],
         "z": [
          9.983197212219238,
          10.925042152404785
         ]
        },
        {
         "line": {
          "color": "darkblue",
          "width": 2
         },
         "mode": "lines",
         "type": "scatter3d",
         "x": [
          1.7296133041381836,
          1.9980069398880005
         ],
         "y": [
          14.651735305786133,
          14.1659517288208
         ],
         "z": [
          9.983197212219238,
          10.26030445098877
         ]
        },
        {
         "line": {
          "color": "darkblue",
          "width": 2
         },
         "mode": "lines",
         "type": "scatter3d",
         "x": [
          1.7296133041381836,
          1.536219835281372
         ],
         "y": [
          14.651735305786133,
          14.80673599243164
         ],
         "z": [
          9.983197212219238,
          10.635207176208496
         ]
        },
        {
         "line": {
          "color": "darkblue",
          "width": 2
         },
         "mode": "lines",
         "type": "scatter3d",
         "x": [
          0.750590443611145,
          0.6706434488296509
         ],
         "y": [
          12.31689739227295,
          12.2752685546875
         ],
         "z": [
          10.915008544921875,
          10.846835136413574
         ]
        },
        {
         "line": {
          "color": "darkblue",
          "width": 2
         },
         "mode": "lines",
         "type": "scatter3d",
         "x": [
          0.750590443611145,
          0.7441622614860535
         ],
         "y": [
          12.31689739227295,
          11.95843505859375
         ],
         "z": [
          10.915008544921875,
          11.020276069641113
         ]
        },
        {
         "line": {
          "color": "darkblue",
          "width": 2
         },
         "mode": "lines",
         "type": "scatter3d",
         "x": [
          0.750590443611145,
          1.580517053604126
         ],
         "y": [
          12.31689739227295,
          12.622427940368652
         ],
         "z": [
          10.915008544921875,
          10.880009651184082
         ]
        },
        {
         "line": {
          "color": "darkblue",
          "width": 2
         },
         "mode": "lines",
         "type": "scatter3d",
         "x": [
          2.04580020904541,
          1.8972294330596924
         ],
         "y": [
          14.3552827835083,
          13.92541790008545
         ],
         "z": [
          9.085914611816406,
          9.159065246582031
         ]
        },
        {
         "line": {
          "color": "darkblue",
          "width": 2
         },
         "mode": "lines",
         "type": "scatter3d",
         "x": [
          2.04580020904541,
          2.1815454959869385
         ],
         "y": [
          14.3552827835083,
          13.91817569732666
         ],
         "z": [
          9.085914611816406,
          8.897871971130371
         ]
        },
        {
         "line": {
          "color": "darkblue",
          "width": 2
         },
         "mode": "lines",
         "type": "scatter3d",
         "x": [
          2.5816049575805664,
          2.2610743045806885
         ],
         "y": [
          15.610261917114258,
          15.686630249023438
         ],
         "z": [
          10.264507293701172,
          10.601831436157227
         ]
        },
        {
         "line": {
          "color": "darkblue",
          "width": 2
         },
         "mode": "lines",
         "type": "scatter3d",
         "x": [
          2.5816049575805664,
          2.5745773315429688
         ],
         "y": [
          15.610261917114258,
          15.429390907287598
         ],
         "z": [
          10.264507293701172,
          10.236186027526855
         ]
        },
        {
         "line": {
          "color": "darkblue",
          "width": 2
         },
         "mode": "lines",
         "type": "scatter3d",
         "x": [
          1.391404628753662,
          1.580517053604126
         ],
         "y": [
          13.158199310302734,
          12.622427940368652
         ],
         "z": [
          10.475695610046387,
          10.880009651184082
         ]
        },
        {
         "line": {
          "color": "darkblue",
          "width": 2
         },
         "mode": "lines",
         "type": "scatter3d",
         "x": [
          1.391404628753662,
          1.600401520729065
         ],
         "y": [
          13.158199310302734,
          13.072490692138672
         ],
         "z": [
          10.475695610046387,
          10.691611289978027
         ]
        },
        {
         "line": {
          "color": "darkblue",
          "width": 2
         },
         "mode": "lines",
         "type": "scatter3d",
         "x": [
          1.2406237125396729,
          2.1163339614868164
         ],
         "y": [
          14.909977912902832,
          14.024059295654297
         ],
         "z": [
          10.075891494750977,
          9.309845924377441
         ]
        },
        {
         "line": {
          "color": "darkblue",
          "width": 2
         },
         "mode": "lines",
         "type": "scatter3d",
         "x": [
          1.2406237125396729,
          0.8652403950691223
         ],
         "y": [
          14.909977912902832,
          14.985915184020996
         ],
         "z": [
          10.075891494750977,
          10.573776245117188
         ]
        },
        {
         "line": {
          "color": "darkblue",
          "width": 2
         },
         "mode": "lines",
         "type": "scatter3d",
         "x": [
          0.6706434488296509,
          0.7441622614860535
         ],
         "y": [
          12.2752685546875,
          11.95843505859375
         ],
         "z": [
          10.846835136413574,
          11.020276069641113
         ]
        },
        {
         "line": {
          "color": "darkblue",
          "width": 2
         },
         "mode": "lines",
         "type": "scatter3d",
         "x": [
          0.6706434488296509,
          1.580517053604126
         ],
         "y": [
          12.2752685546875,
          12.622427940368652
         ],
         "z": [
          10.846835136413574,
          10.880009651184082
         ]
        },
        {
         "line": {
          "color": "darkblue",
          "width": 2
         },
         "mode": "lines",
         "type": "scatter3d",
         "x": [
          0.83653724193573,
          0.8652403950691223
         ],
         "y": [
          15.021265029907227,
          14.985915184020996
         ],
         "z": [
          10.585272789001465,
          10.573776245117188
         ]
        },
        {
         "line": {
          "color": "darkblue",
          "width": 2
         },
         "mode": "lines",
         "type": "scatter3d",
         "x": [
          0.83653724193573,
          1.4604769945144653
         ],
         "y": [
          15.021265029907227,
          14.987598419189453
         ],
         "z": [
          10.585272789001465,
          10.925042152404785
         ]
        },
        {
         "line": {
          "color": "darkblue",
          "width": 2
         },
         "mode": "lines",
         "type": "scatter3d",
         "x": [
          1.8972294330596924,
          1.1484562158584595
         ],
         "y": [
          13.92541790008545,
          14.375589370727539
         ],
         "z": [
          9.159065246582031,
          9.487199783325195
         ]
        },
        {
         "line": {
          "color": "darkblue",
          "width": 2
         },
         "mode": "lines",
         "type": "scatter3d",
         "x": [
          1.8972294330596924,
          2.1815454959869385
         ],
         "y": [
          13.92541790008545,
          13.91817569732666
         ],
         "z": [
          9.159065246582031,
          8.897871971130371
         ]
        },
        {
         "line": {
          "color": "darkblue",
          "width": 2
         },
         "mode": "lines",
         "type": "scatter3d",
         "x": [
          1.8972294330596924,
          2.1163339614868164
         ],
         "y": [
          13.92541790008545,
          14.024059295654297
         ],
         "z": [
          9.159065246582031,
          9.309845924377441
         ]
        },
        {
         "line": {
          "color": "darkblue",
          "width": 2
         },
         "mode": "lines",
         "type": "scatter3d",
         "x": [
          1.8972294330596924,
          2.9608514308929443
         ],
         "y": [
          13.92541790008545,
          14.281628608703613
         ],
         "z": [
          9.159065246582031,
          9.235393524169922
         ]
        },
        {
         "line": {
          "color": "darkblue",
          "width": 2
         },
         "mode": "lines",
         "type": "scatter3d",
         "x": [
          1.8972294330596924,
          1.1575459241867065
         ],
         "y": [
          13.92541790008545,
          14.620024681091309
         ],
         "z": [
          9.159065246582031,
          9.746574401855469
         ]
        },
        {
         "line": {
          "color": "darkblue",
          "width": 2
         },
         "mode": "lines",
         "type": "scatter3d",
         "x": [
          1.8972294330596924,
          1.580517053604126
         ],
         "y": [
          13.92541790008545,
          12.622427940368652
         ],
         "z": [
          9.159065246582031,
          10.880009651184082
         ]
        },
        {
         "line": {
          "color": "darkblue",
          "width": 2
         },
         "mode": "lines",
         "type": "scatter3d",
         "x": [
          1.8972294330596924,
          1.9980069398880005
         ],
         "y": [
          13.92541790008545,
          14.1659517288208
         ],
         "z": [
          9.159065246582031,
          10.26030445098877
         ]
        },
        {
         "line": {
          "color": "darkblue",
          "width": 2
         },
         "mode": "lines",
         "type": "scatter3d",
         "x": [
          3.560526132583618,
          3.284990072250366
         ],
         "y": [
          12.93753433227539,
          12.687891960144043
         ],
         "z": [
          7.393656253814697,
          7.684580326080322
         ]
        },
        {
         "line": {
          "color": "darkblue",
          "width": 2
         },
         "mode": "lines",
         "type": "scatter3d",
         "x": [
          3.560526132583618,
          3.2785825729370117
         ],
         "y": [
          12.93753433227539,
          13.065966606140137
         ],
         "z": [
          7.393656253814697,
          7.413838863372803
         ]
        },
        {
         "line": {
          "color": "darkblue",
          "width": 2
         },
         "mode": "lines",
         "type": "scatter3d",
         "x": [
          3.560526132583618,
          3.4412527084350586
         ],
         "y": [
          12.93753433227539,
          12.873708724975586
         ],
         "z": [
          7.393656253814697,
          7.258820533752441
         ]
        },
        {
         "line": {
          "color": "darkblue",
          "width": 2
         },
         "mode": "lines",
         "type": "scatter3d",
         "x": [
          3.1412196159362793,
          2.1815454959869385
         ],
         "y": [
          14.309174537658691,
          13.91817569732666
         ],
         "z": [
          7.647773265838623,
          8.897871971130371
         ]
        },
        {
         "line": {
          "color": "darkblue",
          "width": 2
         },
         "mode": "lines",
         "type": "scatter3d",
         "x": [
          3.1412196159362793,
          1.1328643560409546
         ],
         "y": [
          14.309174537658691,
          12.78331184387207
         ],
         "z": [
          7.647773265838623,
          9.760340690612793
         ]
        },
        {
         "line": {
          "color": "darkblue",
          "width": 2
         },
         "mode": "lines",
         "type": "scatter3d",
         "x": [
          3.1412196159362793,
          3.098602056503296
         ],
         "y": [
          14.309174537658691,
          13.979121208190918
         ],
         "z": [
          7.647773265838623,
          7.466039657592773
         ]
        },
        {
         "line": {
          "color": "darkblue",
          "width": 2
         },
         "mode": "lines",
         "type": "scatter3d",
         "x": [
          3.1412196159362793,
          3.2785825729370117
         ],
         "y": [
          14.309174537658691,
          13.065966606140137
         ],
         "z": [
          7.647773265838623,
          7.413838863372803
         ]
        },
        {
         "line": {
          "color": "darkblue",
          "width": 2
         },
         "mode": "lines",
         "type": "scatter3d",
         "x": [
          3.1412196159362793,
          3.308570623397827
         ],
         "y": [
          14.309174537658691,
          14.269639015197754
         ],
         "z": [
          7.647773265838623,
          7.500818252563477
         ]
        },
        {
         "line": {
          "color": "darkblue",
          "width": 2
         },
         "mode": "lines",
         "type": "scatter3d",
         "x": [
          3.1412196159362793,
          2.5745773315429688
         ],
         "y": [
          14.309174537658691,
          15.429390907287598
         ],
         "z": [
          7.647773265838623,
          10.236186027526855
         ]
        },
        {
         "line": {
          "color": "darkblue",
          "width": 2
         },
         "mode": "lines",
         "type": "scatter3d",
         "x": [
          1.1484562158584595,
          1.1328643560409546
         ],
         "y": [
          14.375589370727539,
          12.78331184387207
         ],
         "z": [
          9.487199783325195,
          9.760340690612793
         ]
        },
        {
         "line": {
          "color": "darkblue",
          "width": 2
         },
         "mode": "lines",
         "type": "scatter3d",
         "x": [
          1.1484562158584595,
          1.1575459241867065
         ],
         "y": [
          14.375589370727539,
          14.620024681091309
         ],
         "z": [
          9.487199783325195,
          9.746574401855469
         ]
        },
        {
         "line": {
          "color": "darkblue",
          "width": 2
         },
         "mode": "lines",
         "type": "scatter3d",
         "x": [
          1.1484562158584595,
          1.3448426723480225
         ],
         "y": [
          14.375589370727539,
          15.353025436401367
         ],
         "z": [
          9.487199783325195,
          10.038677215576172
         ]
        },
        {
         "line": {
          "color": "darkblue",
          "width": 2
         },
         "mode": "lines",
         "type": "scatter3d",
         "x": [
          1.1484562158584595,
          1.580517053604126
         ],
         "y": [
          14.375589370727539,
          12.622427940368652
         ],
         "z": [
          9.487199783325195,
          10.880009651184082
         ]
        },
        {
         "line": {
          "color": "darkblue",
          "width": 2
         },
         "mode": "lines",
         "type": "scatter3d",
         "x": [
          3.284990072250366,
          3.2785825729370117
         ],
         "y": [
          12.687891960144043,
          13.065966606140137
         ],
         "z": [
          7.684580326080322,
          7.413838863372803
         ]
        },
        {
         "line": {
          "color": "darkblue",
          "width": 2
         },
         "mode": "lines",
         "type": "scatter3d",
         "x": [
          2.1815454959869385,
          2.1163339614868164
         ],
         "y": [
          13.91817569732666,
          14.024059295654297
         ],
         "z": [
          8.897871971130371,
          9.309845924377441
         ]
        },
        {
         "line": {
          "color": "darkblue",
          "width": 2
         },
         "mode": "lines",
         "type": "scatter3d",
         "x": [
          2.1815454959869385,
          2.9608514308929443
         ],
         "y": [
          13.91817569732666,
          14.281628608703613
         ],
         "z": [
          8.897871971130371,
          9.235393524169922
         ]
        },
        {
         "line": {
          "color": "darkblue",
          "width": 2
         },
         "mode": "lines",
         "type": "scatter3d",
         "x": [
          2.1815454959869385,
          1.3448426723480225
         ],
         "y": [
          13.91817569732666,
          15.353025436401367
         ],
         "z": [
          8.897871971130371,
          10.038677215576172
         ]
        },
        {
         "line": {
          "color": "darkblue",
          "width": 2
         },
         "mode": "lines",
         "type": "scatter3d",
         "x": [
          2.1815454959869385,
          2.3348073959350586
         ],
         "y": [
          13.91817569732666,
          13.125040054321289
         ],
         "z": [
          8.897871971130371,
          9.01409912109375
         ]
        },
        {
         "line": {
          "color": "darkblue",
          "width": 2
         },
         "mode": "lines",
         "type": "scatter3d",
         "x": [
          0.7441622614860535,
          0.752468466758728
         ],
         "y": [
          11.95843505859375,
          11.897732734680176
         ],
         "z": [
          11.020276069641113,
          11.086283683776855
         ]
        },
        {
         "line": {
          "color": "darkblue",
          "width": 2
         },
         "mode": "lines",
         "type": "scatter3d",
         "x": [
          2.1163339614868164,
          2.869910478591919
         ],
         "y": [
          14.024059295654297,
          14.401128768920898
         ],
         "z": [
          9.309845924377441,
          9.125597953796387
         ]
        },
        {
         "line": {
          "color": "darkblue",
          "width": 2
         },
         "mode": "lines",
         "type": "scatter3d",
         "x": [
          3.098602056503296,
          3.2785825729370117
         ],
         "y": [
          13.979121208190918,
          13.065966606140137
         ],
         "z": [
          7.466039657592773,
          7.413838863372803
         ]
        },
        {
         "line": {
          "color": "darkblue",
          "width": 2
         },
         "mode": "lines",
         "type": "scatter3d",
         "x": [
          3.098602056503296,
          3.308570623397827
         ],
         "y": [
          13.979121208190918,
          14.269639015197754
         ],
         "z": [
          7.466039657592773,
          7.500818252563477
         ]
        },
        {
         "line": {
          "color": "darkblue",
          "width": 2
         },
         "mode": "lines",
         "type": "scatter3d",
         "x": [
          2.9608514308929443,
          2.869910478591919
         ],
         "y": [
          14.281628608703613,
          14.401128768920898
         ],
         "z": [
          9.235393524169922,
          9.125597953796387
         ]
        },
        {
         "line": {
          "color": "darkblue",
          "width": 2
         },
         "mode": "lines",
         "type": "scatter3d",
         "x": [
          2.9608514308929443,
          1.3448426723480225
         ],
         "y": [
          14.281628608703613,
          15.353025436401367
         ],
         "z": [
          9.235393524169922,
          10.038677215576172
         ]
        },
        {
         "line": {
          "color": "darkblue",
          "width": 2
         },
         "mode": "lines",
         "type": "scatter3d",
         "x": [
          2.869910478591919,
          3.2785825729370117
         ],
         "y": [
          14.401128768920898,
          13.065966606140137
         ],
         "z": [
          9.125597953796387,
          7.413838863372803
         ]
        },
        {
         "line": {
          "color": "darkblue",
          "width": 2
         },
         "mode": "lines",
         "type": "scatter3d",
         "x": [
          2.869910478591919,
          3.127955198287964
         ],
         "y": [
          14.401128768920898,
          14.482268333435059
         ],
         "z": [
          9.125597953796387,
          9.023755073547363
         ]
        },
        {
         "line": {
          "color": "darkblue",
          "width": 2
         },
         "mode": "lines",
         "type": "scatter3d",
         "x": [
          3.2785825729370117,
          3.308570623397827
         ],
         "y": [
          13.065966606140137,
          14.269639015197754
         ],
         "z": [
          7.413838863372803,
          7.500818252563477
         ]
        },
        {
         "line": {
          "color": "darkblue",
          "width": 2
         },
         "mode": "lines",
         "type": "scatter3d",
         "x": [
          3.2785825729370117,
          3.4412527084350586
         ],
         "y": [
          13.065966606140137,
          12.873708724975586
         ],
         "z": [
          7.413838863372803,
          7.258820533752441
         ]
        },
        {
         "line": {
          "color": "darkblue",
          "width": 2
         },
         "mode": "lines",
         "type": "scatter3d",
         "x": [
          1.1575459241867065,
          1.3448426723480225
         ],
         "y": [
          14.620024681091309,
          15.353025436401367
         ],
         "z": [
          9.746574401855469,
          10.038677215576172
         ]
        },
        {
         "line": {
          "color": "darkblue",
          "width": 2
         },
         "mode": "lines",
         "type": "scatter3d",
         "x": [
          1.1575459241867065,
          1.580517053604126
         ],
         "y": [
          14.620024681091309,
          12.622427940368652
         ],
         "z": [
          9.746574401855469,
          10.880009651184082
         ]
        },
        {
         "line": {
          "color": "darkblue",
          "width": 2
         },
         "mode": "lines",
         "type": "scatter3d",
         "x": [
          1.1575459241867065,
          1.4037528038024902
         ],
         "y": [
          14.620024681091309,
          12.924607276916504
         ],
         "z": [
          9.746574401855469,
          10.891608238220215
         ]
        },
        {
         "line": {
          "color": "darkblue",
          "width": 2
         },
         "mode": "lines",
         "type": "scatter3d",
         "x": [
          1.1575459241867065,
          1.4861594438552856
         ],
         "y": [
          14.620024681091309,
          15.706978797912598
         ],
         "z": [
          9.746574401855469,
          10.38404369354248
         ]
        },
        {
         "line": {
          "color": "darkblue",
          "width": 2
         },
         "mode": "lines",
         "type": "scatter3d",
         "x": [
          1.1575459241867065,
          1.4604769945144653
         ],
         "y": [
          14.620024681091309,
          14.987598419189453
         ],
         "z": [
          9.746574401855469,
          10.925042152404785
         ]
        },
        {
         "line": {
          "color": "darkblue",
          "width": 2
         },
         "mode": "lines",
         "type": "scatter3d",
         "x": [
          1.1575459241867065,
          1.536219835281372
         ],
         "y": [
          14.620024681091309,
          14.80673599243164
         ],
         "z": [
          9.746574401855469,
          10.635207176208496
         ]
        },
        {
         "line": {
          "color": "darkblue",
          "width": 2
         },
         "mode": "lines",
         "type": "scatter3d",
         "x": [
          3.308570623397827,
          1.580517053604126
         ],
         "y": [
          14.269639015197754,
          12.622427940368652
         ],
         "z": [
          7.500818252563477,
          10.880009651184082
         ]
        },
        {
         "line": {
          "color": "darkblue",
          "width": 2
         },
         "mode": "lines",
         "type": "scatter3d",
         "x": [
          3.308570623397827,
          3.4595048427581787
         ],
         "y": [
          14.269639015197754,
          14.182782173156738
         ],
         "z": [
          7.500818252563477,
          7.364645004272461
         ]
        },
        {
         "line": {
          "color": "darkblue",
          "width": 2
         },
         "mode": "lines",
         "type": "scatter3d",
         "x": [
          1.3448426723480225,
          1.536219835281372
         ],
         "y": [
          15.353025436401367,
          14.80673599243164
         ],
         "z": [
          10.038677215576172,
          10.635207176208496
         ]
        },
        {
         "line": {
          "color": "darkblue",
          "width": 2
         },
         "mode": "lines",
         "type": "scatter3d",
         "x": [
          1.580517053604126,
          1.4037528038024902
         ],
         "y": [
          12.622427940368652,
          12.924607276916504
         ],
         "z": [
          10.880009651184082,
          10.891608238220215
         ]
        },
        {
         "line": {
          "color": "darkblue",
          "width": 2
         },
         "mode": "lines",
         "type": "scatter3d",
         "x": [
          1.580517053604126,
          0.752468466758728
         ],
         "y": [
          12.622427940368652,
          11.897732734680176
         ],
         "z": [
          10.880009651184082,
          11.086283683776855
         ]
        },
        {
         "line": {
          "color": "darkblue",
          "width": 2
         },
         "mode": "lines",
         "type": "scatter3d",
         "x": [
          1.580517053604126,
          1.600401520729065
         ],
         "y": [
          12.622427940368652,
          13.072490692138672
         ],
         "z": [
          10.880009651184082,
          10.691611289978027
         ]
        },
        {
         "line": {
          "color": "darkblue",
          "width": 2
         },
         "mode": "lines",
         "type": "scatter3d",
         "x": [
          1.580517053604126,
          1.9980069398880005
         ],
         "y": [
          12.622427940368652,
          14.1659517288208
         ],
         "z": [
          10.880009651184082,
          10.26030445098877
         ]
        },
        {
         "line": {
          "color": "darkblue",
          "width": 2
         },
         "mode": "lines",
         "type": "scatter3d",
         "x": [
          1.4037528038024902,
          1.600401520729065
         ],
         "y": [
          12.924607276916504,
          13.072490692138672
         ],
         "z": [
          10.891608238220215,
          10.691611289978027
         ]
        },
        {
         "line": {
          "color": "darkblue",
          "width": 2
         },
         "mode": "lines",
         "type": "scatter3d",
         "x": [
          0.8652403950691223,
          1.4604769945144653
         ],
         "y": [
          14.985915184020996,
          14.987598419189453
         ],
         "z": [
          10.573776245117188,
          10.925042152404785
         ]
        },
        {
         "line": {
          "color": "darkblue",
          "width": 2
         },
         "mode": "lines",
         "type": "scatter3d",
         "x": [
          0.8652403950691223,
          1.536219835281372
         ],
         "y": [
          14.985915184020996,
          14.80673599243164
         ],
         "z": [
          10.573776245117188,
          10.635207176208496
         ]
        },
        {
         "line": {
          "color": "darkblue",
          "width": 2
         },
         "mode": "lines",
         "type": "scatter3d",
         "x": [
          2.5745773315429688,
          1.4604769945144653
         ],
         "y": [
          15.429390907287598,
          14.987598419189453
         ],
         "z": [
          10.236186027526855,
          10.925042152404785
         ]
        },
        {
         "line": {
          "color": "darkblue",
          "width": 2
         },
         "mode": "lines",
         "type": "scatter3d",
         "x": [
          3.1576480865478516,
          1.9980069398880005
         ],
         "y": [
          14.298648834228516,
          14.1659517288208
         ],
         "z": [
          9.630070686340332,
          10.26030445098877
         ]
        },
        {
         "line": {
          "color": "darkblue",
          "width": 2
         },
         "mode": "lines",
         "type": "scatter3d",
         "x": [
          1.4604769945144653,
          1.536219835281372
         ],
         "y": [
          14.987598419189453,
          14.80673599243164
         ],
         "z": [
          10.925042152404785,
          10.635207176208496
         ]
        },
        {
         "line": {
          "color": "darkblue",
          "width": 2
         },
         "mode": "lines",
         "type": "scatter3d",
         "x": [
          3.330174446105957,
          3.2385873794555664
         ],
         "y": [
          12.317513465881348,
          12.082351684570312
         ],
         "z": [
          9.257997512817383,
          9.36305046081543
         ]
        },
        {
         "line": {
          "color": "darkblue",
          "width": 2
         },
         "mode": "lines",
         "type": "scatter3d",
         "x": [
          3.330174446105957,
          2.891826629638672
         ],
         "y": [
          12.317513465881348,
          12.129261016845703
         ],
         "z": [
          9.257997512817383,
          9.073885917663574
         ]
        },
        {
         "line": {
          "color": "darkblue",
          "width": 2
         },
         "mode": "lines",
         "type": "scatter3d",
         "x": [
          3.330174446105957,
          2.914724349975586
         ],
         "y": [
          12.317513465881348,
          12.169095993041992
         ],
         "z": [
          9.257997512817383,
          9.151252746582031
         ]
        },
        {
         "line": {
          "color": "darkblue",
          "width": 2
         },
         "mode": "lines",
         "type": "scatter3d",
         "x": [
          3.2385873794555664,
          2.914724349975586
         ],
         "y": [
          12.082351684570312,
          12.169095993041992
         ],
         "z": [
          9.36305046081543,
          9.151252746582031
         ]
        },
        {
         "line": {
          "color": "darkblue",
          "width": 2
         },
         "mode": "lines",
         "type": "scatter3d",
         "x": [
          3.2385873794555664,
          3.1037936210632324
         ],
         "y": [
          12.082351684570312,
          12.429634094238281
         ],
         "z": [
          9.36305046081543,
          9.06125259399414
         ]
        },
        {
         "line": {
          "color": "darkblue",
          "width": 2
         },
         "mode": "lines",
         "type": "scatter3d",
         "x": [
          1.5069490671157837,
          1.6260331869125366
         ],
         "y": [
          12.373335838317871,
          12.464176177978516
         ],
         "z": [
          9.525932312011719,
          9.422696113586426
         ]
        },
        {
         "line": {
          "color": "darkblue",
          "width": 2
         },
         "mode": "lines",
         "type": "scatter3d",
         "x": [
          2.499858856201172,
          2.891826629638672
         ],
         "y": [
          12.259513854980469,
          12.129261016845703
         ],
         "z": [
          8.937601089477539,
          9.073885917663574
         ]
        },
        {
         "line": {
          "color": "darkblue",
          "width": 2
         },
         "mode": "lines",
         "type": "scatter3d",
         "x": [
          2.891826629638672,
          2.914724349975586
         ],
         "y": [
          12.129261016845703,
          12.169095993041992
         ],
         "z": [
          9.073885917663574,
          9.151252746582031
         ]
        },
        {
         "line": {
          "color": "darkblue",
          "width": 2
         },
         "mode": "lines",
         "type": "scatter3d",
         "x": [
          2.891826629638672,
          3.1037936210632324
         ],
         "y": [
          12.129261016845703,
          12.429634094238281
         ],
         "z": [
          9.073885917663574,
          9.06125259399414
         ]
        },
        {
         "line": {
          "color": "darkblue",
          "width": 2
         },
         "mode": "lines",
         "type": "scatter3d",
         "x": [
          2.891826629638672,
          2.9615280628204346
         ],
         "y": [
          12.129261016845703,
          12.286641120910645
         ],
         "z": [
          9.073885917663574,
          9.188112258911133
         ]
        },
        {
         "line": {
          "color": "darkblue",
          "width": 2
         },
         "mode": "lines",
         "type": "scatter3d",
         "x": [
          2.914724349975586,
          3.1037936210632324
         ],
         "y": [
          12.169095993041992,
          12.429634094238281
         ],
         "z": [
          9.151252746582031,
          9.06125259399414
         ]
        },
        {
         "line": {
          "color": "darkblue",
          "width": 2
         },
         "mode": "lines",
         "type": "scatter3d",
         "x": [
          3.1037936210632324,
          2.9615280628204346
         ],
         "y": [
          12.429634094238281,
          12.286641120910645
         ],
         "z": [
          9.06125259399414,
          9.188112258911133
         ]
        },
        {
         "line": {
          "color": "darkblue",
          "width": 2
         },
         "mode": "lines",
         "type": "scatter3d",
         "x": [
          1.6260331869125366,
          1.7750102281570435
         ],
         "y": [
          12.464176177978516,
          12.422839164733887
         ],
         "z": [
          9.422696113586426,
          9.403707504272461
         ]
        }
       ],
       "layout": {
        "margin": {
         "b": 10,
         "l": 10,
         "r": 20,
         "t": 10
        },
        "scene": {
         "xaxis": {
          "title": {
           "text": "X AXIS"
          }
         },
         "yaxis": {
          "title": {
           "text": "Y AXIS"
          }
         },
         "zaxis": {
          "title": {
           "text": "Z AXIS"
          }
         }
        },
        "template": {
         "data": {
          "bar": [
           {
            "error_x": {
             "color": "#2a3f5f"
            },
            "error_y": {
             "color": "#2a3f5f"
            },
            "marker": {
             "line": {
              "color": "#E5ECF6",
              "width": 0.5
             },
             "pattern": {
              "fillmode": "overlay",
              "size": 10,
              "solidity": 0.2
             }
            },
            "type": "bar"
           }
          ],
          "barpolar": [
           {
            "marker": {
             "line": {
              "color": "#E5ECF6",
              "width": 0.5
             },
             "pattern": {
              "fillmode": "overlay",
              "size": 10,
              "solidity": 0.2
             }
            },
            "type": "barpolar"
           }
          ],
          "carpet": [
           {
            "aaxis": {
             "endlinecolor": "#2a3f5f",
             "gridcolor": "white",
             "linecolor": "white",
             "minorgridcolor": "white",
             "startlinecolor": "#2a3f5f"
            },
            "baxis": {
             "endlinecolor": "#2a3f5f",
             "gridcolor": "white",
             "linecolor": "white",
             "minorgridcolor": "white",
             "startlinecolor": "#2a3f5f"
            },
            "type": "carpet"
           }
          ],
          "choropleth": [
           {
            "colorbar": {
             "outlinewidth": 0,
             "ticks": ""
            },
            "type": "choropleth"
           }
          ],
          "contour": [
           {
            "colorbar": {
             "outlinewidth": 0,
             "ticks": ""
            },
            "colorscale": [
             [
              0,
              "#0d0887"
             ],
             [
              0.1111111111111111,
              "#46039f"
             ],
             [
              0.2222222222222222,
              "#7201a8"
             ],
             [
              0.3333333333333333,
              "#9c179e"
             ],
             [
              0.4444444444444444,
              "#bd3786"
             ],
             [
              0.5555555555555556,
              "#d8576b"
             ],
             [
              0.6666666666666666,
              "#ed7953"
             ],
             [
              0.7777777777777778,
              "#fb9f3a"
             ],
             [
              0.8888888888888888,
              "#fdca26"
             ],
             [
              1,
              "#f0f921"
             ]
            ],
            "type": "contour"
           }
          ],
          "contourcarpet": [
           {
            "colorbar": {
             "outlinewidth": 0,
             "ticks": ""
            },
            "type": "contourcarpet"
           }
          ],
          "heatmap": [
           {
            "colorbar": {
             "outlinewidth": 0,
             "ticks": ""
            },
            "colorscale": [
             [
              0,
              "#0d0887"
             ],
             [
              0.1111111111111111,
              "#46039f"
             ],
             [
              0.2222222222222222,
              "#7201a8"
             ],
             [
              0.3333333333333333,
              "#9c179e"
             ],
             [
              0.4444444444444444,
              "#bd3786"
             ],
             [
              0.5555555555555556,
              "#d8576b"
             ],
             [
              0.6666666666666666,
              "#ed7953"
             ],
             [
              0.7777777777777778,
              "#fb9f3a"
             ],
             [
              0.8888888888888888,
              "#fdca26"
             ],
             [
              1,
              "#f0f921"
             ]
            ],
            "type": "heatmap"
           }
          ],
          "heatmapgl": [
           {
            "colorbar": {
             "outlinewidth": 0,
             "ticks": ""
            },
            "colorscale": [
             [
              0,
              "#0d0887"
             ],
             [
              0.1111111111111111,
              "#46039f"
             ],
             [
              0.2222222222222222,
              "#7201a8"
             ],
             [
              0.3333333333333333,
              "#9c179e"
             ],
             [
              0.4444444444444444,
              "#bd3786"
             ],
             [
              0.5555555555555556,
              "#d8576b"
             ],
             [
              0.6666666666666666,
              "#ed7953"
             ],
             [
              0.7777777777777778,
              "#fb9f3a"
             ],
             [
              0.8888888888888888,
              "#fdca26"
             ],
             [
              1,
              "#f0f921"
             ]
            ],
            "type": "heatmapgl"
           }
          ],
          "histogram": [
           {
            "marker": {
             "pattern": {
              "fillmode": "overlay",
              "size": 10,
              "solidity": 0.2
             }
            },
            "type": "histogram"
           }
          ],
          "histogram2d": [
           {
            "colorbar": {
             "outlinewidth": 0,
             "ticks": ""
            },
            "colorscale": [
             [
              0,
              "#0d0887"
             ],
             [
              0.1111111111111111,
              "#46039f"
             ],
             [
              0.2222222222222222,
              "#7201a8"
             ],
             [
              0.3333333333333333,
              "#9c179e"
             ],
             [
              0.4444444444444444,
              "#bd3786"
             ],
             [
              0.5555555555555556,
              "#d8576b"
             ],
             [
              0.6666666666666666,
              "#ed7953"
             ],
             [
              0.7777777777777778,
              "#fb9f3a"
             ],
             [
              0.8888888888888888,
              "#fdca26"
             ],
             [
              1,
              "#f0f921"
             ]
            ],
            "type": "histogram2d"
           }
          ],
          "histogram2dcontour": [
           {
            "colorbar": {
             "outlinewidth": 0,
             "ticks": ""
            },
            "colorscale": [
             [
              0,
              "#0d0887"
             ],
             [
              0.1111111111111111,
              "#46039f"
             ],
             [
              0.2222222222222222,
              "#7201a8"
             ],
             [
              0.3333333333333333,
              "#9c179e"
             ],
             [
              0.4444444444444444,
              "#bd3786"
             ],
             [
              0.5555555555555556,
              "#d8576b"
             ],
             [
              0.6666666666666666,
              "#ed7953"
             ],
             [
              0.7777777777777778,
              "#fb9f3a"
             ],
             [
              0.8888888888888888,
              "#fdca26"
             ],
             [
              1,
              "#f0f921"
             ]
            ],
            "type": "histogram2dcontour"
           }
          ],
          "mesh3d": [
           {
            "colorbar": {
             "outlinewidth": 0,
             "ticks": ""
            },
            "type": "mesh3d"
           }
          ],
          "parcoords": [
           {
            "line": {
             "colorbar": {
              "outlinewidth": 0,
              "ticks": ""
             }
            },
            "type": "parcoords"
           }
          ],
          "pie": [
           {
            "automargin": true,
            "type": "pie"
           }
          ],
          "scatter": [
           {
            "fillpattern": {
             "fillmode": "overlay",
             "size": 10,
             "solidity": 0.2
            },
            "type": "scatter"
           }
          ],
          "scatter3d": [
           {
            "line": {
             "colorbar": {
              "outlinewidth": 0,
              "ticks": ""
             }
            },
            "marker": {
             "colorbar": {
              "outlinewidth": 0,
              "ticks": ""
             }
            },
            "type": "scatter3d"
           }
          ],
          "scattercarpet": [
           {
            "marker": {
             "colorbar": {
              "outlinewidth": 0,
              "ticks": ""
             }
            },
            "type": "scattercarpet"
           }
          ],
          "scattergeo": [
           {
            "marker": {
             "colorbar": {
              "outlinewidth": 0,
              "ticks": ""
             }
            },
            "type": "scattergeo"
           }
          ],
          "scattergl": [
           {
            "marker": {
             "colorbar": {
              "outlinewidth": 0,
              "ticks": ""
             }
            },
            "type": "scattergl"
           }
          ],
          "scattermapbox": [
           {
            "marker": {
             "colorbar": {
              "outlinewidth": 0,
              "ticks": ""
             }
            },
            "type": "scattermapbox"
           }
          ],
          "scatterpolar": [
           {
            "marker": {
             "colorbar": {
              "outlinewidth": 0,
              "ticks": ""
             }
            },
            "type": "scatterpolar"
           }
          ],
          "scatterpolargl": [
           {
            "marker": {
             "colorbar": {
              "outlinewidth": 0,
              "ticks": ""
             }
            },
            "type": "scatterpolargl"
           }
          ],
          "scatterternary": [
           {
            "marker": {
             "colorbar": {
              "outlinewidth": 0,
              "ticks": ""
             }
            },
            "type": "scatterternary"
           }
          ],
          "surface": [
           {
            "colorbar": {
             "outlinewidth": 0,
             "ticks": ""
            },
            "colorscale": [
             [
              0,
              "#0d0887"
             ],
             [
              0.1111111111111111,
              "#46039f"
             ],
             [
              0.2222222222222222,
              "#7201a8"
             ],
             [
              0.3333333333333333,
              "#9c179e"
             ],
             [
              0.4444444444444444,
              "#bd3786"
             ],
             [
              0.5555555555555556,
              "#d8576b"
             ],
             [
              0.6666666666666666,
              "#ed7953"
             ],
             [
              0.7777777777777778,
              "#fb9f3a"
             ],
             [
              0.8888888888888888,
              "#fdca26"
             ],
             [
              1,
              "#f0f921"
             ]
            ],
            "type": "surface"
           }
          ],
          "table": [
           {
            "cells": {
             "fill": {
              "color": "#EBF0F8"
             },
             "line": {
              "color": "white"
             }
            },
            "header": {
             "fill": {
              "color": "#C8D4E3"
             },
             "line": {
              "color": "white"
             }
            },
            "type": "table"
           }
          ]
         },
         "layout": {
          "annotationdefaults": {
           "arrowcolor": "#2a3f5f",
           "arrowhead": 0,
           "arrowwidth": 1
          },
          "autotypenumbers": "strict",
          "coloraxis": {
           "colorbar": {
            "outlinewidth": 0,
            "ticks": ""
           }
          },
          "colorscale": {
           "diverging": [
            [
             0,
             "#8e0152"
            ],
            [
             0.1,
             "#c51b7d"
            ],
            [
             0.2,
             "#de77ae"
            ],
            [
             0.3,
             "#f1b6da"
            ],
            [
             0.4,
             "#fde0ef"
            ],
            [
             0.5,
             "#f7f7f7"
            ],
            [
             0.6,
             "#e6f5d0"
            ],
            [
             0.7,
             "#b8e186"
            ],
            [
             0.8,
             "#7fbc41"
            ],
            [
             0.9,
             "#4d9221"
            ],
            [
             1,
             "#276419"
            ]
           ],
           "sequential": [
            [
             0,
             "#0d0887"
            ],
            [
             0.1111111111111111,
             "#46039f"
            ],
            [
             0.2222222222222222,
             "#7201a8"
            ],
            [
             0.3333333333333333,
             "#9c179e"
            ],
            [
             0.4444444444444444,
             "#bd3786"
            ],
            [
             0.5555555555555556,
             "#d8576b"
            ],
            [
             0.6666666666666666,
             "#ed7953"
            ],
            [
             0.7777777777777778,
             "#fb9f3a"
            ],
            [
             0.8888888888888888,
             "#fdca26"
            ],
            [
             1,
             "#f0f921"
            ]
           ],
           "sequentialminus": [
            [
             0,
             "#0d0887"
            ],
            [
             0.1111111111111111,
             "#46039f"
            ],
            [
             0.2222222222222222,
             "#7201a8"
            ],
            [
             0.3333333333333333,
             "#9c179e"
            ],
            [
             0.4444444444444444,
             "#bd3786"
            ],
            [
             0.5555555555555556,
             "#d8576b"
            ],
            [
             0.6666666666666666,
             "#ed7953"
            ],
            [
             0.7777777777777778,
             "#fb9f3a"
            ],
            [
             0.8888888888888888,
             "#fdca26"
            ],
            [
             1,
             "#f0f921"
            ]
           ]
          },
          "colorway": [
           "#636efa",
           "#EF553B",
           "#00cc96",
           "#ab63fa",
           "#FFA15A",
           "#19d3f3",
           "#FF6692",
           "#B6E880",
           "#FF97FF",
           "#FECB52"
          ],
          "font": {
           "color": "#2a3f5f"
          },
          "geo": {
           "bgcolor": "white",
           "lakecolor": "white",
           "landcolor": "#E5ECF6",
           "showlakes": true,
           "showland": true,
           "subunitcolor": "white"
          },
          "hoverlabel": {
           "align": "left"
          },
          "hovermode": "closest",
          "mapbox": {
           "style": "light"
          },
          "paper_bgcolor": "white",
          "plot_bgcolor": "#E5ECF6",
          "polar": {
           "angularaxis": {
            "gridcolor": "white",
            "linecolor": "white",
            "ticks": ""
           },
           "bgcolor": "#E5ECF6",
           "radialaxis": {
            "gridcolor": "white",
            "linecolor": "white",
            "ticks": ""
           }
          },
          "scene": {
           "xaxis": {
            "backgroundcolor": "#E5ECF6",
            "gridcolor": "white",
            "gridwidth": 2,
            "linecolor": "white",
            "showbackground": true,
            "ticks": "",
            "zerolinecolor": "white"
           },
           "yaxis": {
            "backgroundcolor": "#E5ECF6",
            "gridcolor": "white",
            "gridwidth": 2,
            "linecolor": "white",
            "showbackground": true,
            "ticks": "",
            "zerolinecolor": "white"
           },
           "zaxis": {
            "backgroundcolor": "#E5ECF6",
            "gridcolor": "white",
            "gridwidth": 2,
            "linecolor": "white",
            "showbackground": true,
            "ticks": "",
            "zerolinecolor": "white"
           }
          },
          "shapedefaults": {
           "line": {
            "color": "#2a3f5f"
           }
          },
          "ternary": {
           "aaxis": {
            "gridcolor": "white",
            "linecolor": "white",
            "ticks": ""
           },
           "baxis": {
            "gridcolor": "white",
            "linecolor": "white",
            "ticks": ""
           },
           "bgcolor": "#E5ECF6",
           "caxis": {
            "gridcolor": "white",
            "linecolor": "white",
            "ticks": ""
           }
          },
          "title": {
           "x": 0.05
          },
          "xaxis": {
           "automargin": true,
           "gridcolor": "white",
           "linecolor": "white",
           "ticks": "",
           "title": {
            "standoff": 15
           },
           "zerolinecolor": "white",
           "zerolinewidth": 2
          },
          "yaxis": {
           "automargin": true,
           "gridcolor": "white",
           "linecolor": "white",
           "ticks": "",
           "title": {
            "standoff": 15
           },
           "zerolinecolor": "white",
           "zerolinewidth": 2
          }
         }
        },
        "width": 700
       }
      }
     },
     "metadata": {},
     "output_type": "display_data"
    },
    {
     "data": {
      "text/plain": [
       "<function __main__.update_plot(eps)>"
      ]
     },
     "execution_count": 2,
     "metadata": {},
     "output_type": "execute_result"
    }
   ],
   "source": [
    "import torch\n",
    "import numpy as np\n",
    "from scipy.spatial import distance_matrix\n",
    "from transformers import AutoTokenizer, EsmModel\n",
    "from umap.umap_ import UMAP\n",
    "import plotly.graph_objects as go\n",
    "from ipywidgets import interact, FloatSlider\n",
    "\n",
    "tokenizer = AutoTokenizer.from_pretrained(\"facebook/esm2_t6_8M_UR50D\")\n",
    "\n",
    "def compute_hidden_states(sentence, layer):\n",
    "    # Load pre-trained model\n",
    "    global tokenizer\n",
    "    model = EsmModel.from_pretrained(\"facebook/esm2_t6_8M_UR50D\")\n",
    "\n",
    "    # Tokenize input and convert to tensor\n",
    "    inputs = tokenizer(sentence, return_tensors=\"pt\")\n",
    "\n",
    "    # Forward pass\n",
    "    outputs = model(**inputs, output_hidden_states=True)\n",
    "\n",
    "    # Obtain the hidden states for the specified layer\n",
    "    hidden_states = outputs.hidden_states[layer].detach().numpy()\n",
    "\n",
    "    return hidden_states, inputs\n",
    "\n",
    "\n",
    "# Compute the output\n",
    "output, inputs = compute_hidden_states(\"MAVESRVTQEEIKKEPEKPIDREKTCPLLLRVFTTNNGRHHRMDEFSRGNVPSSELQIYTWMDATLKELTSLVKEVYPEARKKGTHFNFAIVFTDVKRPGYRVKEIGSTMSGRKGTDDSMTLQSQKFQIGDYLDIAITPPNRAPPPSGRMRPY\", 3)\n",
    "\n",
    "# Convert the output tensor to numpy array\n",
    "output_np = output[0]\n",
    "\n",
    "# Compute the pairwise Euclidean distance matrix\n",
    "distances = distance_matrix(output_np, output_np)\n",
    "\n",
    "# Compute the number of tokens\n",
    "num_tokens = len(inputs[\"input_ids\"][0])\n",
    "\n",
    "# Decompose output to 3D for visualization using UMAP\n",
    "umap = UMAP(n_components=3)  # Set n_components to 3\n",
    "output_3d = umap.fit_transform(output_np)\n",
    "\n",
    "# Define the function to update the plot\n",
    "def update_plot(eps):\n",
    "    # Create a plotly graph object\n",
    "    fig = go.Figure()\n",
    "\n",
    "    # Get token labels\n",
    "    token_labels = [tokenizer.decode([token_id]) for token_id in inputs['input_ids'][0]]\n",
    "    \n",
    "    # Add 3D scatter plot points\n",
    "    fig.add_trace(go.Scatter3d(x=output_3d[:, 0], y=output_3d[:, 1], z=output_3d[:, 2],\n",
    "                    mode='markers+text',   # Added 'text' to 'mode' to show the token labels\n",
    "                    text=token_labels,     # Specify the text(labels) to be displayed\n",
    "                    textposition='top center',   # Position the text to be top center wrt the marker\n",
    "                    marker=dict(\n",
    "                        size=6,\n",
    "                        color='rgb(100, 150, 200)', \n",
    "                        colorscale='Viridis',   \n",
    "                        opacity=0.8\n",
    "                    ),\n",
    "                    hovertemplate = \"%{text}<br>x: %{x}<br>y: %{y}<br>z: %{z}<extra></extra>\",\n",
    "    ))\n",
    "\n",
    "    # Add edges\n",
    "    for i in range(distances.shape[0]):\n",
    "        for j in range(i+1, distances.shape[1]):\n",
    "            if distances[i, j] <= eps:\n",
    "                fig.add_trace(go.Scatter3d(x=[output_3d[i, 0], output_3d[j, 0]],\n",
    "                                        y=[output_3d[i, 1], output_3d[j, 1]], \n",
    "                                        z=[output_3d[i, 2], output_3d[j, 2]],\n",
    "                                        mode='lines',\n",
    "                                        line=dict(\n",
    "                                            color='darkblue',\n",
    "                                            width=2\n",
    "                                        )))\n",
    "\n",
    "    fig.update_layout(scene = dict(\n",
    "                    xaxis_title='X AXIS',\n",
    "                    yaxis_title='Y AXIS',\n",
    "                    zaxis_title='Z AXIS'),\n",
    "                    width=700,\n",
    "                    margin=dict(r=20, l=10, b=10, t=10))\n",
    "    fig.show()\n",
    "\n",
    "# Create the interactive widget for the threshold distance parameter\n",
    "eps_slider = FloatSlider(min=0, max=np.max(distances), step=0.01, value=0, description='eps:')\n",
    "interact(update_plot, eps=eps_slider)\n"
   ]
  },
  {
   "cell_type": "code",
   "execution_count": null,
   "metadata": {},
   "outputs": [],
   "source": []
  }
 ],
 "metadata": {
  "kernelspec": {
   "display_name": "env_1",
   "language": "python",
   "name": "python3"
  },
  "language_info": {
   "codemirror_mode": {
    "name": "ipython",
    "version": 3
   },
   "file_extension": ".py",
   "mimetype": "text/x-python",
   "name": "python",
   "nbconvert_exporter": "python",
   "pygments_lexer": "ipython3",
   "version": "3.10.11"
  },
  "orig_nbformat": 4
 },
 "nbformat": 4,
 "nbformat_minor": 2
}
