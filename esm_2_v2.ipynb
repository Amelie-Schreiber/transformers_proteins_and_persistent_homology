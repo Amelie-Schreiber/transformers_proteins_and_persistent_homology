{
 "cells": [
  {
   "attachments": {},
   "cell_type": "markdown",
   "metadata": {},
   "source": [
    "# Clustering Proteins with ESM-2 and Persistent Homology"
   ]
  },
  {
   "attachments": {},
   "cell_type": "markdown",
   "metadata": {},
   "source": [
    "This notebook will focus on analyzing protein sequences using a transformer model called ESM-2 from Facebook AI. We'll use the attention matrices from the transformer model to compute Jensen-Shannon distance matrices. Then, we'll compute persistent homology diagrams using the Gudhi library. Finally, we'll cluster these diagrams using various clustering algorithms."
   ]
  },
  {
   "cell_type": "code",
   "execution_count": 5,
   "metadata": {},
   "outputs": [],
   "source": [
    "# Let's start by importing necessary libraries\n",
    "from transformers import EsmModel, AutoTokenizer\n",
    "import gudhi as gd\n",
    "import numpy as np\n",
    "import torch\n",
    "from scipy.spatial.distance import pdist, jensenshannon, squareform\n",
    "from sklearn.cluster import KMeans, AgglomerativeClustering, DBSCAN\n",
    "from sklearn.metrics import silhouette_score\n",
    "from gudhi.hera import wasserstein_distance"
   ]
  },
  {
   "attachments": {},
   "cell_type": "markdown",
   "metadata": {},
   "source": [
    "Now, let's define some helper functions for our analysis."
   ]
  },
  {
   "cell_type": "code",
   "execution_count": 2,
   "metadata": {},
   "outputs": [],
   "source": [
    "# Helper function to get the attention matrix of a specific layer and head for a given input sequence\n",
    "def get_attention_matrix(tokenizer, model, layer, head, input_sequence):\n",
    "    model.config.output_attentions = True\n",
    "    encoded_input = tokenizer([input_sequence], return_tensors='pt', padding=True, truncation=True)\n",
    "    with torch.no_grad():\n",
    "        model_output = model(**encoded_input)\n",
    "    attention_weights = model_output.attentions\n",
    "    specific_attention_weights = attention_weights[layer][0, head]\n",
    "    return specific_attention_weights\n",
    "\n",
    "# Helper function to compute the Jensen-Shannon distance matrix\n",
    "def compute_js_distance_matrix_scipy(attention_matrix):\n",
    "    js_distances = pdist(attention_matrix, metric=jensenshannon)\n",
    "    js_distance_matrix = squareform(js_distances)\n",
    "    return js_distance_matrix\n",
    "\n",
    "# Helper function to compute the persistent homology of a given distance matrix\n",
    "def compute_persistent_homology(distance_matrix, max_dimension=3):\n",
    "    max_edge_length = np.max(distance_matrix)\n",
    "    rips_complex = gd.RipsComplex(distance_matrix=distance_matrix, max_edge_length=max_edge_length)\n",
    "    st = rips_complex.create_simplex_tree(max_dimension=max_dimension)\n",
    "    persistence = st.persistence()\n",
    "    return st, persistence\n",
    "\n",
    "# Helper function to compute the Wasserstein distances between all pairs of persistence diagrams\n",
    "def compute_wasserstein_distances(persistence_diagrams, dimension):\n",
    "    n_diagrams = len(persistence_diagrams)\n",
    "    distances = np.zeros((n_diagrams, n_diagrams))\n",
    "    filtered_diagrams = [[point for point in diagram if point[0] == dimension] for diagram in persistence_diagrams]\n",
    "    for i in range(n_diagrams):\n",
    "        for j in range(i+1, n_diagrams):\n",
    "            X = np.array([p[1] for p in filtered_diagrams[i]])\n",
    "            Y = np.array([p[1] for p in filtered_diagrams[j]])\n",
    "            distance = wasserstein_distance(X, Y)\n",
    "            distances[i][j] = distance\n",
    "            distances[j][i] = distance\n",
    "    return distances\n"
   ]
  },
  {
   "attachments": {},
   "cell_type": "markdown",
   "metadata": {},
   "source": [
    "With our helper functions ready, let's now load our transformer model and tokenizer."
   ]
  },
  {
   "cell_type": "code",
   "execution_count": 3,
   "metadata": {},
   "outputs": [
    {
     "name": "stderr",
     "output_type": "stream",
     "text": [
      "Some weights of the model checkpoint at facebook/esm2_t6_8M_UR50D were not used when initializing EsmModel: ['lm_head.dense.weight', 'lm_head.dense.bias', 'lm_head.bias', 'lm_head.layer_norm.bias', 'lm_head.layer_norm.weight']\n",
      "- This IS expected if you are initializing EsmModel from the checkpoint of a model trained on another task or with another architecture (e.g. initializing a BertForSequenceClassification model from a BertForPreTraining model).\n",
      "- This IS NOT expected if you are initializing EsmModel from the checkpoint of a model that you expect to be exactly identical (initializing a BertForSequenceClassification model from a BertForSequenceClassification model).\n",
      "Some weights of EsmModel were not initialized from the model checkpoint at facebook/esm2_t6_8M_UR50D and are newly initialized: ['esm.pooler.dense.weight', 'esm.pooler.dense.bias']\n",
      "You should probably TRAIN this model on a down-stream task to be able to use it for predictions and inference.\n"
     ]
    }
   ],
   "source": [
    "# Load the tokenizer and model\n",
    "tokenizer = AutoTokenizer.from_pretrained(\"facebook/esm2_t6_8M_UR50D\")\n",
    "model = EsmModel.from_pretrained(\"facebook/esm2_t6_8M_UR50D\")"
   ]
  },
  {
   "attachments": {},
   "cell_type": "markdown",
   "metadata": {},
   "source": [
    "Let's compute the attention matrix, Jensen-Shannon distance matrix, and persistent homology for a sample protein sequence."
   ]
  },
  {
   "cell_type": "code",
   "execution_count": 6,
   "metadata": {},
   "outputs": [],
   "source": [
    "# Define layer and head to be used\n",
    "layer = 3\n",
    "head = 2\n",
    "\n",
    "# Define a sample protein sequence\n",
    "input_sequence = \"MGWGRKRR\"\n",
    "\n",
    "# Compute the attention matrix\n",
    "attention_matrix = get_attention_matrix(tokenizer, model, layer, head, input_sequence)\n",
    "\n",
    "# Compute the Jensen-Shannon distance matrix\n",
    "distance_matrix = compute_js_distance_matrix_scipy(attention_matrix)\n",
    "\n",
    "# Compute the persistent homology\n",
    "st, persistence = compute_persistent_homology(distance_matrix, max_dimension=4)\n"
   ]
  },
  {
   "attachments": {},
   "cell_type": "markdown",
   "metadata": {},
   "source": [
    "Now that we've computed the persistent homology for our sample sequence, let's compute it for a list of protein sequences."
   ]
  },
  {
   "cell_type": "code",
   "execution_count": 31,
   "metadata": {},
   "outputs": [],
   "source": [
    "# Define a list of protein sequences\n",
    "sequences = [\n",
    "    # Protein family 1: Hemoglobin\n",
    "    \"VHLTPEEKSAVTALWGKVNVDEVGGEALGRLLVVYPWTQRFF\",\n",
    "    \"VHLTPEEKSAVTALWGKVNVDEVGGEALGRLLVVYPWTQRFFES\",\n",
    "    \"VHLTPEEKSAVTALWGKVNVDEVGGEALGRLLVVYPWTQRFFESF\",\n",
    "\n",
    "    # Protein family 2: Insulin\n",
    "    \"MALWMRFLPLLALLALWGPDPAAAFVNQHLCGSHLVEALYLVCGER\",\n",
    "    \"MALWMRFLPLLALLALWGPDPAAAFVNQHLCGSHLVEALYLVCGERG\",\n",
    "    \"MALWMRFLPLLALLALWGPDPAAAFVNQHLCGSHLVEALYLVCGERGF\",\n",
    "\n",
    "    # Protein family 3: Albumin\n",
    "    \"MKWVTVRPLLALLALWGPDPAAAFVNQHLCGSHLVEALYLVCGER\",\n",
    "    \"MKWVTVRPLLALLALWGPDPAAAFVNQHLCGSHLVEALYLVCGERG\",\n",
    "    \"MKWVTVRPLLALLALWGPDPAAAFVNQHLCGSHLVEALYLVCGERGF\",\n",
    "\n",
    "    # Protein family 4: Myoglobin\n",
    "    \"GLSDGEWQQVLNVWGKVEADIPGHGQEVLIRLFKGHPETLEKFDR\",\n",
    "    \"GLSDGEWQQVLNVWGKVEADIPGHGQEVLIRLFKGHPETLEKFDRF\",\n",
    "    \"GLSDGEWQQVLNVWGKVEADIPGHGQEVLIRLFKGHPETLEKFDRFG\",\n",
    "\n",
    "    # Protein family 5: Lysozyme\n",
    "    \"KVFGRCELAAAMKRHGLDNYRGYSLGNWVCAAKFESNFNTQATNR\",\n",
    "    \"KVFGRCELAAAMKRHGLDNYRGYSLGNWVCAAKFESNFNTQATNRN\",\n",
    "    \"KVFGRCELAAAMKRHGLDNYRGYSLGNWVCAAKFESNFNTQATNRNT\"\n",
    "]\n",
    "\n",
    "\n",
    "# Initialize list to store persistent diagrams\n",
    "persistent_diagrams = []\n",
    "\n",
    "# Compute persistent homology for each sequence\n",
    "for sequence in sequences:\n",
    "    attention_matrix = get_attention_matrix(tokenizer, model, layer, head, sequence)\n",
    "    distance_matrix = compute_js_distance_matrix_scipy(attention_matrix.numpy())\n",
    "    _, persistence_diagram = compute_persistent_homology(distance_matrix)\n",
    "    \n",
    "    # Store the persistent diagram\n",
    "    persistent_diagrams.append(persistence_diagram)\n"
   ]
  },
  {
   "attachments": {},
   "cell_type": "markdown",
   "metadata": {},
   "source": [
    "With persistent diagrams in hand, we can now compute the Wasserstein distances between all pairs of persistence diagrams, which provide a measure of similarity between the diagrams."
   ]
  },
  {
   "cell_type": "code",
   "execution_count": 32,
   "metadata": {},
   "outputs": [],
   "source": [
    "# Compute the Wasserstein distances between all pairs of persistence diagrams\n",
    "wasserstein_distances = compute_wasserstein_distances(persistent_diagrams, 0)"
   ]
  },
  {
   "attachments": {},
   "cell_type": "markdown",
   "metadata": {},
   "source": [
    "Next, compute the persistent homology of the Wasserstein distance matrix. We already have a helper function compute_persistent_homology for this."
   ]
  },
  {
   "cell_type": "code",
   "execution_count": 33,
   "metadata": {},
   "outputs": [],
   "source": [
    "# Compute the persistent homology of the Wasserstein distance matrix\n",
    "st_2, persistence_2 = compute_persistent_homology(wasserstein_distances)\n"
   ]
  },
  {
   "attachments": {},
   "cell_type": "markdown",
   "metadata": {},
   "source": [
    "Next, plot the persistence diagram using the Gudhi library."
   ]
  },
  {
   "cell_type": "code",
   "execution_count": 34,
   "metadata": {},
   "outputs": [
    {
     "data": {
      "text/plain": [
       "<Axes: title={'center': 'Persistence diagram'}, xlabel='Birth', ylabel='Death'>"
      ]
     },
     "execution_count": 34,
     "metadata": {},
     "output_type": "execute_result"
    },
    {
     "data": {
      "image/png": "[encoded data removed]",
      "text/plain": [
       "<Figure size 640x480 with 1 Axes>"
      ]
     },
     "metadata": {},
     "output_type": "display_data"
    }
   ],
   "source": [
    "# Plot the persistence diagram\n",
    "gd.plot_persistence_diagram(persistence_2)\n"
   ]
  },
  {
   "attachments": {},
   "cell_type": "markdown",
   "metadata": {},
   "source": [
    "Finally, we can use various clustering algorithms to group similar protein sequences together based on their persistence diagrams."
   ]
  },
  {
   "cell_type": "code",
   "execution_count": 43,
   "metadata": {},
   "outputs": [
    {
     "name": "stdout",
     "output_type": "stream",
     "text": [
      "Silhouette Coefficient for KMeans: 0.781\n",
      "Silhouette Coefficient for Agglomerative Clustering: 0.781\n",
      "Silhouette Coefficient for DBSCAN: 0.781\n"
     ]
    },
    {
     "name": "stderr",
     "output_type": "stream",
     "text": [
      "/Users/amelieschreiber/vscode_projects/vision_persistent_homology/.conda/lib/python3.11/site-packages/sklearn/cluster/_kmeans.py:870: FutureWarning: The default value of `n_init` will change from 10 to 'auto' in 1.4. Set the value of `n_init` explicitly to suppress the warning\n",
      "  warnings.warn(\n",
      "/Users/amelieschreiber/vscode_projects/vision_persistent_homology/.conda/lib/python3.11/site-packages/sklearn/cluster/_agglomerative.py:983: FutureWarning: Attribute `affinity` was deprecated in version 1.2 and will be removed in 1.4. Use `metric` instead\n",
      "  warnings.warn(\n"
     ]
    }
   ],
   "source": [
    "# Perform KMeans clustering\n",
    "kmeans = KMeans(n_clusters=3, random_state=0).fit(wasserstein_distances)\n",
    "labels_kmeans = kmeans.labels_\n",
    "print(\"Silhouette Coefficient for KMeans: %0.3f\" % silhouette_score(wasserstein_distances, labels_kmeans))\n",
    "\n",
    "# Perform Agglomerative Clustering\n",
    "agg_clustering = AgglomerativeClustering(n_clusters=3, affinity='precomputed', linkage='average').fit(wasserstein_distances)\n",
    "labels_agg = agg_clustering.labels_\n",
    "print(\"Silhouette Coefficient for Agglomerative Clustering: %0.3f\" % silhouette_score(wasserstein_distances, labels_agg))\n",
    "\n",
    "# Perform DBSCAN clustering\n",
    "dbscan = DBSCAN(metric=\"precomputed\", eps=0.170, min_samples=1).fit(wasserstein_distances)\n",
    "labels_dbscan = dbscan.labels_\n",
    "if len(set(labels_dbscan)) > 1:  # More than 1 cluster\n",
    "    print(\"Silhouette Coefficient for DBSCAN: %0.3f\" % silhouette_score(wasserstein_distances, labels_dbscan))\n",
    "else:\n",
    "    print(\"Cannot compute Silhouette Coefficient for DBSCAN as there is only one cluster.\")\n"
   ]
  },
  {
   "cell_type": "code",
   "execution_count": 44,
   "metadata": {},
   "outputs": [
    {
     "name": "stdout",
     "output_type": "stream",
     "text": [
      "Clusters for KMeans:\n",
      "Cluster 0: ['VHLTPEEKSAVTALWGKVNVDEVGGEALGRLLVVYPWTQRFF', 'VHLTPEEKSAVTALWGKVNVDEVGGEALGRLLVVYPWTQRFFES', 'VHLTPEEKSAVTALWGKVNVDEVGGEALGRLLVVYPWTQRFFESF', 'GLSDGEWQQVLNVWGKVEADIPGHGQEVLIRLFKGHPETLEKFDR', 'GLSDGEWQQVLNVWGKVEADIPGHGQEVLIRLFKGHPETLEKFDRF', 'GLSDGEWQQVLNVWGKVEADIPGHGQEVLIRLFKGHPETLEKFDRFG', 'KVFGRCELAAAMKRHGLDNYRGYSLGNWVCAAKFESNFNTQATNR', 'KVFGRCELAAAMKRHGLDNYRGYSLGNWVCAAKFESNFNTQATNRN', 'KVFGRCELAAAMKRHGLDNYRGYSLGNWVCAAKFESNFNTQATNRNT']\n",
      "Cluster 1: ['MKWVTVRPLLALLALWGPDPAAAFVNQHLCGSHLVEALYLVCGER', 'MKWVTVRPLLALLALWGPDPAAAFVNQHLCGSHLVEALYLVCGERG', 'MKWVTVRPLLALLALWGPDPAAAFVNQHLCGSHLVEALYLVCGERGF']\n",
      "Cluster 2: ['MALWMRFLPLLALLALWGPDPAAAFVNQHLCGSHLVEALYLVCGER', 'MALWMRFLPLLALLALWGPDPAAAFVNQHLCGSHLVEALYLVCGERG', 'MALWMRFLPLLALLALWGPDPAAAFVNQHLCGSHLVEALYLVCGERGF']\n",
      "\n",
      "Clusters for Agglomerative Clustering:\n",
      "Cluster 0: ['VHLTPEEKSAVTALWGKVNVDEVGGEALGRLLVVYPWTQRFF', 'VHLTPEEKSAVTALWGKVNVDEVGGEALGRLLVVYPWTQRFFES', 'VHLTPEEKSAVTALWGKVNVDEVGGEALGRLLVVYPWTQRFFESF', 'GLSDGEWQQVLNVWGKVEADIPGHGQEVLIRLFKGHPETLEKFDR', 'GLSDGEWQQVLNVWGKVEADIPGHGQEVLIRLFKGHPETLEKFDRF', 'GLSDGEWQQVLNVWGKVEADIPGHGQEVLIRLFKGHPETLEKFDRFG', 'KVFGRCELAAAMKRHGLDNYRGYSLGNWVCAAKFESNFNTQATNR', 'KVFGRCELAAAMKRHGLDNYRGYSLGNWVCAAKFESNFNTQATNRN', 'KVFGRCELAAAMKRHGLDNYRGYSLGNWVCAAKFESNFNTQATNRNT']\n",
      "Cluster 1: ['MALWMRFLPLLALLALWGPDPAAAFVNQHLCGSHLVEALYLVCGER', 'MALWMRFLPLLALLALWGPDPAAAFVNQHLCGSHLVEALYLVCGERG', 'MALWMRFLPLLALLALWGPDPAAAFVNQHLCGSHLVEALYLVCGERGF']\n",
      "Cluster 2: ['MKWVTVRPLLALLALWGPDPAAAFVNQHLCGSHLVEALYLVCGER', 'MKWVTVRPLLALLALWGPDPAAAFVNQHLCGSHLVEALYLVCGERG', 'MKWVTVRPLLALLALWGPDPAAAFVNQHLCGSHLVEALYLVCGERGF']\n",
      "\n",
      "Clusters for DBSCAN:\n",
      "Cluster 0: ['VHLTPEEKSAVTALWGKVNVDEVGGEALGRLLVVYPWTQRFF', 'VHLTPEEKSAVTALWGKVNVDEVGGEALGRLLVVYPWTQRFFES', 'VHLTPEEKSAVTALWGKVNVDEVGGEALGRLLVVYPWTQRFFESF', 'GLSDGEWQQVLNVWGKVEADIPGHGQEVLIRLFKGHPETLEKFDR', 'GLSDGEWQQVLNVWGKVEADIPGHGQEVLIRLFKGHPETLEKFDRF', 'GLSDGEWQQVLNVWGKVEADIPGHGQEVLIRLFKGHPETLEKFDRFG', 'KVFGRCELAAAMKRHGLDNYRGYSLGNWVCAAKFESNFNTQATNR', 'KVFGRCELAAAMKRHGLDNYRGYSLGNWVCAAKFESNFNTQATNRN', 'KVFGRCELAAAMKRHGLDNYRGYSLGNWVCAAKFESNFNTQATNRNT']\n",
      "Cluster 1: ['MALWMRFLPLLALLALWGPDPAAAFVNQHLCGSHLVEALYLVCGER', 'MALWMRFLPLLALLALWGPDPAAAFVNQHLCGSHLVEALYLVCGERG', 'MALWMRFLPLLALLALWGPDPAAAFVNQHLCGSHLVEALYLVCGERGF']\n",
      "Cluster 2: ['MKWVTVRPLLALLALWGPDPAAAFVNQHLCGSHLVEALYLVCGER', 'MKWVTVRPLLALLALWGPDPAAAFVNQHLCGSHLVEALYLVCGERG', 'MKWVTVRPLLALLALWGPDPAAAFVNQHLCGSHLVEALYLVCGERGF']\n"
     ]
    }
   ],
   "source": [
    "# Create a list of protein sequences that corresponds to the order of the Wasserstein distance matrix\n",
    "sequences = [\n",
    "    # Protein family 1: Hemoglobin\n",
    "    \"VHLTPEEKSAVTALWGKVNVDEVGGEALGRLLVVYPWTQRFF\",\n",
    "    \"VHLTPEEKSAVTALWGKVNVDEVGGEALGRLLVVYPWTQRFFES\",\n",
    "    \"VHLTPEEKSAVTALWGKVNVDEVGGEALGRLLVVYPWTQRFFESF\",\n",
    "\n",
    "    # Protein family 2: Insulin\n",
    "    \"MALWMRFLPLLALLALWGPDPAAAFVNQHLCGSHLVEALYLVCGER\",\n",
    "    \"MALWMRFLPLLALLALWGPDPAAAFVNQHLCGSHLVEALYLVCGERG\",\n",
    "    \"MALWMRFLPLLALLALWGPDPAAAFVNQHLCGSHLVEALYLVCGERGF\",\n",
    "\n",
    "    # Protein family 3: Albumin\n",
    "    \"MKWVTVRPLLALLALWGPDPAAAFVNQHLCGSHLVEALYLVCGER\",\n",
    "    \"MKWVTVRPLLALLALWGPDPAAAFVNQHLCGSHLVEALYLVCGERG\",\n",
    "    \"MKWVTVRPLLALLALWGPDPAAAFVNQHLCGSHLVEALYLVCGERGF\",\n",
    "\n",
    "    # Protein family 4: Myoglobin\n",
    "    \"GLSDGEWQQVLNVWGKVEADIPGHGQEVLIRLFKGHPETLEKFDR\",\n",
    "    \"GLSDGEWQQVLNVWGKVEADIPGHGQEVLIRLFKGHPETLEKFDRF\",\n",
    "    \"GLSDGEWQQVLNVWGKVEADIPGHGQEVLIRLFKGHPETLEKFDRFG\",\n",
    "\n",
    "    # Protein family 5: Lysozyme\n",
    "    \"KVFGRCELAAAMKRHGLDNYRGYSLGNWVCAAKFESNFNTQATNR\",\n",
    "    \"KVFGRCELAAAMKRHGLDNYRGYSLGNWVCAAKFESNFNTQATNRN\",\n",
    "    \"KVFGRCELAAAMKRHGLDNYRGYSLGNWVCAAKFESNFNTQATNRNT\"\n",
    "]\n",
    "\n",
    "\n",
    "\n",
    "# Print the clusters for KMeans\n",
    "print(\"Clusters for KMeans:\")\n",
    "kmeans_clusters = {i: [] for i in set(labels_kmeans)}\n",
    "for sequence, label in zip(sequences, labels_kmeans):\n",
    "    kmeans_clusters[label].append(sequence)\n",
    "for label, cluster in kmeans_clusters.items():\n",
    "    print(f\"Cluster {label}: {cluster}\")\n",
    "\n",
    "# Print the clusters for Agglomerative Clustering\n",
    "print(\"\\nClusters for Agglomerative Clustering:\")\n",
    "agg_clusters = {i: [] for i in set(labels_agg)}\n",
    "for sequence, label in zip(sequences, labels_agg):\n",
    "    agg_clusters[label].append(sequence)\n",
    "for label, cluster in agg_clusters.items():\n",
    "    print(f\"Cluster {label}: {cluster}\")\n",
    "\n",
    "# Print the clusters for DBSCAN\n",
    "print(\"\\nClusters for DBSCAN:\")\n",
    "dbscan_clusters = {i: [] for i in set(labels_dbscan)}\n",
    "for sequence, label in zip(sequences, labels_dbscan):\n",
    "    dbscan_clusters[label].append(sequence)\n",
    "for label, cluster in dbscan_clusters.items():\n",
    "    print(f\"Cluster {label}: {cluster}\")\n"
   ]
  },
  {
   "attachments": {},
   "cell_type": "markdown",
   "metadata": {},
   "source": [
    "Next, we can calculate the ARI for each pair of clustering results:"
   ]
  },
  {
   "cell_type": "code",
   "execution_count": 45,
   "metadata": {},
   "outputs": [
    {
     "name": "stdout",
     "output_type": "stream",
     "text": [
      "Adjusted Rand Index for KMeans and Agglomerative Clustering: 1.0\n",
      "Adjusted Rand Index for KMeans and DBSCAN: 1.0\n",
      "Adjusted Rand Index for Agglomerative Clustering and DBSCAN: 1.0\n"
     ]
    }
   ],
   "source": [
    "from sklearn.metrics import adjusted_rand_score\n",
    "\n",
    "# Calculate ARIs\n",
    "ari_kmeans_agg = adjusted_rand_score(labels_kmeans, labels_agg)\n",
    "ari_kmeans_dbscan = adjusted_rand_score(labels_kmeans, labels_dbscan)\n",
    "ari_agg_dbscan = adjusted_rand_score(labels_agg, labels_dbscan)\n",
    "\n",
    "# Print ARIs\n",
    "print(f\"Adjusted Rand Index for KMeans and Agglomerative Clustering: {ari_kmeans_agg}\")\n",
    "print(f\"Adjusted Rand Index for KMeans and DBSCAN: {ari_kmeans_dbscan}\")\n",
    "print(f\"Adjusted Rand Index for Agglomerative Clustering and DBSCAN: {ari_agg_dbscan}\")\n"
   ]
  },
  {
   "attachments": {},
   "cell_type": "markdown",
   "metadata": {},
   "source": [
    "The ARI scores will give you a measure of the similarity between the clusters found by the different algorithms. Please note that while the ARI can give a general sense of the similarity between different sets of clusters, it doesn't provide a detailed comparison of the clusters. For example, it won't tell you which specific clusters in one algorithm correspond to the clusters in another algorithm. To do that, you'd need to look more closely at the specific elements in each cluster and see where they appear in the other set of clusters."
   ]
  },
  {
   "cell_type": "markdown",
   "metadata": {},
   "source": []
  }
 ],
 "metadata": {
  "kernelspec": {
   "display_name": "Python 3",
   "language": "python",
   "name": "python3"
  },
  "language_info": {
   "codemirror_mode": {
    "name": "ipython",
    "version": 3
   },
   "file_extension": ".py",
   "mimetype": "text/x-python",
   "name": "python",
   "nbconvert_exporter": "python",
   "pygments_lexer": "ipython3",
   "version": "3.11.3"
  },
  "orig_nbformat": 4
 },
 "nbformat": 4,
 "nbformat_minor": 2
}
