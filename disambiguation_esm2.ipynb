{
 "cells": [
  {
   "attachments": {},
   "cell_type": "markdown",
   "metadata": {},
   "source": [
    "# Local Homology Protein Sequence Analysis: unsupervised motif disambiguation\n",
    "\n",
    "This is based on the Natural Language Processing [(NLP) Notebook](https://github.com/giotto-ai/giotto-tda/blob/master/examples/local_hom_NLP_disambiguation.ipynb) and the paper [Topology of Word Embeddings: Singularities Reflect Polysemy](https://arxiv.org/abs/2011.09413). However, in place of word embedding we use the internal representations of ESM-2 (hidden states of layers). So, this turns out to be a model interpretability and analysis technique, as well as a motif function disambiguation technique. In particular, this work is related to [Intrinsic Dimension Estimation for Robust Detection of AI-Generated Texts](https://arxiv.org/abs/2306.04723). It is not yet clear how well the technique transfers over to prtein sequences, but this notebook should serve as a starting point for investigating this. \n",
    "\n",
    "In this tutorial, we apply local homology to study protein sequence data. We showcase how to use local homology to disambiguate sequential motifs. In particular, we focus our analysis to disambiguate a specific motif, which can have different functional implications depending on its context within the protein sequence. If you are looking at a static version of this notebook and would like to run its contents, head over to GitHub and download the source.\n",
    "\n",
    "## See also\n",
    "[Topological feature extraction using VietorisRipsPersistence and PersistenceEntropy](https://giotto-ai.github.io/gtda-docs/latest/notebooks/vietoris_rips_quickstart.html) for a quick introduction to general topological feature extraction in giotto-tda. [Local Homology](https://github.com/giotto-ai/giotto-tda/blob/master/examples/local_homology.ipynb), in which Giotto-TDA introduces the `RadiusLocalVietorisRips` and `KNeighborsLocalVietorisRips` \"transformers\" used here are introduced. This should not be confused with the Transformer architecture of ESM-2, which we will be using in this notebook as well. \n",
    "\n",
    "## The context\n",
    "Most modern machine learning techniques dealing with protein sequence data need to preprocess these sequences and transform them into more standard objects: arrays. The process of transforming a protein sequence into an array is done through the use of protein embeddings.\n",
    "\n",
    "The disadvantage of most embedding techniques is that the same sequential motif is mapped to the same array. Hence, if two motifs have the same sequence but different functional implications, such motifs will anyway be mapped to the same array! Unless of course we are working with latent embeddings that take context into account, such as those found in transformers (protein language models). In this case, the *context vectors* associated to motifs will change depending on their context. However, the manifold that the context vectors lie on may still have a singular locus and the values of the context vectors may not change very much depending on the quality of the protein language model, the particular attention head or layer used to compute the latent representation of the motif of interest, and depending on the motif itself. Some motifs may lie on smooth regions, while others may be highly singular. Determining properties of the embedding manifold given by the hidden states of a layer of ESM-2 is similar to the work in NLP mentioned above. We note in particular this has applications to protein topic modeling using [ESMTopic](https://github.com/Amelie-Schreiber/transformers_proteins_and_persistent_homology), as well as model interpretability where the topology and Hausdorff dimension of the embedding manifold are important to study. \n",
    "\n",
    "## The task\n",
    "Given the above introduction, our task is to disambiguate sequential motifs, i.e., finding a way to differentiate motifs by their functional implications. Our approach consists of analysing the whole protein sequence in which the motif appears and try to deduce the function of the motif from its context (i.e., neighbouring amino acids). The core idea of our proposal is based on the algebraic topology description of the space of protein embeddings. \n",
    "\n",
    "## The main idea\n",
    "We are structuring our analysis on the assumptions that are clearly explained in [Topology of Word Embeddings: Singularities Reflect Polysemy](https://arxiv.org/abs/2011.09413). In a few words, the idea is that a sequential motif with multiple functional implications sits on the singular loci of the stratified space of the protein embeddings. This sentence is in truth not formally correct, as there is yet no clear notion of what is the canonical topology in the protein embedding space; nonetheless, the intuition behind these concepts can be explained pictorially:"
   ]
  },
  {
   "attachments": {},
   "cell_type": "markdown",
   "metadata": {},
   "source": [
    "<div style=\"text-align:center\">\n",
    "    <img src=\"disambiguation.png\" alt=\"Word Manifold\" width=\"500\"/>\n",
    "</div>"
   ]
  },
  {
   "attachments": {},
   "cell_type": "markdown",
   "metadata": {},
   "source": [
    "This picture represents the local shape of the word-embedding space: the context words are located over the four cones tipping at the word mole (the singularity). Hence, a sentence from a thriller containing the word mole would most probably be located on the north-west branch, and so on.\n",
    "\n",
    "This picture could also represent the local shape of the protein-embedding space: the contextual amino acids are located over the four cones tipping at the specific motif (the singularity). Hence, a sequence from a protein involved in a particular biological process containing the motif would most probably be located on the north-west branch, and so on.\n",
    "\n",
    "## The goal of our exploration\n",
    "\n",
    "We would first like to stress that this notebook is merely exploratory and that there is no aim at making it a fully-fledged ML pipeline for motif disambiguation. We would really like to understand if the shape of the cones around the singularity (i.e., the motif point) can be distinguished with local homology: if that is the case, then the geometric shape of a protein sequence lying on the protein embedding stratified space correlates with the function of a motif! This entails a new disambiguation technique."
   ]
  },
  {
   "cell_type": "code",
   "execution_count": 122,
   "metadata": {},
   "outputs": [
    {
     "name": "stdout",
     "output_type": "stream",
     "text": [
      "Requirement already satisfied: torch in ./biochem_1/lib/python3.10/site-packages (2.0.1)\n",
      "Requirement already satisfied: filelock in ./biochem_1/lib/python3.10/site-packages (from torch) (3.12.2)\n",
      "Requirement already satisfied: typing-extensions in ./biochem_1/lib/python3.10/site-packages (from torch) (4.7.1)\n",
      "Requirement already satisfied: sympy in ./biochem_1/lib/python3.10/site-packages (from torch) (1.12)\n",
      "Requirement already satisfied: networkx in ./biochem_1/lib/python3.10/site-packages (from torch) (3.1)\n",
      "Requirement already satisfied: jinja2 in ./biochem_1/lib/python3.10/site-packages (from torch) (3.1.2)\n",
      "Requirement already satisfied: MarkupSafe>=2.0 in ./biochem_1/lib/python3.10/site-packages (from jinja2->torch) (2.1.3)\n",
      "Requirement already satisfied: mpmath>=0.19 in ./biochem_1/lib/python3.10/site-packages (from sympy->torch) (1.3.0)\n"
     ]
    }
   ],
   "source": [
    "!pip install numpy==1.24.0 -q\n",
    "!pip install numba -q\n",
    "!pip install umap-learn -q\n",
    "!pip install giotto-tda -q\n",
    "!pip install gensim -q\n",
    "!pip install transformers -q\n",
    "!pip install torch\n"
   ]
  },
  {
   "cell_type": "code",
   "execution_count": 123,
   "metadata": {},
   "outputs": [],
   "source": [
    "# Import PyData libraries\n",
    "import numpy as np\n",
    "import matplotlib.pyplot as plt\n",
    "%matplotlib inline\n",
    "from sklearn.base import BaseEstimator, TransformerMixin\n",
    "from sklearn.preprocessing import StandardScaler, FunctionTransformer\n",
    "from sklearn.pipeline import make_pipeline, Pipeline\n",
    "\n",
    "# Import umap for dimensionality reduction and visualization\n",
    "# umap-learn is not a requirement of giotto-tda, but is needed here.\n",
    "from umap import UMAP\n",
    "\n",
    "# giotto-tda imports\n",
    "from gtda.plotting import plot_point_cloud\n",
    "from gtda.local_homology import KNeighborsLocalVietorisRips\n",
    "from gtda.diagrams import PersistenceEntropy"
   ]
  },
  {
   "attachments": {},
   "cell_type": "markdown",
   "metadata": {},
   "source": [
    "## The dataset and its preprocessing\n",
    "The dataset contains many occurrences of the motif with the function lying on some manifold which potentially has a singularity if the motif has multiple functions in different contexts. Note, the functional roles below have not been checked and the protein sequences are synthetic, generated by GPT-4. "
   ]
  },
  {
   "cell_type": "code",
   "execution_count": 124,
   "metadata": {},
   "outputs": [],
   "source": [
    "# First, let's create a file with thirty protein sequences, each with a common sequential motif.\n",
    "\n",
    "# Define the common sequential motif\n",
    "motif = \"KRKCGHLG\"\n",
    "\n",
    "# Define the rest of the protein sequences\n",
    "proteins = [\n",
    "# The motif acts as a binding site\n",
    "\"ADKERKCGHLGHTLFSYKLLGKDTVAATGRVLQAIDGKMFSKC\" + \"KRKCGHLG\" + \"DKS\", # Binding site\n",
    "\"MDFLKRKCGHLGTPQQVKKERLKCGHMGMNVFGQKYTLAAALM\" + \"KRKCGHLG\" + \"RD\", # Binding site\n",
    "\"TVASQKRKCGHLGTWISGDLFTKAKVQLIKCGHLGVNVVLGDQT\" + \"KRKCGHLG\" + \"AI\", # Binding site\n",
    "\"DDFQKRKCGHLGSFRYIQAVKAKKQARLKCGHMGMNKITMFFRL\" + \"KRKCGHLG\" + \"TK\", # Binding site\n",
    "\"VFLGKRKCGHLGKRARLAAVQMLKKRKCGHMGMLSGVFKRKCGH\" + \"KRKCGHLG\" + \"QR\", # Binding site\n",
    "\"GIGGRKRKCGHLGGMIKQIRATGKAKFLLKCGHLGVIVLSGP\" + \"KRKCGHLG\" + \"MG\", # Binding site\n",
    "\n",
    "# The motif acts as a catalytic site\n",
    "\"ATGVLKRKCGHLGVALWSTLQILKCGHMGARVTAYGGFATKRKCG\" + \"KRKCGHLG\" + \"AQT\", # Catalytic site\n",
    "\"QQALKRKCGHLGVTIVTQGVSQTKRKCGHMGRKAGIDFDKRKCG\" + \"KRKCGHLG\" + \"AAL\", # Catalytic site\n",
    "\"FTYSQKRKCGHLGQITGAGSARLKCGHMGMQALGKTTKRKCGH\" + \"KRKCGHLG\" + \"LGK\", # Catalytic site\n",
    "\"MDFGKRKCGHLGTPQQVKKERLKCGHMGMNVFGQKYTLAAALMK\" + \"KRKCGHLG\" + \"HM\", # Catalytic site\n",
    "\"TVAVRKCGHLGKWISGDLFTKAKVQLIKCGHLGVNVVLGDQTVA\" + \"KRKCGHLG\" + \"LAAVI\", # Catalytic site\n",
    "\"DDFQKRKCGHLGSFRYIQAVKAKKQARLKCGHMGMNKITMFFRL\" + \"KRKCGHLG\" + \"TETKA\", # Catalytic site\n",
    "\n",
    "# The motif acts as a structural component\n",
    "\"VFLGKRKCGHLGKRARLAAVQMLKKRKCGHMGMLSGVFKRKCGH\" + \"KRKCGHLG\" + \"MGQS\", # Structural component\n",
    "\"GIGGRKRKCGHLGGMIKQIRATGKAKFLLKCGHLGVIVLSGP\" + \"KRKCGHLG\" + \"MG\", # Structural component\n",
    "\"ATGVLKRKCGHLGVALWSTLQILKCGHMGARVTAYGGFATKRKCG\" + \"KRKCGHLG\" + \"AQT\", # Structural component\n",
    "\"QQALKRKCGHLGVTIVTQGVSQTKRKCGHMGRKAGIDFDKRKCG\" + \"KRKCGHLG\" + \"AAL\", # Structural component\n",
    "\"FTYSQKRKCGHLGQITGAGSARLKCGHMGMQALGKTTKRKCGH\" + \"KRKCGHLG\" + \"LGK\", # Structural component\n",
    "\"ADKERKCGHLGHTLFSYKLLGKDTVAATGRVLQAIDGKMFSKC\" + \"KRKCGHLG\" + \"DKS\", # Structural component\n",
    "\n",
    "# The motif acts as a signal peptide\n",
    "\"MDFLKRKCGHLGTPQQVKKERLKCGHMGMNVFGQKYTLAAALM\" + \"KRKCGHLG\" + \"RD\", # Signal peptide\n",
    "\"TVASQKRKCGHLGTWISGDLFTKAKVQLIKCGHLGVNVVLGDQT\" + \"KRKCGHLG\" + \"AI\", # Signal peptide\n",
    "\"DDFQKRKCGHLGSFRYIQAVKAKKQARLKCGHMGMNKITMFFRL\" + \"KRKCGHLG\" + \"TK\", # Signal peptide\n",
    "\"VFLGKRKCGHLGKRARLAAVQMLKKRKCGHMGMLSGVFKRKCGH\" + \"KRKCGHLG\" + \"QR\", # Signal peptide\n",
    "\"GIGGRKRKCGHLGGMIKQIRATGKAKFLLKCGHLGVIVLSGP\" + \"KRKCGHLG\" + \"MG\", # Signal peptide\n",
    "\"ATGVLKRKCGHLGVALWSTLQILKCGHMGARVTAYGGFATKRKCG\" + \"KRKCGHLG\" + \"AQT\", # Signal peptide\n",
    "\n",
    "# The motif acts as a cellular localization signal\n",
    "\"QQALKRKCGHLGVTIVTQGVSQTKRKCGHMGRKAGIDFDKRKCG\" + \"KRKCGHLG\" + \"AAL\", # Localization signal\n",
    "\"FTYSQKRKCGHLGQITGAGSARLKCGHMGMQALGKTTKRKCGH\" + \"KRKCGHLG\" + \"LGK\", # Localization signal\n",
    "\"MDFGKRKCGHLGTPQQVKKERLKCGHMGMNVFGQKYTLAAALMK\" + \"KRKCGHLG\" + \"HM\", # Localization signal\n",
    "\"TVAVRKCGHLGKWISGDLFTKAKVQLIKCGHLGVNVVLGDQTVA\" + \"KRKCGHLG\" + \"LAAVI\", # Localization signal\n",
    "\"DDFQKRKCGHLGSFRYIQAVKAKKQARLKCGHMGMNKITMFFRL\" + \"KRKCGHLG\" + \"TETKA\", # Localization signal\n",
    "\"VFLGKRKCGHLGKRARLAAVQMLKKRKCGHMGMLSGVFKRKCGH\" + \"KRKCGHLG\" + \"QR\", # Localization signal\n",
    "\n",
    "# The motif acts as a binding site\n",
    "\"GYKARKRKCGHLGSATKYLQTGFRRN\" + motif + \"AKQYTMIGSLA\",\n",
    "\"FTLTTRKRKCGHLGSKVAKDLDTKT\" + motif + \"ASVRGVVSKQI\",\n",
    "\"SHKGDKRKCGHLGKGAVGYAIAKKG\" + motif + \"AAAVRLMGKIY\",\n",
    "\"IVKYVFKRKCGHLGGKSMIGRTGTG\" + motif + \"VAGVRLSVIG\",\n",
    "\"KMKQSKRKCGHLGVGATGQSKAGMR\" + motif + \"GKSVKAGVYR\",\n",
    "\"GITKIKRKCGHLGAKGVGKSGKAVG\" + motif + \"RKGSMVAAGI\",\n",
    "\n",
    "# The motif acts as a catalytic site\n",
    "\"AAGSRKRKCGHLGVGVYAGGAVGKS\" + motif + \"TGVGYKAVGS\",\n",
    "\"SVGKGARKRKCGHLGKGVAGYKGVY\" + motif + \"AYGVGVKGSI\",\n",
    "\"GASKSKRKCGHLGVYKGSVGKVAGY\" + motif + \"AGYKGASKAV\",\n",
    "\"YGVGAARKRKCGHLGGVYGSKAVYK\" + motif + \"VAGSGKGAVY\",\n",
    "\"ASKGGVKRKCGHLGAYKGVAASKVG\" + motif + \"GAYKGAGASK\",\n",
    "\"SVKGARKRKCGHLGVYKAGSVAAGY\" + motif + \"KAGAYGVASK\",\n",
    "\n",
    "# The motif acts as a structural component\n",
    "\"GKAVSVARKRKCGHLGKSVGVAAGA\" + motif + \"VKGASKSGAV\",\n",
    "\"AYGKGARKRKCGHLGAYKGAVGKSV\" + motif + \"GVAYKAGSVK\",\n",
    "\"GVKGARKRKCGHLGAYAGGVSVGKY\" + motif + \"KGAYKASKGV\",\n",
    "\"SVGARKRKCGHLGKAGVGYAGGVKG\" + motif + \"KSVGAYGVA\",\n",
    "\"AYKGARKRKCGHLGGKVAYAGKSVK\" + motif + \"YGVGKAGGVA\",\n",
    "\"VKGARKRKCGHLGGVYKGVAASKVG\" + motif + \"GVASKAVAYG\",\n",
    "\n",
    "# The motif acts as a signal peptide\n",
    "\"AYKVARKRKCGHLGKAGSVAGYKGA\" + motif + \"SGVYKGVAAS\",\n",
    "\"SGKGARKRKCGHLGGVYGKSVAYAG\" + motif + \"VKGASKAGVA\",\n",
    "\"GAGVARKRKCGHLGGVYGVKGAYSV\" + motif + \"SVKAGYGVAS\",\n",
    "\"VAGGARKRKCGHLGGVGKVAYSVGA\" + motif + \"KGVAASKGAY\",\n",
    "\"KGAARKRKCGHLGKGVAASKGAYSV\" + motif + \"AGYAGKVGSV\",\n",
    "\"KGARKRKCGHLGVGKGAYAGSVGAV\" + motif + \"GAYGVKGASK\",\n",
    "\n",
    "# The motif acts as a cellular localization signal\n",
    "\"GAGSVKRKCGHLGGVKGVAYSVGAA\" + motif + \"AGKAYSVGAG\",\n",
    "\"KAGSVKRKCGHLGKGVAAGYGKSVG\" + motif + \"SVAGKSVGAY\",\n",
    "\"GKSVARKRKCGHLGKSVGKAGVGAY\" + motif + \"AGGVKGAYSV\",\n",
    "\"AGSVKRKCGHLGGYKGVGASKAGGV\" + motif + \"KGAYSVGKGV\",\n",
    "\"GVKRKCGHLGAYGVKGAGSVGAYGV\" + motif + \"SVKAGSVGKY\",\n",
    "\"AGKRKCGHLGVAYGKSVGKVAYGVG\" + motif + \"GASKVAYGVK\"\n",
    "]\n",
    "\n",
    "\n",
    "\n",
    "# Write the protein sequences to a file\n",
    "with open(\"protein_sequences.txt\", \"w\") as f:\n",
    "    for protein in proteins:\n",
    "        f.write(protein + \"\\n\")\n"
   ]
  },
  {
   "cell_type": "code",
   "execution_count": 125,
   "metadata": {},
   "outputs": [],
   "source": [
    "# Preprocess the data\n",
    "with open(\"protein_sequences.txt\", \"r\") as f:\n",
    "    content = f.read()\n",
    "\n",
    "# Split the protein sequences\n",
    "proteins = content.split(\"\\n\")\n",
    "\n",
    "# Now proteins is a list of protein sequences"
   ]
  },
  {
   "attachments": {},
   "cell_type": "markdown",
   "metadata": {},
   "source": [
    "Next, we extract sequences from our corpus and vectorize their words using the hidden states of a layer of ESM-2:"
   ]
  },
  {
   "cell_type": "code",
   "execution_count": 126,
   "metadata": {},
   "outputs": [],
   "source": [
    "class PreprocessProteins(BaseEstimator, TransformerMixin):\n",
    "    \"\"\"A class to transform a list of protein sequences into a list of model output tensors\"\"\"\n",
    "    def __init__(self):\n",
    "        self.tokenizer = AutoTokenizer.from_pretrained(\"facebook/esm2_t6_8M_UR50D\")\n",
    "        self.model = EsmModel.from_pretrained(\"facebook/esm2_t6_8M_UR50D\", output_hidden_states=True)\n",
    "\n",
    "    def fit(self, X, y=None):\n",
    "        return self\n",
    "\n",
    "    def transform(self, X, y=None, layer=-1):\n",
    "        list_of_outputs = []\n",
    "        for sequence in X:\n",
    "            inputs = self.tokenizer(sequence, return_tensors=\"pt\")\n",
    "            outputs = self.model(**inputs)\n",
    "            hidden_states = outputs.hidden_states[layer].detach()  # Detach the tensor before storing it\n",
    "            hidden_states_2d = hidden_states[0].numpy()  # Convert to 2D numpy array\n",
    "            list_of_outputs.append(hidden_states_2d)\n",
    "        return list_of_outputs\n"
   ]
  },
  {
   "cell_type": "code",
   "execution_count": 127,
   "metadata": {},
   "outputs": [
    {
     "name": "stderr",
     "output_type": "stream",
     "text": [
      "Some weights of EsmModel were not initialized from the model checkpoint at facebook/esm2_t6_8M_UR50D and are newly initialized: ['esm.pooler.dense.bias', 'esm.pooler.dense.weight']\n",
      "You should probably TRAIN this model on a down-stream task to be able to use it for predictions and inference.\n",
      "Some weights of EsmModel were not initialized from the model checkpoint at facebook/esm2_t6_8M_UR50D and are newly initialized: ['esm.pooler.dense.bias', 'esm.pooler.dense.weight']\n",
      "You should probably TRAIN this model on a down-stream task to be able to use it for predictions and inference.\n"
     ]
    }
   ],
   "source": [
    "from transformers import AutoTokenizer, EsmModel\n",
    "import torch\n",
    "\n",
    "tokenizer = AutoTokenizer.from_pretrained(\"facebook/esm2_t6_8M_UR50D\")\n",
    "model = EsmModel.from_pretrained(\"facebook/esm2_t6_8M_UR50D\")\n",
    "\n",
    "pp = PreprocessProteins()\n",
    "list_of_model_outputs = pp.transform(proteins, layer=6)  # all model outputs for each protein sequence from the first layer\n"
   ]
  },
  {
   "attachments": {},
   "cell_type": "markdown",
   "metadata": {},
   "source": [
    "## The exploratory results\n",
    "Here below we see a couple of sentences containing the word \"note\" with the different meanings described above."
   ]
  },
  {
   "cell_type": "code",
   "execution_count": 128,
   "metadata": {},
   "outputs": [
    {
     "name": "stdout",
     "output_type": "stream",
     "text": [
      "Example of the first preprocessed protein sequence:\n",
      "proteins[0] = ADKERKCGHLGHTLFSYKLLGKDTVAATGRVLQAIDGKMFSKCKRKCGHLGDKS\n",
      "\n",
      "Example of the second preprocessed protein sequence:\n",
      "proteins[1] = MDFLKRKCGHLGTPQQVKKERLKCGHMGMNVFGQKYTLAAALMKRKCGHLGRD\n"
     ]
    }
   ],
   "source": [
    "print(f\"\"\"Example of the first preprocessed protein sequence:\n",
    "proteins[0] = {proteins[0]}\n",
    "\n",
    "Example of the second preprocessed protein sequence:\n",
    "proteins[1] = {proteins[1]}\"\"\")\n"
   ]
  },
  {
   "attachments": {},
   "cell_type": "markdown",
   "metadata": {},
   "source": [
    "## Local homology pipeline\n",
    "As explained in Topological feature extraction using VietorisRipsPersistence and PersistenceEntropy, \"persistence diagrams\" are a common and useful way to store information about the topology and geometry of data. Their content can be summarized and made interpretable even further by means of a variety of featurization methods.\n",
    "\n",
    "We will use a similar topological feature extraction method as in the Local Homology notebook, and apply it to our Word2Vec embeddings! In particular, we will fit our local homology transformer on either of the example sentences above (seen as point clouds of word vectors) and transform it on the fixed Word2Vec embedding for the word \"note\", to see if any topological differences arise."
   ]
  },
  {
   "cell_type": "code",
   "execution_count": 129,
   "metadata": {},
   "outputs": [
    {
     "data": {
      "text/plain": [
       "array([[4.17244333, 1.        ]])"
      ]
     },
     "execution_count": 129,
     "metadata": {},
     "output_type": "execute_result"
    }
   ],
   "source": [
    "# Initialize a `KNeighborsLocalVietorisRips` local homology transformer.\n",
    "n_neighbors = (5, 15)\n",
    "homology_dimensions = (0, 1)\n",
    "collapse_edges = True\n",
    "n_jobs = -1\n",
    "kn_lh = KNeighborsLocalVietorisRips(n_neighbors=n_neighbors,\n",
    "                                    homology_dimensions=homology_dimensions,\n",
    "                                    collapse_edges=collapse_edges,\n",
    "                                    n_jobs=n_jobs)\n",
    "\n",
    "# Define a featurization method for persistence diagrams.\n",
    "mod_pe =  make_pipeline(PersistenceEntropy(),\n",
    "                        FunctionTransformer(func=lambda X: 2 ** X))\n",
    "\n",
    "# Fit the local homology transformer on the hidden states of the first protein, \n",
    "# and apply it to the hidden states of the first amino acid\n",
    "kn_lh.fit(list_of_model_outputs[0][0].reshape(-1, 1))\n",
    "mod_pe.fit_transform(kn_lh.transform(list_of_model_outputs[0][0][0].reshape(-1, 1)))\n"
   ]
  },
  {
   "cell_type": "code",
   "execution_count": 130,
   "metadata": {},
   "outputs": [
    {
     "data": {
      "text/plain": [
       "array([[4.17244333, 1.        ],\n",
       "       [4.07330844, 1.        ],\n",
       "       [4.4647313 , 1.        ],\n",
       "       [3.11727676, 1.        ],\n",
       "       [4.76016026, 1.        ],\n",
       "       [3.6126144 , 1.        ],\n",
       "       [3.64179577, 1.        ],\n",
       "       [4.34183903, 1.        ]])"
      ]
     },
     "execution_count": 130,
     "metadata": {},
     "output_type": "execute_result"
    }
   ],
   "source": [
    "# Fit the local homology transformer on the hidden states of the first protein, \n",
    "# and apply it to the hidden states of the motif\n",
    "kn_lh.fit(list_of_model_outputs[0][0].reshape(-1, 1))\n",
    "mod_pe.fit_transform(kn_lh.transform(list_of_model_outputs[0][0][:len(motif)].reshape(-1, 1)))\n"
   ]
  },
  {
   "attachments": {},
   "cell_type": "markdown",
   "metadata": {},
   "source": [
    "We now visualize the ptotein embeddings of two different sentences, using UMAP to perform dimensionality reduction:"
   ]
  },
  {
   "cell_type": "code",
   "execution_count": 131,
   "metadata": {},
   "outputs": [],
   "source": [
    "def plotting_the_embedding(i, string):\n",
    "    \"\"\"this function displays the protein embedding space reduced\n",
    "    to two dimensions by the UMAP algorithm. In yellow the motif\n",
    "    is highlighted.\"\"\"\n",
    "    # for loop to find the instance of the motif\n",
    "    motif_start = proteins[i].index(motif)\n",
    "    motif_end = motif_start + len(motif)\n",
    "\n",
    "    temp = np.zeros((list_of_model_outputs[i][0].shape[0]))\n",
    "    temp[motif_start:motif_end] = 1\n",
    "\n",
    "    reducer = UMAP()\n",
    "\n",
    "    scaled_point_cloud = StandardScaler().fit_transform(list_of_model_outputs[i][0].detach().numpy())\n",
    "\n",
    "    embedding = reducer.fit_transform(scaled_point_cloud)\n",
    "\n",
    "    plt.scatter(\n",
    "        embedding[:, 0],\n",
    "        embedding[:, 1], c = temp)\n",
    "    plt.gca().set_aspect('equal', 'datalim')\n",
    "    plt.title(f'Motif in protein {i}', fontsize=24)\n",
    "\n",
    "    # Example of protein sequence with the motif\n",
    "    print(\"Protein sequence: \")\n",
    "    print(proteins[i])\n",
    "    kn_lh.fit(list_of_model_outputs[i][0].detach().numpy())\n",
    "\n",
    "    print(\"First and second Betti numbers:\")\n",
    "    print(mod_pe.fit_transform(kn_lh.transform(list_of_model_outputs[i][0][motif_start:motif_end].detach().numpy())))\n"
   ]
  },
  {
   "cell_type": "code",
   "execution_count": 132,
   "metadata": {},
   "outputs": [],
   "source": [
    "# Motif in species A protein\n",
    "# plotting_the_embedding(0, \"species A protein\")\n"
   ]
  },
  {
   "cell_type": "code",
   "execution_count": 133,
   "metadata": {},
   "outputs": [],
   "source": [
    "# Motif in species B protein\n",
    "# plotting_the_embedding(1, \"species B protein\")"
   ]
  },
  {
   "attachments": {},
   "cell_type": "markdown",
   "metadata": {},
   "source": [
    "The technique seems promising: the results above show a clear distinction between the local shape of the neighborhoods for the motif with different meanings.\n",
    "\n",
    "## A small scale statistical exploration\n",
    "We now look at 60 sequences where the motif might take different functions (which should be labeled in the future). For each of the 60 sequences, we look at the $0^{th}$ and $1^{st}$ dimension local homology around the motif and plot the obtained $2$ dimensional pointcloud coloured by the function of the motif in the sequence."
   ]
  },
  {
   "cell_type": "code",
   "execution_count": 134,
   "metadata": {},
   "outputs": [
    {
     "name": "stderr",
     "output_type": "stream",
     "text": [
      "/Users/amelieschreiber/vscode_projects/biochem/biochem_1/lib/python3.10/site-packages/gtda/local_homology/simplicial.py:304: UserWarning: First n_neighbors is too large to be relevant. Consider reducing it.\n",
      "  warnings.warn(\"First n_neighbors is too large to be relevant. \"\n"
     ]
    },
    {
     "data": {
      "text/plain": [
       "Text(0.5, 1.0, 'Local dimension around the motif')"
      ]
     },
     "execution_count": 134,
     "metadata": {},
     "output_type": "execute_result"
    },
    {
     "data": {
      "image/png": "[encoded data removed]",
      "text/plain": [
       "<Figure size 640x480 with 1 Axes>"
      ]
     },
     "metadata": {},
     "output_type": "display_data"
    }
   ],
   "source": [
    "motif_emb = pp.transform([motif], layer=6)[0]\n",
    "motif_loc_hom = []\n",
    "for i in range(len(proteins)):\n",
    "    kn_lh = KNeighborsLocalVietorisRips(n_neighbors=(5, 15),\n",
    "                                     homology_dimensions=(0, 1),\n",
    "                                     collapse_edges=True,\n",
    "                                     n_jobs=-1)\n",
    "    sequence_emb = list_of_model_outputs[i]\n",
    "    kn_lh.fit(sequence_emb)\n",
    "    motif_loc_hom.append(mod_pe.fit_transform(kn_lh.transform(motif_emb))[0])\n",
    "\n",
    "motif_loc_hom = np.array(motif_loc_hom)\n",
    "\n",
    "colors = [i%4 for i in range(len(motif_loc_hom))]\n",
    "plt.scatter(motif_loc_hom[:, 0], motif_loc_hom[:, 1], c = colors)\n",
    "plt.gca().set_aspect('equal', 'datalim')\n",
    "plt.title('Local dimension around the motif', fontsize=24)\n"
   ]
  },
  {
   "attachments": {},
   "cell_type": "markdown",
   "metadata": {},
   "source": [
    "## Conclusion\n",
    "The method seems possible for protein sequences. However, it is difficult to tell with small scale experiements if ti will work in general. In particular, the function of the motif (in yellow) is supposed to have very varying local dimensions, whereas the other classes should be more clustered together. A lot more work is needed: especially, systematising the anylsis, finding the proper vectorisation of local homology, and interpeting the above plot in terms of protein sequences and dimensionality of the embedding manifold. We really hope that this notebook will pique your interests and suggest new relevant research directions for you. If you have feedback or helpful suggestions on this, it is always appreciated. If you have a simple interpretation of the results, please share!"
   ]
  }
 ],
 "metadata": {
  "kernelspec": {
   "display_name": "Python 3",
   "language": "python",
   "name": "python3"
  },
  "language_info": {
   "codemirror_mode": {
    "name": "ipython",
    "version": 3
   },
   "file_extension": ".py",
   "mimetype": "text/x-python",
   "name": "python",
   "nbconvert_exporter": "python",
   "pygments_lexer": "ipython3",
   "version": "3.10.9"
  },
  "orig_nbformat": 4
 },
 "nbformat": 4,
 "nbformat_minor": 2
}
